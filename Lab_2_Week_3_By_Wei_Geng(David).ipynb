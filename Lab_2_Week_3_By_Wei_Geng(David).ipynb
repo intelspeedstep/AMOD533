{
  "nbformat": 4,
  "nbformat_minor": 0,
  "metadata": {
    "colab": {
      "name": "Lab #2 - Week #3 By Wei Geng(David).ipynb",
      "provenance": [],
      "collapsed_sections": []
    },
    "kernelspec": {
      "name": "python3",
      "display_name": "Python 3"
    }
  },
  "cells": [
    {
      "cell_type": "code",
      "metadata": {
        "id": "njRBvvtbZcEy",
        "colab_type": "code",
        "colab": {}
      },
      "source": [
        "# Class IT-533 Week #3  - Wrangling Data: Preprocessing and Visualizing\n",
        "# Summer 2020\n",
        "# Lab #2 - UCI_Credit_Card.csv\n",
        "# By Wei Geng(David) and Anusha Bale\n",
        "# Created on: 05/31/2020\n",
        "# Honor Code: “I have neither given or received, nor have I tolerated others' use of unauthorized aid.”"
      ],
      "execution_count": 0,
      "outputs": []
    },
    {
      "cell_type": "code",
      "metadata": {
        "id": "9Vgck51GZlu7",
        "colab_type": "code",
        "outputId": "cecc34dc-de13-49ae-94db-a3bf11275122",
        "colab": {
          "base_uri": "https://localhost:8080/",
          "height": 218
        }
      },
      "source": [
        "# Convert to pandas DataFrame\n",
        "pip install pandas\n",
        "import io\n",
        "import pandas as pd\n",
        "credit_card_df = pd.read_csv('https://raw.githubusercontent.com/intelspeedstep/AMOD533/master/UCI_Credit_Card.csv')\n",
        "credit_card_df.head()"
      ],
      "execution_count": 2,
      "outputs": [
        {
          "output_type": "execute_result",
          "data": {
            "text/html": [
              "<div>\n",
              "<style scoped>\n",
              "    .dataframe tbody tr th:only-of-type {\n",
              "        vertical-align: middle;\n",
              "    }\n",
              "\n",
              "    .dataframe tbody tr th {\n",
              "        vertical-align: top;\n",
              "    }\n",
              "\n",
              "    .dataframe thead th {\n",
              "        text-align: right;\n",
              "    }\n",
              "</style>\n",
              "<table border=\"1\" class=\"dataframe\">\n",
              "  <thead>\n",
              "    <tr style=\"text-align: right;\">\n",
              "      <th></th>\n",
              "      <th>ID</th>\n",
              "      <th>LIMIT_BAL</th>\n",
              "      <th>SEX</th>\n",
              "      <th>EDUCATION</th>\n",
              "      <th>MARRIAGE</th>\n",
              "      <th>AGE</th>\n",
              "      <th>PAY_0</th>\n",
              "      <th>PAY_2</th>\n",
              "      <th>PAY_3</th>\n",
              "      <th>PAY_4</th>\n",
              "      <th>PAY_5</th>\n",
              "      <th>PAY_6</th>\n",
              "      <th>BILL_AMT1</th>\n",
              "      <th>BILL_AMT2</th>\n",
              "      <th>BILL_AMT3</th>\n",
              "      <th>BILL_AMT4</th>\n",
              "      <th>BILL_AMT5</th>\n",
              "      <th>BILL_AMT6</th>\n",
              "      <th>PAY_AMT1</th>\n",
              "      <th>PAY_AMT2</th>\n",
              "      <th>PAY_AMT3</th>\n",
              "      <th>PAY_AMT4</th>\n",
              "      <th>PAY_AMT5</th>\n",
              "      <th>PAY_AMT6</th>\n",
              "      <th>default.payment.next.month</th>\n",
              "    </tr>\n",
              "  </thead>\n",
              "  <tbody>\n",
              "    <tr>\n",
              "      <th>0</th>\n",
              "      <td>1</td>\n",
              "      <td>20000.0</td>\n",
              "      <td>2</td>\n",
              "      <td>2</td>\n",
              "      <td>1</td>\n",
              "      <td>24</td>\n",
              "      <td>2</td>\n",
              "      <td>2</td>\n",
              "      <td>-1</td>\n",
              "      <td>-1</td>\n",
              "      <td>-2</td>\n",
              "      <td>-2</td>\n",
              "      <td>3913.0</td>\n",
              "      <td>3102.0</td>\n",
              "      <td>689.0</td>\n",
              "      <td>0.0</td>\n",
              "      <td>0.0</td>\n",
              "      <td>0.0</td>\n",
              "      <td>0.0</td>\n",
              "      <td>689.0</td>\n",
              "      <td>0.0</td>\n",
              "      <td>0.0</td>\n",
              "      <td>0.0</td>\n",
              "      <td>0.0</td>\n",
              "      <td>1</td>\n",
              "    </tr>\n",
              "    <tr>\n",
              "      <th>1</th>\n",
              "      <td>2</td>\n",
              "      <td>120000.0</td>\n",
              "      <td>2</td>\n",
              "      <td>2</td>\n",
              "      <td>2</td>\n",
              "      <td>26</td>\n",
              "      <td>-1</td>\n",
              "      <td>2</td>\n",
              "      <td>0</td>\n",
              "      <td>0</td>\n",
              "      <td>0</td>\n",
              "      <td>2</td>\n",
              "      <td>2682.0</td>\n",
              "      <td>1725.0</td>\n",
              "      <td>2682.0</td>\n",
              "      <td>3272.0</td>\n",
              "      <td>3455.0</td>\n",
              "      <td>3261.0</td>\n",
              "      <td>0.0</td>\n",
              "      <td>1000.0</td>\n",
              "      <td>1000.0</td>\n",
              "      <td>1000.0</td>\n",
              "      <td>0.0</td>\n",
              "      <td>2000.0</td>\n",
              "      <td>1</td>\n",
              "    </tr>\n",
              "    <tr>\n",
              "      <th>2</th>\n",
              "      <td>3</td>\n",
              "      <td>90000.0</td>\n",
              "      <td>2</td>\n",
              "      <td>2</td>\n",
              "      <td>2</td>\n",
              "      <td>34</td>\n",
              "      <td>0</td>\n",
              "      <td>0</td>\n",
              "      <td>0</td>\n",
              "      <td>0</td>\n",
              "      <td>0</td>\n",
              "      <td>0</td>\n",
              "      <td>29239.0</td>\n",
              "      <td>14027.0</td>\n",
              "      <td>13559.0</td>\n",
              "      <td>14331.0</td>\n",
              "      <td>14948.0</td>\n",
              "      <td>15549.0</td>\n",
              "      <td>1518.0</td>\n",
              "      <td>1500.0</td>\n",
              "      <td>1000.0</td>\n",
              "      <td>1000.0</td>\n",
              "      <td>1000.0</td>\n",
              "      <td>5000.0</td>\n",
              "      <td>0</td>\n",
              "    </tr>\n",
              "    <tr>\n",
              "      <th>3</th>\n",
              "      <td>4</td>\n",
              "      <td>50000.0</td>\n",
              "      <td>2</td>\n",
              "      <td>2</td>\n",
              "      <td>1</td>\n",
              "      <td>37</td>\n",
              "      <td>0</td>\n",
              "      <td>0</td>\n",
              "      <td>0</td>\n",
              "      <td>0</td>\n",
              "      <td>0</td>\n",
              "      <td>0</td>\n",
              "      <td>46990.0</td>\n",
              "      <td>48233.0</td>\n",
              "      <td>49291.0</td>\n",
              "      <td>28314.0</td>\n",
              "      <td>28959.0</td>\n",
              "      <td>29547.0</td>\n",
              "      <td>2000.0</td>\n",
              "      <td>2019.0</td>\n",
              "      <td>1200.0</td>\n",
              "      <td>1100.0</td>\n",
              "      <td>1069.0</td>\n",
              "      <td>1000.0</td>\n",
              "      <td>0</td>\n",
              "    </tr>\n",
              "    <tr>\n",
              "      <th>4</th>\n",
              "      <td>5</td>\n",
              "      <td>50000.0</td>\n",
              "      <td>1</td>\n",
              "      <td>2</td>\n",
              "      <td>1</td>\n",
              "      <td>57</td>\n",
              "      <td>-1</td>\n",
              "      <td>0</td>\n",
              "      <td>-1</td>\n",
              "      <td>0</td>\n",
              "      <td>0</td>\n",
              "      <td>0</td>\n",
              "      <td>8617.0</td>\n",
              "      <td>5670.0</td>\n",
              "      <td>35835.0</td>\n",
              "      <td>20940.0</td>\n",
              "      <td>19146.0</td>\n",
              "      <td>19131.0</td>\n",
              "      <td>2000.0</td>\n",
              "      <td>36681.0</td>\n",
              "      <td>10000.0</td>\n",
              "      <td>9000.0</td>\n",
              "      <td>689.0</td>\n",
              "      <td>679.0</td>\n",
              "      <td>0</td>\n",
              "    </tr>\n",
              "  </tbody>\n",
              "</table>\n",
              "</div>"
            ],
            "text/plain": [
              "   ID  LIMIT_BAL  SEX  ...  PAY_AMT5  PAY_AMT6  default.payment.next.month\n",
              "0   1    20000.0    2  ...       0.0       0.0                           1\n",
              "1   2   120000.0    2  ...       0.0    2000.0                           1\n",
              "2   3    90000.0    2  ...    1000.0    5000.0                           0\n",
              "3   4    50000.0    2  ...    1069.0    1000.0                           0\n",
              "4   5    50000.0    1  ...     689.0     679.0                           0\n",
              "\n",
              "[5 rows x 25 columns]"
            ]
          },
          "metadata": {
            "tags": []
          },
          "execution_count": 2
        }
      ]
    },
    {
      "cell_type": "markdown",
      "metadata": {
        "id": "EzJxBQQjEYMY",
        "colab_type": "text"
      },
      "source": [
        ""
      ]
    },
    {
      "cell_type": "code",
      "metadata": {
        "id": "SNe34DsGEsSt",
        "colab_type": "code",
        "outputId": "6d743bb8-b699-4f5b-b0db-04e0d826be91",
        "colab": {
          "base_uri": "https://localhost:8080/",
          "height": 635
        }
      },
      "source": [
        "# output the data attributes and its datatypes, plus the shape of the dataset\n",
        "print(credit_card_df.info(verbose=True))\n",
        "print(credit_card_df.shape)"
      ],
      "execution_count": 3,
      "outputs": [
        {
          "output_type": "stream",
          "text": [
            "<class 'pandas.core.frame.DataFrame'>\n",
            "RangeIndex: 30000 entries, 0 to 29999\n",
            "Data columns (total 25 columns):\n",
            " #   Column                      Non-Null Count  Dtype  \n",
            "---  ------                      --------------  -----  \n",
            " 0   ID                          30000 non-null  int64  \n",
            " 1   LIMIT_BAL                   30000 non-null  float64\n",
            " 2   SEX                         30000 non-null  int64  \n",
            " 3   EDUCATION                   30000 non-null  int64  \n",
            " 4   MARRIAGE                    30000 non-null  int64  \n",
            " 5   AGE                         30000 non-null  int64  \n",
            " 6   PAY_0                       30000 non-null  int64  \n",
            " 7   PAY_2                       30000 non-null  int64  \n",
            " 8   PAY_3                       30000 non-null  int64  \n",
            " 9   PAY_4                       30000 non-null  int64  \n",
            " 10  PAY_5                       30000 non-null  int64  \n",
            " 11  PAY_6                       30000 non-null  int64  \n",
            " 12  BILL_AMT1                   30000 non-null  float64\n",
            " 13  BILL_AMT2                   30000 non-null  float64\n",
            " 14  BILL_AMT3                   30000 non-null  float64\n",
            " 15  BILL_AMT4                   30000 non-null  float64\n",
            " 16  BILL_AMT5                   30000 non-null  float64\n",
            " 17  BILL_AMT6                   30000 non-null  float64\n",
            " 18  PAY_AMT1                    30000 non-null  float64\n",
            " 19  PAY_AMT2                    30000 non-null  float64\n",
            " 20  PAY_AMT3                    30000 non-null  float64\n",
            " 21  PAY_AMT4                    30000 non-null  float64\n",
            " 22  PAY_AMT5                    30000 non-null  float64\n",
            " 23  PAY_AMT6                    30000 non-null  float64\n",
            " 24  default.payment.next.month  30000 non-null  int64  \n",
            "dtypes: float64(13), int64(12)\n",
            "memory usage: 5.7 MB\n",
            "None\n",
            "(30000, 25)\n"
          ],
          "name": "stdout"
        }
      ]
    },
    {
      "cell_type": "markdown",
      "metadata": {
        "id": "4X4BF5cCEmE-",
        "colab_type": "text"
      },
      "source": [
        "### <font color = 'orange'>Question #1: Data Transformation: Pick three variables whose data types may be more useful as another data type and use R or Python to transform them to numeric or character/ categorical format.  Then, explain in no less than 3 sentences what this transformation will allow you to accomplish analytically later on.</font>\n",
        "<br> <font color = 'green'>Answer:1) Transforming \"sex\" from numeric to categorical would allow me to slice and dice the data by comparing \"sex\" to see if there is disparities between male and female. 2) Transforming \"education\" from numeric to categorical would allow me to slice and dice the data by comparing education to see if there is disparities between people with different education level. 3) Transforming \"marriage\" from numeric to categorical would allow me to slice and dice the data by comparing marital status to see if there is disparities between people with different married and single.\n",
        "</font></br>"
      ]
    },
    {
      "cell_type": "code",
      "metadata": {
        "id": "UwLrValhVtRQ",
        "colab_type": "code",
        "outputId": "31f1de38-f244-4132-dd4b-fc1a4b235696",
        "colab": {
          "base_uri": "https://localhost:8080/",
          "height": 308
        }
      },
      "source": [
        "# Exam the levels of each variable which I picked --  sex, education and marriage\n",
        "print(credit_card_df['SEX'].value_counts(normalize=True,dropna=False))\n",
        "print(credit_card_df['EDUCATION'].value_counts(normalize=True,dropna=False))\n",
        "print(credit_card_df['MARRIAGE'].value_counts(normalize=True,dropna=False))"
      ],
      "execution_count": 4,
      "outputs": [
        {
          "output_type": "stream",
          "text": [
            "2    0.603733\n",
            "1    0.396267\n",
            "Name: SEX, dtype: float64\n",
            "2    0.467667\n",
            "1    0.352833\n",
            "3    0.163900\n",
            "5    0.009333\n",
            "4    0.004100\n",
            "6    0.001700\n",
            "0    0.000467\n",
            "Name: EDUCATION, dtype: float64\n",
            "2    0.532133\n",
            "1    0.455300\n",
            "3    0.010767\n",
            "0    0.001800\n",
            "Name: MARRIAGE, dtype: float64\n"
          ],
          "name": "stdout"
        }
      ]
    },
    {
      "cell_type": "code",
      "metadata": {
        "id": "9CNwtczXRYZW",
        "colab_type": "code",
        "outputId": "1b2555e1-995f-4027-a72c-15c31998fd68",
        "colab": {
          "base_uri": "https://localhost:8080/",
          "height": 199
        }
      },
      "source": [
        "# I would pick sex, education and marriage to transform them from numeric to categorical(object) using map function\n",
        "credit_card_df['SEX']=credit_card_df['SEX'].map({1:'male',2:'female'})\n",
        "credit_card_df['EDUCATION']=credit_card_df['EDUCATION'].map({1:'graduate school',2:'university',3:'high school',4:'others',5:'others',6:'others',0:'others'})\n",
        "credit_card_df['MARRIAGE']=credit_card_df['MARRIAGE'].map({1:'married',2:'single',3:'others',0:'others'})\n",
        "credit_card_df[['SEX','EDUCATION','MARRIAGE']].info(verbose=True)"
      ],
      "execution_count": 5,
      "outputs": [
        {
          "output_type": "stream",
          "text": [
            "<class 'pandas.core.frame.DataFrame'>\n",
            "RangeIndex: 30000 entries, 0 to 29999\n",
            "Data columns (total 3 columns):\n",
            " #   Column     Non-Null Count  Dtype \n",
            "---  ------     --------------  ----- \n",
            " 0   SEX        30000 non-null  object\n",
            " 1   EDUCATION  30000 non-null  object\n",
            " 2   MARRIAGE   30000 non-null  object\n",
            "dtypes: object(3)\n",
            "memory usage: 703.2+ KB\n"
          ],
          "name": "stdout"
        }
      ]
    },
    {
      "cell_type": "markdown",
      "metadata": {
        "id": "RfIAggh0H8kb",
        "colab_type": "text"
      },
      "source": [
        "### <font color = 'orange'>Question #2: Data Substitution: Use R or Python to substitute values in at least two variables. Explain in no less than 3 sentences how you decided what values to use for substitution and, in addition to your explanation, show your code.</font>\n",
        "<br> <font color = 'green'>Answer: There are two variables I used substitute method to replace values. 1) In the code book, there is no definition or explaination of what 'others' means in the Education attributes. It is better to replace 'others' with 'unknown' because it is very likily that this information was not collected at the data collection level. 2) The same issue we have for the marriage attributes. we dont have clear definition of what 'other' really mean. so, we will replace it with 'unknown'.  </font>\n"
      ]
    },
    {
      "cell_type": "code",
      "metadata": {
        "id": "ajsaksyodugM",
        "colab_type": "code",
        "colab": {
          "base_uri": "https://localhost:8080/",
          "height": 54
        },
        "outputId": "1a8fe58e-69b1-4efd-8042-fe56e0667312"
      },
      "source": [
        "credit_card_df['EDUCATION']=credit_card_df['EDUCATION'].str.replace('others','unknown')\n",
        "credit_card_df['MARRIAGE']=credit_card_df['MARRIAGE'].str.replace('others','unknown')\n",
        "print('Values in Education Variable are: ',credit_card_df['EDUCATION'].unique())\n",
        "print('Values in Marriage Variable are: ',credit_card_df['MARRIAGE'].unique())"
      ],
      "execution_count": 6,
      "outputs": [
        {
          "output_type": "stream",
          "text": [
            "Values in Education Variable are:  ['university' 'graduate school' 'high school' 'unknown']\n",
            "Values in Marriage Variable are:  ['married' 'single' 'unknown']\n"
          ],
          "name": "stdout"
        }
      ]
    },
    {
      "cell_type": "markdown",
      "metadata": {
        "id": "0iQIJ0iOKhZJ",
        "colab_type": "text"
      },
      "source": [
        "### <font color = 'orange'>Question #3: Data Reduction: Pick two variables that could be simplified, either by combining two or more attributes (=columns) into one, or by binning or bucketing, then use R or Python to accomplish this.  Explain in no less than 3 sentences what benefit this may provide for any later analysis. </font>\n",
        "<br> <font color = 'green'>Answer: I pick two variables, BILL_AMT and PAY_AMT to simplify. First, I would average all 6 amount columns, then use the qcut() method to binning the avarege amount at customer level. Last, I output the binning values for BILL_AMT and PAY_AMT. You can see the results in code below."
      ]
    },
    {
      "cell_type": "code",
      "metadata": {
        "id": "21IQKke0KkB_",
        "colab_type": "code",
        "outputId": "9fc91441-8225-4752-9ae8-c1d17d6fa9ab",
        "colab": {
          "base_uri": "https://localhost:8080/",
          "height": 290
        }
      },
      "source": [
        "# Simplify BILL_AMT variables by binning the average of all bill amounts into 10 category values\n",
        "credit_card_df['BILL_AMT_AVG']=credit_card_df[['BILL_AMT1','BILL_AMT2','BILL_AMT3','BILL_AMT4','BILL_AMT5','BILL_AMT6']].mean(axis=1)\n",
        "credit_card_df['BILL_AMT_AVG_CAT']=pd.qcut(credit_card_df['BILL_AMT_AVG'],10,precision=2)\n",
        "credit_card_df['BILL_AMT_AVG_CAT'].drop_duplicates().sort_values().reset_index(drop=True)"
      ],
      "execution_count": 7,
      "outputs": [
        {
          "output_type": "execute_result",
          "data": {
            "text/plain": [
              "0       (-56043.18, 697.28]\n",
              "1         (697.28, 2861.17]\n",
              "2        (2861.17, 7373.52]\n",
              "3        (7373.52, 13764.1]\n",
              "4       (13764.1, 21051.83]\n",
              "5      (21051.83, 31478.83]\n",
              "6      (31478.83, 46277.53]\n",
              "7      (46277.53, 72535.13]\n",
              "8     (72535.13, 123933.23]\n",
              "9    (123933.23, 877313.83]\n",
              "Name: BILL_AMT_AVG_CAT, dtype: category\n",
              "Categories (10, interval[float64]): [(-56043.18, 697.28] < (697.28, 2861.17] < (2861.17, 7373.52] <\n",
              "                                     (7373.52, 13764.1] ... (31478.83, 46277.53] <\n",
              "                                     (46277.53, 72535.13] < (72535.13, 123933.23] <\n",
              "                                     (123933.23, 877313.83]]"
            ]
          },
          "metadata": {
            "tags": []
          },
          "execution_count": 7
        }
      ]
    },
    {
      "cell_type": "code",
      "metadata": {
        "id": "jxDQBu7CNJ_U",
        "colab_type": "code",
        "outputId": "54fdb7aa-cea1-41e0-f8ad-3993a095e2ad",
        "colab": {
          "base_uri": "https://localhost:8080/",
          "height": 272
        }
      },
      "source": [
        "# Simplify PAY_AMT variables by binning the average of all payment amounts into 10 category values\n",
        "credit_card_df['PAY_AMT_AVG']=credit_card_df[['PAY_AMT1','PAY_AMT2','PAY_AMT3','PAY_AMT4','PAY_AMT5','PAY_AMT6']].mean(axis=1)\n",
        "credit_card_df['PAY_AMT_AVG_CAT']=pd.qcut(credit_card_df['PAY_AMT_AVG'],10,precision=2)\n",
        "credit_card_df['PAY_AMT_AVG_CAT'].drop_duplicates().sort_values().reset_index(drop=True)"
      ],
      "execution_count": 8,
      "outputs": [
        {
          "output_type": "execute_result",
          "data": {
            "text/plain": [
              "0          (-0.01, 404.07]\n",
              "1         (404.07, 913.47]\n",
              "2        (913.47, 1306.67]\n",
              "3       (1306.67, 1755.03]\n",
              "4       (1755.03, 2397.17]\n",
              "5       (2397.17, 3341.13]\n",
              "6       (3341.13, 4697.77]\n",
              "7       (4697.77, 6810.73]\n",
              "8      (6810.73, 11958.27]\n",
              "9    (11958.27, 627344.33]\n",
              "Name: PAY_AMT_AVG_CAT, dtype: category\n",
              "Categories (10, interval[float64]): [(-0.01, 404.07] < (404.07, 913.47] < (913.47, 1306.67] <\n",
              "                                     (1306.67, 1755.03] ... (3341.13, 4697.77] < (4697.77, 6810.73] <\n",
              "                                     (6810.73, 11958.27] < (11958.27, 627344.33]]"
            ]
          },
          "metadata": {
            "tags": []
          },
          "execution_count": 8
        }
      ]
    },
    {
      "cell_type": "markdown",
      "metadata": {
        "id": "plxr6cA-R3GC",
        "colab_type": "text"
      },
      "source": [
        "### <font color = 'orange'>Question #4: Now that you have a better dataset, list three (3) important organizational analytical questions that management could ask about the dataset in order to help them make business or organizational decisions.  </font>\n",
        "<br> <font color = 'green'>Answer: Below are the question I think the management would ask: 1) Management team need to better understand our customers, so could you breakdown the customers by demographics such as age, gender, and education? 2) Which is the group that get most average bill amount, and what are their attributes? 3) Which is the group that pay least average pay amount, and is the group who are senior citizens?   </font>"
      ]
    }
  ]
}