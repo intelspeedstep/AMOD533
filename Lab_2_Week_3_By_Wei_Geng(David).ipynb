{
  "nbformat": 4,
  "nbformat_minor": 0,
  "metadata": {
    "colab": {
      "name": "Lab #2 - Week #3 By Wei Geng(David).ipynb",
      "provenance": [],
      "collapsed_sections": []
    },
    "kernelspec": {
      "name": "python3",
      "display_name": "Python 3"
    }
  },
  "cells": [
    {
      "cell_type": "code",
      "metadata": {
        "id": "njRBvvtbZcEy",
        "colab_type": "code",
        "colab": {}
      },
      "source": [
        "# Class IT-533 Week #3  - Wrangling Data: Preprocessing and Visualizing\n",
        "# Summer 2020\n",
        "# Lab #2 - UCI_Credit_Card.csv\n",
        "# By Wei Geng(David) and Anusha Bale\n",
        "# Created on: 05/31/2020\n",
        "# Honor Code: “I have neither given or received, nor have I tolerated others' use of unauthorized aid.”"
      ],
      "execution_count": 0,
      "outputs": []
    },
    {
      "cell_type": "code",
      "metadata": {
        "id": "8npOXrx7gRIU",
        "colab_type": "code",
        "colab": {}
      },
      "source": [
        "# install pandas in case you dont have pandas pre-installed\n",
        "%pip install pandas"
      ],
      "execution_count": 0,
      "outputs": []
    },
    {
      "cell_type": "code",
      "metadata": {
        "id": "9Vgck51GZlu7",
        "colab_type": "code",
        "outputId": "ae1878c6-6239-49de-82da-337634bf5ed5",
        "colab": {
          "base_uri": "https://localhost:8080/",
          "height": 198
        }
      },
      "source": [
        "# Convert to pandas DataFrame\n",
        "import io\n",
        "import numpy as np\n",
        "import pandas as pd\n",
        "remen_df = pd.read_csv('https://raw.githubusercontent.com/intelspeedstep/AMOD533/master/ramen-ratings.csv')\n",
        "remen_df.head()"
      ],
      "execution_count": 3,
      "outputs": [
        {
          "output_type": "execute_result",
          "data": {
            "text/html": [
              "<div>\n",
              "<style scoped>\n",
              "    .dataframe tbody tr th:only-of-type {\n",
              "        vertical-align: middle;\n",
              "    }\n",
              "\n",
              "    .dataframe tbody tr th {\n",
              "        vertical-align: top;\n",
              "    }\n",
              "\n",
              "    .dataframe thead th {\n",
              "        text-align: right;\n",
              "    }\n",
              "</style>\n",
              "<table border=\"1\" class=\"dataframe\">\n",
              "  <thead>\n",
              "    <tr style=\"text-align: right;\">\n",
              "      <th></th>\n",
              "      <th>Review #</th>\n",
              "      <th>Brand</th>\n",
              "      <th>Variety</th>\n",
              "      <th>Style</th>\n",
              "      <th>Country</th>\n",
              "      <th>Stars</th>\n",
              "      <th>Top Ten</th>\n",
              "    </tr>\n",
              "  </thead>\n",
              "  <tbody>\n",
              "    <tr>\n",
              "      <th>0</th>\n",
              "      <td>2580</td>\n",
              "      <td>New Touch</td>\n",
              "      <td>T's Restaurant Tantanmen</td>\n",
              "      <td>Cup</td>\n",
              "      <td>Japan</td>\n",
              "      <td>3.75</td>\n",
              "      <td>NaN</td>\n",
              "    </tr>\n",
              "    <tr>\n",
              "      <th>1</th>\n",
              "      <td>2579</td>\n",
              "      <td>Just Way</td>\n",
              "      <td>Noodles Spicy Hot Sesame Spicy Hot Sesame Guan...</td>\n",
              "      <td>Pack</td>\n",
              "      <td>Taiwan</td>\n",
              "      <td>1</td>\n",
              "      <td>NaN</td>\n",
              "    </tr>\n",
              "    <tr>\n",
              "      <th>2</th>\n",
              "      <td>2578</td>\n",
              "      <td>Nissin</td>\n",
              "      <td>Cup Noodles Chicken Vegetable</td>\n",
              "      <td>Cup</td>\n",
              "      <td>USA</td>\n",
              "      <td>2.25</td>\n",
              "      <td>NaN</td>\n",
              "    </tr>\n",
              "    <tr>\n",
              "      <th>3</th>\n",
              "      <td>2577</td>\n",
              "      <td>Wei Lih</td>\n",
              "      <td>GGE Ramen Snack Tomato Flavor</td>\n",
              "      <td>Pack</td>\n",
              "      <td>Taiwan</td>\n",
              "      <td>2.75</td>\n",
              "      <td>NaN</td>\n",
              "    </tr>\n",
              "    <tr>\n",
              "      <th>4</th>\n",
              "      <td>2576</td>\n",
              "      <td>Ching's Secret</td>\n",
              "      <td>Singapore Curry</td>\n",
              "      <td>Pack</td>\n",
              "      <td>India</td>\n",
              "      <td>3.75</td>\n",
              "      <td>NaN</td>\n",
              "    </tr>\n",
              "  </tbody>\n",
              "</table>\n",
              "</div>"
            ],
            "text/plain": [
              "   Review #           Brand  ... Stars Top Ten\n",
              "0      2580       New Touch  ...  3.75     NaN\n",
              "1      2579        Just Way  ...     1     NaN\n",
              "2      2578          Nissin  ...  2.25     NaN\n",
              "3      2577         Wei Lih  ...  2.75     NaN\n",
              "4      2576  Ching's Secret  ...  3.75     NaN\n",
              "\n",
              "[5 rows x 7 columns]"
            ]
          },
          "metadata": {
            "tags": []
          },
          "execution_count": 3
        }
      ]
    },
    {
      "cell_type": "markdown",
      "metadata": {
        "id": "EzJxBQQjEYMY",
        "colab_type": "text"
      },
      "source": [
        ""
      ]
    },
    {
      "cell_type": "code",
      "metadata": {
        "id": "SNe34DsGEsSt",
        "colab_type": "code",
        "outputId": "9ac049b0-e739-4564-a1f8-25f5eb1b9baa",
        "colab": {
          "base_uri": "https://localhost:8080/",
          "height": 308
        }
      },
      "source": [
        "# output the data attributes and its datatypes, plus the shape of the dataset\n",
        "print(remen_df.info(verbose=True))\n",
        "print(remen_df.shape)"
      ],
      "execution_count": 4,
      "outputs": [
        {
          "output_type": "stream",
          "text": [
            "<class 'pandas.core.frame.DataFrame'>\n",
            "RangeIndex: 2580 entries, 0 to 2579\n",
            "Data columns (total 7 columns):\n",
            " #   Column    Non-Null Count  Dtype \n",
            "---  ------    --------------  ----- \n",
            " 0   Review #  2580 non-null   int64 \n",
            " 1   Brand     2580 non-null   object\n",
            " 2   Variety   2580 non-null   object\n",
            " 3   Style     2578 non-null   object\n",
            " 4   Country   2580 non-null   object\n",
            " 5   Stars     2580 non-null   object\n",
            " 6   Top Ten   41 non-null     object\n",
            "dtypes: int64(1), object(6)\n",
            "memory usage: 141.2+ KB\n",
            "None\n",
            "(2580, 7)\n"
          ],
          "name": "stdout"
        }
      ]
    },
    {
      "cell_type": "markdown",
      "metadata": {
        "id": "4X4BF5cCEmE-",
        "colab_type": "text"
      },
      "source": [
        "### <font color = 'orange'>Question #1: Data Transformation: Pick three variables whose data types may be more useful as another data type and use R or Python to transform them to numeric or character/ categorical format.  Then, explain in no less than 3 sentences what this transformation will allow you to accomplish analytically later on.</font>\n",
        "<br> <font color = 'green'>Answer:1) Transforming \"Review #\" from numeric to categorical would avoid of treating the ID variable as numbers for calculations. 2) Transforming \"stars\" from categorical to numeric would allow me to slice and dice the data by comparing star rating to see if there is disparities among brand, country, style and top 10 ranked restaurants 3) Transforming \"Top Ten\" from categorical variable to binary would make comparison by 'Top ten ranked' vs 'No top ten ranked'. This would be easier for analytics.\n",
        "</font></br>"
      ]
    },
    {
      "cell_type": "code",
      "metadata": {
        "id": "UwLrValhVtRQ",
        "colab_type": "code",
        "outputId": "f3781bb7-8ff3-4794-db41-7b66a7a33e13",
        "colab": {
          "base_uri": "https://localhost:8080/",
          "height": 1000
        }
      },
      "source": [
        "# Exam the levels of each variable which I picked --  sex, education and marriage\n",
        "print(remen_df['Review #'].value_counts(normalize=True,dropna=False))\n",
        "print(remen_df['Stars'].value_counts(normalize=True,dropna=False))\n",
        "print(remen_df['Top Ten'].value_counts(normalize=True,dropna=False))"
      ],
      "execution_count": 5,
      "outputs": [
        {
          "output_type": "stream",
          "text": [
            "2047    0.000388\n",
            "1240    0.000388\n",
            "1196    0.000388\n",
            "1194    0.000388\n",
            "1192    0.000388\n",
            "          ...   \n",
            "2478    0.000388\n",
            "429     0.000388\n",
            "2476    0.000388\n",
            "427     0.000388\n",
            "2049    0.000388\n",
            "Name: Review #, Length: 2580, dtype: float64\n",
            "4          0.148837\n",
            "5          0.143023\n",
            "3.75       0.135659\n",
            "3.5        0.126357\n",
            "3          0.067054\n",
            "3.25       0.065891\n",
            "4.25       0.055426\n",
            "4.5        0.051163\n",
            "2.75       0.032946\n",
            "2          0.026357\n",
            "2.5        0.025969\n",
            "4.75       0.024806\n",
            "1.5        0.014341\n",
            "1.75       0.010465\n",
            "1          0.010078\n",
            "0          0.010078\n",
            "2.25       0.008140\n",
            "0.5        0.005426\n",
            "0.25       0.004264\n",
            "1.25       0.003876\n",
            "5.0        0.003876\n",
            "3.50       0.003488\n",
            "5.00       0.002713\n",
            "4.00       0.002326\n",
            "4.3        0.001550\n",
            "4.0        0.001163\n",
            "Unrated    0.001163\n",
            "4.50       0.001163\n",
            "3.8        0.001163\n",
            "3.1        0.000775\n",
            "2.9        0.000775\n",
            "2.8        0.000775\n",
            "4.125      0.000775\n",
            "2.3        0.000775\n",
            "3.0        0.000775\n",
            "1.1        0.000775\n",
            "2.1        0.000388\n",
            "0.75       0.000388\n",
            "3.3        0.000388\n",
            "2.85       0.000388\n",
            "3.00       0.000388\n",
            "3.4        0.000388\n",
            "2.125      0.000388\n",
            "3.125      0.000388\n",
            "0.9        0.000388\n",
            "3.6        0.000388\n",
            "3.7        0.000388\n",
            "1.8        0.000388\n",
            "3.65       0.000388\n",
            "3.2        0.000388\n",
            "0.1        0.000388\n",
            "Name: Stars, dtype: float64\n",
            "NaN         0.984109\n",
            "\\n          0.001550\n",
            "2015 #4     0.000388\n",
            "2013 #10    0.000388\n",
            "2016 #10    0.000388\n",
            "2013 #4     0.000388\n",
            "2014 #8     0.000388\n",
            "2014 #5     0.000388\n",
            "2014 #9     0.000388\n",
            "2012 #1     0.000388\n",
            "2015 #6     0.000388\n",
            "2012 #7     0.000388\n",
            "2012 #10    0.000388\n",
            "2015 #9     0.000388\n",
            "2012 #5     0.000388\n",
            "2014 #7     0.000388\n",
            "2015 #1     0.000388\n",
            "2012 #3     0.000388\n",
            "2016 #9     0.000388\n",
            "2012 #6     0.000388\n",
            "2016 #1     0.000388\n",
            "2013 #9     0.000388\n",
            "2012 #4     0.000388\n",
            "2015 #8     0.000388\n",
            "2015 #7     0.000388\n",
            "2014 #10    0.000388\n",
            "2014 #4     0.000388\n",
            "2013 #6     0.000388\n",
            "2016 #5     0.000388\n",
            "2015 #10    0.000388\n",
            "2013 #1     0.000388\n",
            "2016 #8     0.000388\n",
            "2013 #3     0.000388\n",
            "2016 #7     0.000388\n",
            "2014 #6     0.000388\n",
            "2012 #2     0.000388\n",
            "2012 #9     0.000388\n",
            "2014 #1     0.000388\n",
            "2013 #2     0.000388\n",
            "Name: Top Ten, dtype: float64\n"
          ],
          "name": "stdout"
        }
      ]
    },
    {
      "cell_type": "code",
      "metadata": {
        "id": "9CNwtczXRYZW",
        "colab_type": "code",
        "outputId": "e985e805-c73c-4132-9bc2-96a1e31bf38d",
        "colab": {
          "base_uri": "https://localhost:8080/",
          "height": 199
        }
      },
      "source": [
        "# I would pick Review #, Stars and Top Ten to transform them from numeric to categorical(object)\n",
        "remen_df['Review #']=remen_df['Review #'].astype(object)\n",
        "remen_df.loc[remen_df[\"Stars\"]=='Unrated','Stars']=np.nan\n",
        "remen_df['Stars']=remen_df['Stars'].astype(float)\n",
        "remen_df.loc[remen_df['Top Ten'].notnull(),'Top Ten Indicator']=1\n",
        "remen_df[['Review #','Stars','Top Ten Indicator']].info(verbose=True)"
      ],
      "execution_count": 6,
      "outputs": [
        {
          "output_type": "stream",
          "text": [
            "<class 'pandas.core.frame.DataFrame'>\n",
            "RangeIndex: 2580 entries, 0 to 2579\n",
            "Data columns (total 3 columns):\n",
            " #   Column             Non-Null Count  Dtype  \n",
            "---  ------             --------------  -----  \n",
            " 0   Review #           2580 non-null   object \n",
            " 1   Stars              2577 non-null   float64\n",
            " 2   Top Ten Indicator  41 non-null     float64\n",
            "dtypes: float64(2), object(1)\n",
            "memory usage: 60.6+ KB\n"
          ],
          "name": "stdout"
        }
      ]
    },
    {
      "cell_type": "markdown",
      "metadata": {
        "id": "RfIAggh0H8kb",
        "colab_type": "text"
      },
      "source": [
        "### <font color = 'orange'>Question #2: Data Substitution: Use R or Python to substitute values in at least two variables. Explain in no less than 3 sentences how you decided what values to use for substitution and, in addition to your explanation, show your code.</font>\n",
        "<br> <font color = 'green'>Answer: There are two variables I used substitute method to replace values. 1) We substitute missing/unrated value in \"Stars\" to 0. It is better to in this way when we avarage the star rating for restaurants. 2) It is better to replace the missings by giving 0 to the value, again it would be easier for avarage rate calculation.  </font>\n"
      ]
    },
    {
      "cell_type": "code",
      "metadata": {
        "id": "ajsaksyodugM",
        "colab_type": "code",
        "outputId": "6147f037-a28f-45d9-c3f7-b2744e71f9cb",
        "colab": {
          "base_uri": "https://localhost:8080/",
          "height": 108
        }
      },
      "source": [
        "remen_df.loc[remen_df['Stars']==np.nan,'Stars']=0\n",
        "remen_df['Top Ten Indicator'].fillna(0,inplace=True)\n",
        "print('Values in Stars Variable are: ',remen_df['Stars'].unique())\n",
        "print('Values in Top Ten Indicator Variable are: ',remen_df['Top Ten Indicator'].unique())"
      ],
      "execution_count": 7,
      "outputs": [
        {
          "output_type": "stream",
          "text": [
            "Values in Stars Variable are:  [3.75  1.    2.25  2.75  4.75  4.    0.25  2.5   5.    4.25  4.5   3.5\n",
            "   nan 1.5   3.25  2.    0.    3.    0.5   3.8   4.3   2.3   3.3   1.75\n",
            " 0.75  1.25  1.1   2.1   0.9   3.1   4.125 3.125 2.125 2.9   0.1   2.8\n",
            " 3.7   3.4   3.6   2.85  3.2   3.65  1.8  ]\n",
            "Values in Top Ten Indicator Variable are:  [0. 1.]\n"
          ],
          "name": "stdout"
        }
      ]
    },
    {
      "cell_type": "markdown",
      "metadata": {
        "id": "0iQIJ0iOKhZJ",
        "colab_type": "text"
      },
      "source": [
        "### <font color = 'orange'>Question #3: Data Reduction: Pick two variables that could be simplified, either by combining two or more attributes (=columns) into one, or by binning or bucketing, then use R or Python to accomplish this.  Explain in no less than 3 sentences what benefit this may provide for any later analysis. </font>\n",
        "<br> <font color = 'green'>Answer: I pick country and style to simplify, first. I would just concatenate two variables to one. I think country and style has one to many relations, so, using country and style one columns can be more efficient to present more information than having two separate columns\n",
        "The second variable that I would like to simplify is Stars. I will use binning method to group values into different value ranges. In this way, the data can be show is a way for better understanding."
      ]
    },
    {
      "cell_type": "code",
      "metadata": {
        "id": "21IQKke0KkB_",
        "colab_type": "code",
        "outputId": "c87d7541-f2eb-4d3b-e3dc-3aea9ecc689c",
        "colab": {
          "base_uri": "https://localhost:8080/",
          "height": 235
        }
      },
      "source": [
        "# Simplify two variables by combining country and style into to one varable 'country_and_style'\n",
        "remen_df['country_and_style']=remen_df['Country']+'-'+remen_df['Style']\n",
        "remen_df['country_and_style'].drop_duplicates().sort_values().reset_index(drop=True).dropna()"
      ],
      "execution_count": 8,
      "outputs": [
        {
          "output_type": "execute_result",
          "data": {
            "text/plain": [
              "0          Australia-Cup\n",
              "1         Australia-Pack\n",
              "2        Bangladesh-Pack\n",
              "3             Brazil-Cup\n",
              "4            Brazil-Pack\n",
              "             ...        \n",
              "82    United States-Pack\n",
              "83          Vietnam-Bowl\n",
              "84           Vietnam-Cup\n",
              "85          Vietnam-Pack\n",
              "86          Vietnam-Tray\n",
              "Name: country_and_style, Length: 87, dtype: object"
            ]
          },
          "metadata": {
            "tags": []
          },
          "execution_count": 8
        }
      ]
    },
    {
      "cell_type": "code",
      "metadata": {
        "id": "jxDQBu7CNJ_U",
        "colab_type": "code",
        "outputId": "aeb846c9-1308-44e6-f603-a435ba0a0d8e",
        "colab": {
          "base_uri": "https://localhost:8080/",
          "height": 163
        }
      },
      "source": [
        "# Simplify Stars variables by binning the star rating into 7 category values\n",
        "remen_df['Stars']=pd.qcut(remen_df['Stars'],7,precision=2,duplicates='drop')\n",
        "remen_df['Stars'].drop_duplicates().sort_values().reset_index(drop=True).dropna()"
      ],
      "execution_count": 9,
      "outputs": [
        {
          "output_type": "execute_result",
          "data": {
            "text/plain": [
              "0    (-0.01, 2.75]\n",
              "1     (2.75, 3.25]\n",
              "2     (3.25, 3.75]\n",
              "3      (3.75, 4.0]\n",
              "4       (4.0, 5.0]\n",
              "Name: Stars, dtype: category\n",
              "Categories (5, interval[float64]): [(-0.01, 2.75] < (2.75, 3.25] < (3.25, 3.75] < (3.75, 4.0] <\n",
              "                                    (4.0, 5.0]]"
            ]
          },
          "metadata": {
            "tags": []
          },
          "execution_count": 9
        }
      ]
    },
    {
      "cell_type": "markdown",
      "metadata": {
        "id": "plxr6cA-R3GC",
        "colab_type": "text"
      },
      "source": [
        "### <font color = 'orange'>Question #4: Now that you have a better dataset, list three (3) important organizational analytical questions that management could ask about the dataset in order to help them make business or organizational decisions.  </font>\n",
        "<br> <font color = 'green'>Answer: Below are the question I think the management would ask: 1) Management team need to better understand the remen noodle market share, so could you breakdown the remen restaurant by country_style? 2) Which is the star rating that get most reviewed? 3) and Which is the country and style are more popular with higher ratings?   </font>"
      ]
    },
    {
      "cell_type": "code",
      "metadata": {
        "id": "z60ZPI9nxRFT",
        "colab_type": "code",
        "colab": {}
      },
      "source": [
        ""
      ],
      "execution_count": 0,
      "outputs": []
    }
  ]
}