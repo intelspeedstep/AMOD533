{
  "nbformat": 4,
  "nbformat_minor": 0,
  "metadata": {
    "colab": {
      "name": "Lab #4 - Week #5 By Wei Geng(David).ipynb",
      "provenance": [],
      "collapsed_sections": []
    },
    "kernelspec": {
      "name": "python3",
      "display_name": "Python 3"
    }
  },
  "cells": [
    {
      "cell_type": "code",
      "metadata": {
        "id": "njRBvvtbZcEy",
        "colab_type": "code",
        "colab": {}
      },
      "source": [
        "# Class IT-533 Week #5  - Measures of Association\n",
        "# Summer 2020\n",
        "# Lab #4 - ramen-ratings.csv\n",
        "# By Wei Geng(David) and Anusha Bale\n",
        "# Created on: 06/14/2020\n",
        "# Honor Code: “I have neither given or received, nor have I tolerated others' use of unauthorized aid.”"
      ],
      "execution_count": 1,
      "outputs": []
    },
    {
      "cell_type": "code",
      "metadata": {
        "id": "8npOXrx7gRIU",
        "colab_type": "code",
        "colab": {}
      },
      "source": [
        "# install pandas in case you dont have pandas pre-installed\n",
        "%pip install pandas\n",
        "%pip install matplotlib"
      ],
      "execution_count": 2,
      "outputs": []
    },
    {
      "cell_type": "code",
      "metadata": {
        "id": "9Vgck51GZlu7",
        "colab_type": "code",
        "colab": {
          "base_uri": "https://localhost:8080/",
          "height": 198
        },
        "outputId": "c486b82b-bd50-4364-baf4-31cb05901ee2"
      },
      "source": [
        "# Convert to pandas DataFrame\n",
        "import numpy as np\n",
        "import pandas as pd\n",
        "import matplotlib.pyplot as plt\n",
        "remen_df = pd.read_csv('https://raw.githubusercontent.com/intelspeedstep/AMOD533/master/ramen-ratings.csv')\n",
        "remen_df.head()"
      ],
      "execution_count": 3,
      "outputs": [
        {
          "output_type": "execute_result",
          "data": {
            "text/html": [
              "<div>\n",
              "<style scoped>\n",
              "    .dataframe tbody tr th:only-of-type {\n",
              "        vertical-align: middle;\n",
              "    }\n",
              "\n",
              "    .dataframe tbody tr th {\n",
              "        vertical-align: top;\n",
              "    }\n",
              "\n",
              "    .dataframe thead th {\n",
              "        text-align: right;\n",
              "    }\n",
              "</style>\n",
              "<table border=\"1\" class=\"dataframe\">\n",
              "  <thead>\n",
              "    <tr style=\"text-align: right;\">\n",
              "      <th></th>\n",
              "      <th>Review #</th>\n",
              "      <th>Brand</th>\n",
              "      <th>Variety</th>\n",
              "      <th>Style</th>\n",
              "      <th>Country</th>\n",
              "      <th>Stars</th>\n",
              "      <th>Top Ten</th>\n",
              "    </tr>\n",
              "  </thead>\n",
              "  <tbody>\n",
              "    <tr>\n",
              "      <th>0</th>\n",
              "      <td>2580</td>\n",
              "      <td>New Touch</td>\n",
              "      <td>T's Restaurant Tantanmen</td>\n",
              "      <td>Cup</td>\n",
              "      <td>Japan</td>\n",
              "      <td>3.75</td>\n",
              "      <td>NaN</td>\n",
              "    </tr>\n",
              "    <tr>\n",
              "      <th>1</th>\n",
              "      <td>2579</td>\n",
              "      <td>Just Way</td>\n",
              "      <td>Noodles Spicy Hot Sesame Spicy Hot Sesame Guan...</td>\n",
              "      <td>Pack</td>\n",
              "      <td>Taiwan</td>\n",
              "      <td>1</td>\n",
              "      <td>NaN</td>\n",
              "    </tr>\n",
              "    <tr>\n",
              "      <th>2</th>\n",
              "      <td>2578</td>\n",
              "      <td>Nissin</td>\n",
              "      <td>Cup Noodles Chicken Vegetable</td>\n",
              "      <td>Cup</td>\n",
              "      <td>USA</td>\n",
              "      <td>2.25</td>\n",
              "      <td>NaN</td>\n",
              "    </tr>\n",
              "    <tr>\n",
              "      <th>3</th>\n",
              "      <td>2577</td>\n",
              "      <td>Wei Lih</td>\n",
              "      <td>GGE Ramen Snack Tomato Flavor</td>\n",
              "      <td>Pack</td>\n",
              "      <td>Taiwan</td>\n",
              "      <td>2.75</td>\n",
              "      <td>NaN</td>\n",
              "    </tr>\n",
              "    <tr>\n",
              "      <th>4</th>\n",
              "      <td>2576</td>\n",
              "      <td>Ching's Secret</td>\n",
              "      <td>Singapore Curry</td>\n",
              "      <td>Pack</td>\n",
              "      <td>India</td>\n",
              "      <td>3.75</td>\n",
              "      <td>NaN</td>\n",
              "    </tr>\n",
              "  </tbody>\n",
              "</table>\n",
              "</div>"
            ],
            "text/plain": [
              "   Review #           Brand  ... Stars Top Ten\n",
              "0      2580       New Touch  ...  3.75     NaN\n",
              "1      2579        Just Way  ...     1     NaN\n",
              "2      2578          Nissin  ...  2.25     NaN\n",
              "3      2577         Wei Lih  ...  2.75     NaN\n",
              "4      2576  Ching's Secret  ...  3.75     NaN\n",
              "\n",
              "[5 rows x 7 columns]"
            ]
          },
          "metadata": {
            "tags": []
          },
          "execution_count": 3
        }
      ]
    },
    {
      "cell_type": "code",
      "metadata": {
        "id": "SNe34DsGEsSt",
        "colab_type": "code",
        "colab": {
          "base_uri": "https://localhost:8080/",
          "height": 308
        },
        "outputId": "41272ac9-df0f-49b9-9f27-fff469fe7e59"
      },
      "source": [
        "# output the data attributes and its datatypes, plus the shape of the dataset\n",
        "print(remen_df.info(verbose=True))\n",
        "print(remen_df.shape)"
      ],
      "execution_count": 4,
      "outputs": [
        {
          "output_type": "stream",
          "text": [
            "<class 'pandas.core.frame.DataFrame'>\n",
            "RangeIndex: 2580 entries, 0 to 2579\n",
            "Data columns (total 7 columns):\n",
            " #   Column    Non-Null Count  Dtype \n",
            "---  ------    --------------  ----- \n",
            " 0   Review #  2580 non-null   int64 \n",
            " 1   Brand     2580 non-null   object\n",
            " 2   Variety   2580 non-null   object\n",
            " 3   Style     2578 non-null   object\n",
            " 4   Country   2580 non-null   object\n",
            " 5   Stars     2580 non-null   object\n",
            " 6   Top Ten   41 non-null     object\n",
            "dtypes: int64(1), object(6)\n",
            "memory usage: 141.2+ KB\n",
            "None\n",
            "(2580, 7)\n"
          ],
          "name": "stdout"
        }
      ]
    },
    {
      "cell_type": "code",
      "metadata": {
        "id": "E7-FWME7wXq7",
        "colab_type": "code",
        "colab": {}
      },
      "source": [
        "# Convert Stars from object to numberic and Review # to str since ID number usually has no analytical value\n",
        "remen_df.loc[remen_df[\"Stars\"]=='Unrated','Stars']=np.nan\n",
        "remen_df['Stars']=remen_df['Stars'].astype(float)\n",
        "remen_df['Review #']=remen_df['Review #'].astype(str)"
      ],
      "execution_count": 5,
      "outputs": []
    },
    {
      "cell_type": "markdown",
      "metadata": {
        "id": "4X4BF5cCEmE-",
        "colab_type": "text"
      },
      "source": [
        "### <font color = 'orange'>Question #1:Select one dependent variable in the dataset. This will be your target variable for the remainder of this lab. Explain how and why you have selected that particular target variable in no less than 3 sentences..</font>\n",
        "<br> <font color = 'green'>Answer:1) I pick 'Stars' as my target variable. First, it is continuous variable. second, this is the key attribute that measure the quality of remen noodles. Last, only 3 records has missing values in 'Stars' column;\n",
        "</font></br>"
      ]
    },
    {
      "cell_type": "markdown",
      "metadata": {
        "id": "RfIAggh0H8kb",
        "colab_type": "text"
      },
      "source": [
        "### <font color = 'orange'>Question #2: Determine what correlations there are among independent variables (= predictors) in the dataset by setting up a correlation table.  Explain what correlations your analysis is showing and which THREE predictor variables appear to be correlated to one another AND to the target variable in AT LEAST two sentences.  </font>\n",
        "<br> <font color = 'green'>Answer: My correlation table produces Pearson's correlation among all the varibles; higher the value, more related they are.\n",
        "Top 3 predictors that has relatively higher correlations to the target variables are 'Top Ten', 'Country', and 'Variety'  </font>\n"
      ]
    },
    {
      "cell_type": "code",
      "metadata": {
        "id": "Z8xrRl9zlSE0",
        "colab_type": "code",
        "colab": {
          "base_uri": "https://localhost:8080/",
          "height": 198
        },
        "outputId": "184d07a6-b44e-41b6-aa30-be6d7f0af7c0"
      },
      "source": [
        "from sklearn.preprocessing import LabelEncoder\n",
        "remen_df[\"Brand\"] = LabelEncoder().fit_transform(remen_df[\"Brand\"])\n",
        "remen_df[\"Variety\"] = LabelEncoder().fit_transform(remen_df[\"Variety\"])\n",
        "remen_df[\"Style\"] = LabelEncoder().fit_transform(remen_df[\"Style\"].astype(str))\n",
        "remen_df[\"Country\"] = LabelEncoder().fit_transform(remen_df[\"Country\"])\n",
        "remen_df[\"Top Ten\"] = LabelEncoder().fit_transform(remen_df[\"Top Ten\"].astype(str))\n",
        "remen_df.head()"
      ],
      "execution_count": 6,
      "outputs": [
        {
          "output_type": "execute_result",
          "data": {
            "text/html": [
              "<div>\n",
              "<style scoped>\n",
              "    .dataframe tbody tr th:only-of-type {\n",
              "        vertical-align: middle;\n",
              "    }\n",
              "\n",
              "    .dataframe tbody tr th {\n",
              "        vertical-align: top;\n",
              "    }\n",
              "\n",
              "    .dataframe thead th {\n",
              "        text-align: right;\n",
              "    }\n",
              "</style>\n",
              "<table border=\"1\" class=\"dataframe\">\n",
              "  <thead>\n",
              "    <tr style=\"text-align: right;\">\n",
              "      <th></th>\n",
              "      <th>Review #</th>\n",
              "      <th>Brand</th>\n",
              "      <th>Variety</th>\n",
              "      <th>Style</th>\n",
              "      <th>Country</th>\n",
              "      <th>Stars</th>\n",
              "      <th>Top Ten</th>\n",
              "    </tr>\n",
              "  </thead>\n",
              "  <tbody>\n",
              "    <tr>\n",
              "      <th>0</th>\n",
              "      <td>2580</td>\n",
              "      <td>190</td>\n",
              "      <td>2189</td>\n",
              "      <td>4</td>\n",
              "      <td>18</td>\n",
              "      <td>3.75</td>\n",
              "      <td>38</td>\n",
              "    </tr>\n",
              "    <tr>\n",
              "      <th>1</th>\n",
              "      <td>2579</td>\n",
              "      <td>119</td>\n",
              "      <td>1443</td>\n",
              "      <td>5</td>\n",
              "      <td>32</td>\n",
              "      <td>1.00</td>\n",
              "      <td>38</td>\n",
              "    </tr>\n",
              "    <tr>\n",
              "      <th>2</th>\n",
              "      <td>2578</td>\n",
              "      <td>192</td>\n",
              "      <td>454</td>\n",
              "      <td>4</td>\n",
              "      <td>35</td>\n",
              "      <td>2.25</td>\n",
              "      <td>38</td>\n",
              "    </tr>\n",
              "    <tr>\n",
              "      <th>3</th>\n",
              "      <td>2577</td>\n",
              "      <td>336</td>\n",
              "      <td>709</td>\n",
              "      <td>5</td>\n",
              "      <td>32</td>\n",
              "      <td>2.75</td>\n",
              "      <td>38</td>\n",
              "    </tr>\n",
              "    <tr>\n",
              "      <th>4</th>\n",
              "      <td>2576</td>\n",
              "      <td>38</td>\n",
              "      <td>1954</td>\n",
              "      <td>5</td>\n",
              "      <td>16</td>\n",
              "      <td>3.75</td>\n",
              "      <td>38</td>\n",
              "    </tr>\n",
              "  </tbody>\n",
              "</table>\n",
              "</div>"
            ],
            "text/plain": [
              "  Review #  Brand  Variety  Style  Country  Stars  Top Ten\n",
              "0     2580    190     2189      4       18   3.75       38\n",
              "1     2579    119     1443      5       32   1.00       38\n",
              "2     2578    192      454      4       35   2.25       38\n",
              "3     2577    336      709      5       32   2.75       38\n",
              "4     2576     38     1954      5       16   3.75       38"
            ]
          },
          "metadata": {
            "tags": []
          },
          "execution_count": 6
        }
      ]
    },
    {
      "cell_type": "code",
      "metadata": {
        "id": "Fyk4K3UZtKxb",
        "colab_type": "code",
        "colab": {
          "base_uri": "https://localhost:8080/",
          "height": 272
        },
        "outputId": "d844ddb8-1e54-4ae1-8325-ebd76262a847"
      },
      "source": [
        "remen_df.info()"
      ],
      "execution_count": 7,
      "outputs": [
        {
          "output_type": "stream",
          "text": [
            "<class 'pandas.core.frame.DataFrame'>\n",
            "RangeIndex: 2580 entries, 0 to 2579\n",
            "Data columns (total 7 columns):\n",
            " #   Column    Non-Null Count  Dtype  \n",
            "---  ------    --------------  -----  \n",
            " 0   Review #  2580 non-null   object \n",
            " 1   Brand     2580 non-null   int64  \n",
            " 2   Variety   2580 non-null   int64  \n",
            " 3   Style     2580 non-null   int64  \n",
            " 4   Country   2580 non-null   int64  \n",
            " 5   Stars     2577 non-null   float64\n",
            " 6   Top Ten   2580 non-null   int64  \n",
            "dtypes: float64(1), int64(5), object(1)\n",
            "memory usage: 141.2+ KB\n"
          ],
          "name": "stdout"
        }
      ]
    },
    {
      "cell_type": "code",
      "metadata": {
        "id": "UwLrValhVtRQ",
        "colab_type": "code",
        "colab": {
          "base_uri": "https://localhost:8080/",
          "height": 165
        },
        "outputId": "8c79c8bc-ba98-48e8-95a9-617ff0edbf6e"
      },
      "source": [
        "remen_df.corr().style.background_gradient(cmap='cool')"
      ],
      "execution_count": 8,
      "outputs": [
        {
          "output_type": "execute_result",
          "data": {
            "text/html": [
              "<style  type=\"text/css\" >\n",
              "    #T_1420e81c_b1dd_11ea_944d_0242ac1c0002row0_col0 {\n",
              "            background-color:  #ff00ff;\n",
              "            color:  #f1f1f1;\n",
              "        }    #T_1420e81c_b1dd_11ea_944d_0242ac1c0002row0_col1 {\n",
              "            background-color:  #00ffff;\n",
              "            color:  #000000;\n",
              "        }    #T_1420e81c_b1dd_11ea_944d_0242ac1c0002row0_col2 {\n",
              "            background-color:  #05faff;\n",
              "            color:  #000000;\n",
              "        }    #T_1420e81c_b1dd_11ea_944d_0242ac1c0002row0_col3 {\n",
              "            background-color:  #3ec1ff;\n",
              "            color:  #000000;\n",
              "        }    #T_1420e81c_b1dd_11ea_944d_0242ac1c0002row0_col4 {\n",
              "            background-color:  #1ce3ff;\n",
              "            color:  #000000;\n",
              "        }    #T_1420e81c_b1dd_11ea_944d_0242ac1c0002row0_col5 {\n",
              "            background-color:  #21deff;\n",
              "            color:  #000000;\n",
              "        }    #T_1420e81c_b1dd_11ea_944d_0242ac1c0002row1_col0 {\n",
              "            background-color:  #00ffff;\n",
              "            color:  #000000;\n",
              "        }    #T_1420e81c_b1dd_11ea_944d_0242ac1c0002row1_col1 {\n",
              "            background-color:  #ff00ff;\n",
              "            color:  #f1f1f1;\n",
              "        }    #T_1420e81c_b1dd_11ea_944d_0242ac1c0002row1_col2 {\n",
              "            background-color:  #09f6ff;\n",
              "            color:  #000000;\n",
              "        }    #T_1420e81c_b1dd_11ea_944d_0242ac1c0002row1_col3 {\n",
              "            background-color:  #11eeff;\n",
              "            color:  #000000;\n",
              "        }    #T_1420e81c_b1dd_11ea_944d_0242ac1c0002row1_col4 {\n",
              "            background-color:  #1be4ff;\n",
              "            color:  #000000;\n",
              "        }    #T_1420e81c_b1dd_11ea_944d_0242ac1c0002row1_col5 {\n",
              "            background-color:  #19e6ff;\n",
              "            color:  #000000;\n",
              "        }    #T_1420e81c_b1dd_11ea_944d_0242ac1c0002row2_col0 {\n",
              "            background-color:  #00ffff;\n",
              "            color:  #000000;\n",
              "        }    #T_1420e81c_b1dd_11ea_944d_0242ac1c0002row2_col1 {\n",
              "            background-color:  #04fbff;\n",
              "            color:  #000000;\n",
              "        }    #T_1420e81c_b1dd_11ea_944d_0242ac1c0002row2_col2 {\n",
              "            background-color:  #ff00ff;\n",
              "            color:  #f1f1f1;\n",
              "        }    #T_1420e81c_b1dd_11ea_944d_0242ac1c0002row2_col3 {\n",
              "            background-color:  #0ff0ff;\n",
              "            color:  #000000;\n",
              "        }    #T_1420e81c_b1dd_11ea_944d_0242ac1c0002row2_col4 {\n",
              "            background-color:  #1de2ff;\n",
              "            color:  #000000;\n",
              "        }    #T_1420e81c_b1dd_11ea_944d_0242ac1c0002row2_col5 {\n",
              "            background-color:  #10efff;\n",
              "            color:  #000000;\n",
              "        }    #T_1420e81c_b1dd_11ea_944d_0242ac1c0002row3_col0 {\n",
              "            background-color:  #3cc3ff;\n",
              "            color:  #000000;\n",
              "        }    #T_1420e81c_b1dd_11ea_944d_0242ac1c0002row3_col1 {\n",
              "            background-color:  #0df2ff;\n",
              "            color:  #000000;\n",
              "        }    #T_1420e81c_b1dd_11ea_944d_0242ac1c0002row3_col2 {\n",
              "            background-color:  #10efff;\n",
              "            color:  #000000;\n",
              "        }    #T_1420e81c_b1dd_11ea_944d_0242ac1c0002row3_col3 {\n",
              "            background-color:  #ff00ff;\n",
              "            color:  #f1f1f1;\n",
              "        }    #T_1420e81c_b1dd_11ea_944d_0242ac1c0002row3_col4 {\n",
              "            background-color:  #11eeff;\n",
              "            color:  #000000;\n",
              "        }    #T_1420e81c_b1dd_11ea_944d_0242ac1c0002row3_col5 {\n",
              "            background-color:  #1ee1ff;\n",
              "            color:  #000000;\n",
              "        }    #T_1420e81c_b1dd_11ea_944d_0242ac1c0002row4_col0 {\n",
              "            background-color:  #07f8ff;\n",
              "            color:  #000000;\n",
              "        }    #T_1420e81c_b1dd_11ea_944d_0242ac1c0002row4_col1 {\n",
              "            background-color:  #07f8ff;\n",
              "            color:  #000000;\n",
              "        }    #T_1420e81c_b1dd_11ea_944d_0242ac1c0002row4_col2 {\n",
              "            background-color:  #0df2ff;\n",
              "            color:  #000000;\n",
              "        }    #T_1420e81c_b1dd_11ea_944d_0242ac1c0002row4_col3 {\n",
              "            background-color:  #00ffff;\n",
              "            color:  #000000;\n",
              "        }    #T_1420e81c_b1dd_11ea_944d_0242ac1c0002row4_col4 {\n",
              "            background-color:  #ff00ff;\n",
              "            color:  #f1f1f1;\n",
              "        }    #T_1420e81c_b1dd_11ea_944d_0242ac1c0002row4_col5 {\n",
              "            background-color:  #00ffff;\n",
              "            color:  #000000;\n",
              "        }    #T_1420e81c_b1dd_11ea_944d_0242ac1c0002row5_col0 {\n",
              "            background-color:  #0cf3ff;\n",
              "            color:  #000000;\n",
              "        }    #T_1420e81c_b1dd_11ea_944d_0242ac1c0002row5_col1 {\n",
              "            background-color:  #04fbff;\n",
              "            color:  #000000;\n",
              "        }    #T_1420e81c_b1dd_11ea_944d_0242ac1c0002row5_col2 {\n",
              "            background-color:  #00ffff;\n",
              "            color:  #000000;\n",
              "        }    #T_1420e81c_b1dd_11ea_944d_0242ac1c0002row5_col3 {\n",
              "            background-color:  #0ef1ff;\n",
              "            color:  #000000;\n",
              "        }    #T_1420e81c_b1dd_11ea_944d_0242ac1c0002row5_col4 {\n",
              "            background-color:  #00ffff;\n",
              "            color:  #000000;\n",
              "        }    #T_1420e81c_b1dd_11ea_944d_0242ac1c0002row5_col5 {\n",
              "            background-color:  #ff00ff;\n",
              "            color:  #f1f1f1;\n",
              "        }</style><table id=\"T_1420e81c_b1dd_11ea_944d_0242ac1c0002\" ><thead>    <tr>        <th class=\"blank level0\" ></th>        <th class=\"col_heading level0 col0\" >Brand</th>        <th class=\"col_heading level0 col1\" >Variety</th>        <th class=\"col_heading level0 col2\" >Style</th>        <th class=\"col_heading level0 col3\" >Country</th>        <th class=\"col_heading level0 col4\" >Stars</th>        <th class=\"col_heading level0 col5\" >Top Ten</th>    </tr></thead><tbody>\n",
              "                <tr>\n",
              "                        <th id=\"T_1420e81c_b1dd_11ea_944d_0242ac1c0002level0_row0\" class=\"row_heading level0 row0\" >Brand</th>\n",
              "                        <td id=\"T_1420e81c_b1dd_11ea_944d_0242ac1c0002row0_col0\" class=\"data row0 col0\" >1.000000</td>\n",
              "                        <td id=\"T_1420e81c_b1dd_11ea_944d_0242ac1c0002row0_col1\" class=\"data row0 col1\" >-0.032517</td>\n",
              "                        <td id=\"T_1420e81c_b1dd_11ea_944d_0242ac1c0002row0_col2\" class=\"data row0 col2\" >-0.033310</td>\n",
              "                        <td id=\"T_1420e81c_b1dd_11ea_944d_0242ac1c0002row0_col3\" class=\"data row0 col3\" >0.208934</td>\n",
              "                        <td id=\"T_1420e81c_b1dd_11ea_944d_0242ac1c0002row0_col4\" class=\"data row0 col4\" >-0.002231</td>\n",
              "                        <td id=\"T_1420e81c_b1dd_11ea_944d_0242ac1c0002row0_col5\" class=\"data row0 col5\" >0.018992</td>\n",
              "            </tr>\n",
              "            <tr>\n",
              "                        <th id=\"T_1420e81c_b1dd_11ea_944d_0242ac1c0002level0_row1\" class=\"row_heading level0 row1\" >Variety</th>\n",
              "                        <td id=\"T_1420e81c_b1dd_11ea_944d_0242ac1c0002row1_col0\" class=\"data row1 col0\" >-0.032517</td>\n",
              "                        <td id=\"T_1420e81c_b1dd_11ea_944d_0242ac1c0002row1_col1\" class=\"data row1 col1\" >1.000000</td>\n",
              "                        <td id=\"T_1420e81c_b1dd_11ea_944d_0242ac1c0002row1_col2\" class=\"data row1 col2\" >-0.014336</td>\n",
              "                        <td id=\"T_1420e81c_b1dd_11ea_944d_0242ac1c0002row1_col3\" class=\"data row1 col3\" >0.022645</td>\n",
              "                        <td id=\"T_1420e81c_b1dd_11ea_944d_0242ac1c0002row1_col4\" class=\"data row1 col4\" >-0.003585</td>\n",
              "                        <td id=\"T_1420e81c_b1dd_11ea_944d_0242ac1c0002row1_col5\" class=\"data row1 col5\" >-0.015678</td>\n",
              "            </tr>\n",
              "            <tr>\n",
              "                        <th id=\"T_1420e81c_b1dd_11ea_944d_0242ac1c0002level0_row2\" class=\"row_heading level0 row2\" >Style</th>\n",
              "                        <td id=\"T_1420e81c_b1dd_11ea_944d_0242ac1c0002row2_col0\" class=\"data row2 col0\" >-0.033310</td>\n",
              "                        <td id=\"T_1420e81c_b1dd_11ea_944d_0242ac1c0002row2_col1\" class=\"data row2 col1\" >-0.014336</td>\n",
              "                        <td id=\"T_1420e81c_b1dd_11ea_944d_0242ac1c0002row2_col2\" class=\"data row2 col2\" >1.000000</td>\n",
              "                        <td id=\"T_1420e81c_b1dd_11ea_944d_0242ac1c0002row2_col3\" class=\"data row2 col3\" >0.013687</td>\n",
              "                        <td id=\"T_1420e81c_b1dd_11ea_944d_0242ac1c0002row2_col4\" class=\"data row2 col4\" >0.002111</td>\n",
              "                        <td id=\"T_1420e81c_b1dd_11ea_944d_0242ac1c0002row2_col5\" class=\"data row2 col5\" >-0.053918</td>\n",
              "            </tr>\n",
              "            <tr>\n",
              "                        <th id=\"T_1420e81c_b1dd_11ea_944d_0242ac1c0002level0_row3\" class=\"row_heading level0 row3\" >Country</th>\n",
              "                        <td id=\"T_1420e81c_b1dd_11ea_944d_0242ac1c0002row3_col0\" class=\"data row3 col0\" >0.208934</td>\n",
              "                        <td id=\"T_1420e81c_b1dd_11ea_944d_0242ac1c0002row3_col1\" class=\"data row3 col1\" >0.022645</td>\n",
              "                        <td id=\"T_1420e81c_b1dd_11ea_944d_0242ac1c0002row3_col2\" class=\"data row3 col2\" >0.013687</td>\n",
              "                        <td id=\"T_1420e81c_b1dd_11ea_944d_0242ac1c0002row3_col3\" class=\"data row3 col3\" >1.000000</td>\n",
              "                        <td id=\"T_1420e81c_b1dd_11ea_944d_0242ac1c0002row3_col4\" class=\"data row3 col4\" >-0.048844</td>\n",
              "                        <td id=\"T_1420e81c_b1dd_11ea_944d_0242ac1c0002row3_col5\" class=\"data row3 col5\" >0.009168</td>\n",
              "            </tr>\n",
              "            <tr>\n",
              "                        <th id=\"T_1420e81c_b1dd_11ea_944d_0242ac1c0002level0_row4\" class=\"row_heading level0 row4\" >Stars</th>\n",
              "                        <td id=\"T_1420e81c_b1dd_11ea_944d_0242ac1c0002row4_col0\" class=\"data row4 col0\" >-0.002231</td>\n",
              "                        <td id=\"T_1420e81c_b1dd_11ea_944d_0242ac1c0002row4_col1\" class=\"data row4 col1\" >-0.003585</td>\n",
              "                        <td id=\"T_1420e81c_b1dd_11ea_944d_0242ac1c0002row4_col2\" class=\"data row4 col2\" >0.002111</td>\n",
              "                        <td id=\"T_1420e81c_b1dd_11ea_944d_0242ac1c0002row4_col3\" class=\"data row4 col3\" >-0.048844</td>\n",
              "                        <td id=\"T_1420e81c_b1dd_11ea_944d_0242ac1c0002row4_col4\" class=\"data row4 col4\" >1.000000</td>\n",
              "                        <td id=\"T_1420e81c_b1dd_11ea_944d_0242ac1c0002row4_col5\" class=\"data row4 col5\" >-0.126490</td>\n",
              "            </tr>\n",
              "            <tr>\n",
              "                        <th id=\"T_1420e81c_b1dd_11ea_944d_0242ac1c0002level0_row5\" class=\"row_heading level0 row5\" >Top Ten</th>\n",
              "                        <td id=\"T_1420e81c_b1dd_11ea_944d_0242ac1c0002row5_col0\" class=\"data row5 col0\" >0.018992</td>\n",
              "                        <td id=\"T_1420e81c_b1dd_11ea_944d_0242ac1c0002row5_col1\" class=\"data row5 col1\" >-0.015678</td>\n",
              "                        <td id=\"T_1420e81c_b1dd_11ea_944d_0242ac1c0002row5_col2\" class=\"data row5 col2\" >-0.053918</td>\n",
              "                        <td id=\"T_1420e81c_b1dd_11ea_944d_0242ac1c0002row5_col3\" class=\"data row5 col3\" >0.009168</td>\n",
              "                        <td id=\"T_1420e81c_b1dd_11ea_944d_0242ac1c0002row5_col4\" class=\"data row5 col4\" >-0.126490</td>\n",
              "                        <td id=\"T_1420e81c_b1dd_11ea_944d_0242ac1c0002row5_col5\" class=\"data row5 col5\" >1.000000</td>\n",
              "            </tr>\n",
              "    </tbody></table>"
            ],
            "text/plain": [
              "<pandas.io.formats.style.Styler at 0x7f6b5fa8f710>"
            ]
          },
          "metadata": {
            "tags": []
          },
          "execution_count": 8
        }
      ]
    },
    {
      "cell_type": "markdown",
      "metadata": {
        "id": "0iQIJ0iOKhZJ",
        "colab_type": "text"
      },
      "source": [
        "### <font color = 'orange'>Question #3: Determine which independent variable in the dataset is the most important overall predictor for your chosen dependent (target) variable, then build a simple linear regression based on this predictor and evaluate the quality of your model. Explain why (or why not) it is acceptable to use this model to predict future values of your dependent variable. </font>\n",
        "<br> <font color = 'green'>Answer: 'Top Ten' is the most important overall predictor since it has the highest correlation with the target variable(-0.090643). However, we only get R-square from the model as 0.01. The predictive power of this single variable is too weak. Therefore, it is not accept to use this model, instead, we should build a multiple linear regression."
      ]
    },
    {
      "cell_type": "code",
      "metadata": {
        "id": "21IQKke0KkB_",
        "colab_type": "code",
        "colab": {
          "base_uri": "https://localhost:8080/",
          "height": 72
        },
        "outputId": "ad9df84d-a5c7-4093-8699-574b23a2b0fa"
      },
      "source": [
        "from sklearn.linear_model import LinearRegression\n",
        "remen_df.fillna(0, inplace=True)\n",
        "linear_model = LinearRegression().fit(remen_df['Top Ten'].values.reshape(-1,1),remen_df.Stars)\n",
        "print(\"linear_model.coef_:\", linear_model.coef_)\n",
        "print(\"linear_modelintercept_:\", linear_model.intercept_)\n",
        "print(\"R-square score: {:.2f}\".format(linear_model.score(remen_df['Top Ten'].values.reshape(-1,1),remen_df.Stars)))"
      ],
      "execution_count": 9,
      "outputs": [
        {
          "output_type": "stream",
          "text": [
            "linear_model.coef_: [-0.04307483]\n",
            "linear_modelintercept_: 5.272995200081727\n",
            "R-square score: 0.02\n"
          ],
          "name": "stdout"
        }
      ]
    },
    {
      "cell_type": "markdown",
      "metadata": {
        "id": "plxr6cA-R3GC",
        "colab_type": "text"
      },
      "source": [
        "### <font color = 'orange'>Question #4: Set up up a best subset regression table and check how many of the variables from your calculation above should be combined in a multiple linear regression to produce an optimal model, then build and run your multiple regression model and test its quality with leave-one-out cross-validation. Explain how this model improves the output of the simple linear regression you ran previously in AT LEAST two sentences.  </font>\n",
        "<br> <font color = 'green'>Answer:   Based on the correlation matrix, all the predictors are not related to each other, meaing they have low correlations. So, I can comfortably hold out 50% of the dataset as testing dataset, then fit them  into the model.  As the results, we can see the score on the training dataset jumps from 0.01 from the simple linear regression to 0.07 of the multiple linear regression. This is due to adding more variables to boost the predicting power from the input variables. Moreover, the score from the training dataset matches that from the testing dataset. This mean it is a stable model. </font>"
      ]
    },
    {
      "cell_type": "code",
      "metadata": {
        "id": "jxDQBu7CNJ_U",
        "colab_type": "code",
        "colab": {
          "base_uri": "https://localhost:8080/",
          "height": 108
        },
        "outputId": "e1b3202d-d56f-4a9e-b818-d4a3ec597a81"
      },
      "source": [
        "from sklearn.linear_model import LinearRegression\n",
        "from sklearn.model_selection import train_test_split\n",
        "X=remen_df.drop(['Stars'], axis=1)\n",
        "y=remen_df['Stars']\n",
        "X_train, X_test, y_train, y_test = train_test_split(X, y, random_state=1859, test_size=0.5)\n",
        "linear_model = LinearRegression().fit(X_train, y_train)\n",
        "print(\"linear_model.coef_:\", linear_model.coef_)\n",
        "print(\"linear_modelintercept_:\", linear_model.intercept_)\n",
        "print(\"Training dataset score: {:.2f}\".format(linear_model.score(X_train, y_train)))\n",
        "print(\"Testing dataset score: {:.2f}\".format(linear_model.score(X_test, y_test)))"
      ],
      "execution_count": 10,
      "outputs": [
        {
          "output_type": "stream",
          "text": [
            "linear_model.coef_: [ 3.33761681e-04  3.34120859e-04 -5.61953809e-05 -2.32807583e-02\n",
            "  1.74222850e-03 -6.36459427e-02]\n",
            "linear_modelintercept_: 5.661228877643227\n",
            "Training dataset score: 0.07\n",
            "Testing dataset score: 0.07\n"
          ],
          "name": "stdout"
        }
      ]
    },
    {
      "cell_type": "markdown",
      "metadata": {
        "colab_type": "text",
        "id": "XJZ7lMQpxRfq"
      },
      "source": [
        "### <font color = 'orange'>Question #5: Build and run a logistic regression model and explain in AT LEAST two sentences how your output improves on the simple and multiple regression. Is the logistic model better or not as good?.  </font>\n",
        "<br> <font color = 'green'>Answer: Firstable, logistic regression only take target variable as binary, meaning 1 or 0. so, we need to catogorize stars rating higher than 3 as 'Good', and any rating lower than 3 is 'Bad'. So, 1 represents 'Good' and 0 represents 'Bad', and they are the values of my target variable.\n",
        "Then, I split the dataset into training and testing. After fitting the model, we see that the model performs is at 78% accuracy on the training dataset and 76% on the testing dataset. This is a good model. Is this model better than the other models, we need to use AIC or BIC to do the comparison. Unfortunately, Sklean dont have this option, but we can do it in Statsmodel. Lower the AIC or BIC, the better model is. \n",
        " </font>"
      ]
    },
    {
      "cell_type": "code",
      "metadata": {
        "id": "z60ZPI9nxRFT",
        "colab_type": "code",
        "colab": {
          "base_uri": "https://localhost:8080/",
          "height": 108
        },
        "outputId": "37679aa8-1bad-4b4f-b8fe-074886e45706"
      },
      "source": [
        "from sklearn.linear_model import LogisticRegression\n",
        "from sklearn.model_selection import train_test_split\n",
        "remen_df.loc[remen_df['Stars']>3,'Stars_Ind']=1\n",
        "remen_df['Stars_Ind'].fillna(0,inplace=True)\n",
        "X=remen_df.drop(['Stars','Stars_Ind'], axis=1)\n",
        "y=remen_df['Stars_Ind']\n",
        "X_train, X_test, y_train, y_test = train_test_split(X, y, random_state=1859, test_size=0.3)\n",
        "logit_model = LogisticRegression(max_iter=1000).fit(X_train,y_train)\n",
        "print(\"linear_model.coef_:\", logit_model.coef_)\n",
        "print(\"linear_modelintercept_:\", logit_model.intercept_)\n",
        "print(\"Model accuracy on the training dataset is : {:.2f}\".format(logit_model.score(X_train,y_train)))\n",
        "print(\"Model accuracy on the testing dataset is : {:.2f}\".format(logit_model.score(X_test, y_test)))"
      ],
      "execution_count": 11,
      "outputs": [
        {
          "output_type": "stream",
          "text": [
            "linear_model.coef_: [[ 5.89546421e-04  2.72149736e-04 -1.35431776e-04 -3.85656735e-02\n",
            "   2.88061971e-03 -5.02165547e-01]]\n",
            "linear_modelintercept_: [19.80240338]\n",
            "Model accuracy on the training dataset is : 0.78\n",
            "Model accuracy on the testing dataset is : 0.76\n"
          ],
          "name": "stdout"
        }
      ]
    },
    {
      "cell_type": "markdown",
      "metadata": {
        "id": "rL4-iAvkiWpN",
        "colab_type": "text"
      },
      "source": [
        "### <font color = 'orange'>------------------------------------------------------------------------END--------------------------------------------------------------------------------- </font>"
      ]
    }
  ]
}