{
  "nbformat": 4,
  "nbformat_minor": 0,
  "metadata": {
    "colab": {
      "name": "Practice Code - Week #8 by Wei Geng(David).ipynb",
      "provenance": [],
      "collapsed_sections": []
    },
    "kernelspec": {
      "name": "python3",
      "display_name": "Python 3"
    }
  },
  "cells": [
    {
      "cell_type": "code",
      "metadata": {
        "id": "njRBvvtbZcEy",
        "colab_type": "code",
        "colab": {}
      },
      "source": [
        "# Class IT-533 Week #8  - Gradient Descent and Neural Networks\n",
        "# Summer 2020\n",
        "# Week #8  Practice Code\n",
        "# By Wei Geng(David)\n",
        "# Created on: 07/05/2020"
      ],
      "execution_count": null,
      "outputs": []
    },
    {
      "cell_type": "code",
      "metadata": {
        "id": "SIBqRTX3ZfkC",
        "colab_type": "code",
        "colab": {
          "base_uri": "https://localhost:8080/",
          "height": 788
        },
        "outputId": "a365f5df-cd7b-4eb3-92a6-2b7ffb0ef271"
      },
      "source": [
        "# Convert to pandas DataFrame\n",
        "%pip install pandas\n",
        "%pip install matplotlib\n",
        "%pip install sklearn\n",
        "import pandas as pd\n",
        "import matplotlib.pyplot as plt\n",
        "pd.set_option('display.precision',2)\n",
        "df = pd.read_csv('https://raw.githubusercontent.com/intelspeedstep/AMOD533/master/UCI_Credit_Card.csv')\n",
        "print(df.info(verbose=True))\n",
        "df.head()"
      ],
      "execution_count": 49,
      "outputs": [
        {
          "output_type": "stream",
          "text": [
            "<class 'pandas.core.frame.DataFrame'>\n",
            "RangeIndex: 30000 entries, 0 to 29999\n",
            "Data columns (total 25 columns):\n",
            " #   Column                      Non-Null Count  Dtype  \n",
            "---  ------                      --------------  -----  \n",
            " 0   ID                          30000 non-null  int64  \n",
            " 1   LIMIT_BAL                   30000 non-null  float64\n",
            " 2   SEX                         30000 non-null  int64  \n",
            " 3   EDUCATION                   30000 non-null  int64  \n",
            " 4   MARRIAGE                    30000 non-null  int64  \n",
            " 5   AGE                         30000 non-null  int64  \n",
            " 6   PAY_0                       30000 non-null  int64  \n",
            " 7   PAY_2                       30000 non-null  int64  \n",
            " 8   PAY_3                       30000 non-null  int64  \n",
            " 9   PAY_4                       30000 non-null  int64  \n",
            " 10  PAY_5                       30000 non-null  int64  \n",
            " 11  PAY_6                       30000 non-null  int64  \n",
            " 12  BILL_AMT1                   30000 non-null  float64\n",
            " 13  BILL_AMT2                   30000 non-null  float64\n",
            " 14  BILL_AMT3                   30000 non-null  float64\n",
            " 15  BILL_AMT4                   30000 non-null  float64\n",
            " 16  BILL_AMT5                   30000 non-null  float64\n",
            " 17  BILL_AMT6                   30000 non-null  float64\n",
            " 18  PAY_AMT1                    30000 non-null  float64\n",
            " 19  PAY_AMT2                    30000 non-null  float64\n",
            " 20  PAY_AMT3                    30000 non-null  float64\n",
            " 21  PAY_AMT4                    30000 non-null  float64\n",
            " 22  PAY_AMT5                    30000 non-null  float64\n",
            " 23  PAY_AMT6                    30000 non-null  float64\n",
            " 24  default.payment.next.month  30000 non-null  int64  \n",
            "dtypes: float64(13), int64(12)\n",
            "memory usage: 5.7 MB\n",
            "None\n"
          ],
          "name": "stdout"
        },
        {
          "output_type": "execute_result",
          "data": {
            "text/html": [
              "<div>\n",
              "<style scoped>\n",
              "    .dataframe tbody tr th:only-of-type {\n",
              "        vertical-align: middle;\n",
              "    }\n",
              "\n",
              "    .dataframe tbody tr th {\n",
              "        vertical-align: top;\n",
              "    }\n",
              "\n",
              "    .dataframe thead th {\n",
              "        text-align: right;\n",
              "    }\n",
              "</style>\n",
              "<table border=\"1\" class=\"dataframe\">\n",
              "  <thead>\n",
              "    <tr style=\"text-align: right;\">\n",
              "      <th></th>\n",
              "      <th>ID</th>\n",
              "      <th>LIMIT_BAL</th>\n",
              "      <th>SEX</th>\n",
              "      <th>EDUCATION</th>\n",
              "      <th>MARRIAGE</th>\n",
              "      <th>AGE</th>\n",
              "      <th>PAY_0</th>\n",
              "      <th>PAY_2</th>\n",
              "      <th>PAY_3</th>\n",
              "      <th>PAY_4</th>\n",
              "      <th>PAY_5</th>\n",
              "      <th>PAY_6</th>\n",
              "      <th>BILL_AMT1</th>\n",
              "      <th>BILL_AMT2</th>\n",
              "      <th>BILL_AMT3</th>\n",
              "      <th>BILL_AMT4</th>\n",
              "      <th>BILL_AMT5</th>\n",
              "      <th>BILL_AMT6</th>\n",
              "      <th>PAY_AMT1</th>\n",
              "      <th>PAY_AMT2</th>\n",
              "      <th>PAY_AMT3</th>\n",
              "      <th>PAY_AMT4</th>\n",
              "      <th>PAY_AMT5</th>\n",
              "      <th>PAY_AMT6</th>\n",
              "      <th>default.payment.next.month</th>\n",
              "    </tr>\n",
              "  </thead>\n",
              "  <tbody>\n",
              "    <tr>\n",
              "      <th>0</th>\n",
              "      <td>1</td>\n",
              "      <td>20000.0</td>\n",
              "      <td>2</td>\n",
              "      <td>2</td>\n",
              "      <td>1</td>\n",
              "      <td>24</td>\n",
              "      <td>2</td>\n",
              "      <td>2</td>\n",
              "      <td>-1</td>\n",
              "      <td>-1</td>\n",
              "      <td>-2</td>\n",
              "      <td>-2</td>\n",
              "      <td>3913.0</td>\n",
              "      <td>3102.0</td>\n",
              "      <td>689.0</td>\n",
              "      <td>0.0</td>\n",
              "      <td>0.0</td>\n",
              "      <td>0.0</td>\n",
              "      <td>0.0</td>\n",
              "      <td>689.0</td>\n",
              "      <td>0.0</td>\n",
              "      <td>0.0</td>\n",
              "      <td>0.0</td>\n",
              "      <td>0.0</td>\n",
              "      <td>1</td>\n",
              "    </tr>\n",
              "    <tr>\n",
              "      <th>1</th>\n",
              "      <td>2</td>\n",
              "      <td>120000.0</td>\n",
              "      <td>2</td>\n",
              "      <td>2</td>\n",
              "      <td>2</td>\n",
              "      <td>26</td>\n",
              "      <td>-1</td>\n",
              "      <td>2</td>\n",
              "      <td>0</td>\n",
              "      <td>0</td>\n",
              "      <td>0</td>\n",
              "      <td>2</td>\n",
              "      <td>2682.0</td>\n",
              "      <td>1725.0</td>\n",
              "      <td>2682.0</td>\n",
              "      <td>3272.0</td>\n",
              "      <td>3455.0</td>\n",
              "      <td>3261.0</td>\n",
              "      <td>0.0</td>\n",
              "      <td>1000.0</td>\n",
              "      <td>1000.0</td>\n",
              "      <td>1000.0</td>\n",
              "      <td>0.0</td>\n",
              "      <td>2000.0</td>\n",
              "      <td>1</td>\n",
              "    </tr>\n",
              "    <tr>\n",
              "      <th>2</th>\n",
              "      <td>3</td>\n",
              "      <td>90000.0</td>\n",
              "      <td>2</td>\n",
              "      <td>2</td>\n",
              "      <td>2</td>\n",
              "      <td>34</td>\n",
              "      <td>0</td>\n",
              "      <td>0</td>\n",
              "      <td>0</td>\n",
              "      <td>0</td>\n",
              "      <td>0</td>\n",
              "      <td>0</td>\n",
              "      <td>29239.0</td>\n",
              "      <td>14027.0</td>\n",
              "      <td>13559.0</td>\n",
              "      <td>14331.0</td>\n",
              "      <td>14948.0</td>\n",
              "      <td>15549.0</td>\n",
              "      <td>1518.0</td>\n",
              "      <td>1500.0</td>\n",
              "      <td>1000.0</td>\n",
              "      <td>1000.0</td>\n",
              "      <td>1000.0</td>\n",
              "      <td>5000.0</td>\n",
              "      <td>0</td>\n",
              "    </tr>\n",
              "    <tr>\n",
              "      <th>3</th>\n",
              "      <td>4</td>\n",
              "      <td>50000.0</td>\n",
              "      <td>2</td>\n",
              "      <td>2</td>\n",
              "      <td>1</td>\n",
              "      <td>37</td>\n",
              "      <td>0</td>\n",
              "      <td>0</td>\n",
              "      <td>0</td>\n",
              "      <td>0</td>\n",
              "      <td>0</td>\n",
              "      <td>0</td>\n",
              "      <td>46990.0</td>\n",
              "      <td>48233.0</td>\n",
              "      <td>49291.0</td>\n",
              "      <td>28314.0</td>\n",
              "      <td>28959.0</td>\n",
              "      <td>29547.0</td>\n",
              "      <td>2000.0</td>\n",
              "      <td>2019.0</td>\n",
              "      <td>1200.0</td>\n",
              "      <td>1100.0</td>\n",
              "      <td>1069.0</td>\n",
              "      <td>1000.0</td>\n",
              "      <td>0</td>\n",
              "    </tr>\n",
              "    <tr>\n",
              "      <th>4</th>\n",
              "      <td>5</td>\n",
              "      <td>50000.0</td>\n",
              "      <td>1</td>\n",
              "      <td>2</td>\n",
              "      <td>1</td>\n",
              "      <td>57</td>\n",
              "      <td>-1</td>\n",
              "      <td>0</td>\n",
              "      <td>-1</td>\n",
              "      <td>0</td>\n",
              "      <td>0</td>\n",
              "      <td>0</td>\n",
              "      <td>8617.0</td>\n",
              "      <td>5670.0</td>\n",
              "      <td>35835.0</td>\n",
              "      <td>20940.0</td>\n",
              "      <td>19146.0</td>\n",
              "      <td>19131.0</td>\n",
              "      <td>2000.0</td>\n",
              "      <td>36681.0</td>\n",
              "      <td>10000.0</td>\n",
              "      <td>9000.0</td>\n",
              "      <td>689.0</td>\n",
              "      <td>679.0</td>\n",
              "      <td>0</td>\n",
              "    </tr>\n",
              "  </tbody>\n",
              "</table>\n",
              "</div>"
            ],
            "text/plain": [
              "   ID  LIMIT_BAL  SEX  ...  PAY_AMT5  PAY_AMT6  default.payment.next.month\n",
              "0   1    20000.0    2  ...       0.0       0.0                           1\n",
              "1   2   120000.0    2  ...       0.0    2000.0                           1\n",
              "2   3    90000.0    2  ...    1000.0    5000.0                           0\n",
              "3   4    50000.0    2  ...    1069.0    1000.0                           0\n",
              "4   5    50000.0    1  ...     689.0     679.0                           0\n",
              "\n",
              "[5 rows x 25 columns]"
            ]
          },
          "metadata": {
            "tags": []
          },
          "execution_count": 49
        }
      ]
    },
    {
      "cell_type": "markdown",
      "metadata": {
        "id": "U2Dkv4VCgcXg",
        "colab_type": "text"
      },
      "source": [
        "### -------------------------------------------Question 1 Bucketize the LIMIT_BAL attribute in the Credit Card dataset  into 5 categories, so that it becomes a categorical class attribute.  -----------------------------------------"
      ]
    },
    {
      "cell_type": "code",
      "metadata": {
        "id": "NI3hCtgwI5KB",
        "colab_type": "code",
        "colab": {
          "base_uri": "https://localhost:8080/",
          "height": 228
        },
        "outputId": "83d12f31-9113-4b20-ba45-e00c68c66849"
      },
      "source": [
        "# Let's use qcut in pandas to bucketize the LIMIT_BAL variables\n",
        "# Use groupby and agg function to check the results from the bucketization\n",
        "df['LIMIT_BAL_CAT']=pd.qcut(df.LIMIT_BAL, 5, labels=False)\n",
        "df.groupby(['LIMIT_BAL_CAT'])['LIMIT_BAL'].agg(['count','min','mean','max','std'])"
      ],
      "execution_count": 50,
      "outputs": [
        {
          "output_type": "execute_result",
          "data": {
            "text/html": [
              "<div>\n",
              "<style scoped>\n",
              "    .dataframe tbody tr th:only-of-type {\n",
              "        vertical-align: middle;\n",
              "    }\n",
              "\n",
              "    .dataframe tbody tr th {\n",
              "        vertical-align: top;\n",
              "    }\n",
              "\n",
              "    .dataframe thead th {\n",
              "        text-align: right;\n",
              "    }\n",
              "</style>\n",
              "<table border=\"1\" class=\"dataframe\">\n",
              "  <thead>\n",
              "    <tr style=\"text-align: right;\">\n",
              "      <th></th>\n",
              "      <th>count</th>\n",
              "      <th>min</th>\n",
              "      <th>mean</th>\n",
              "      <th>max</th>\n",
              "      <th>std</th>\n",
              "    </tr>\n",
              "    <tr>\n",
              "      <th>LIMIT_BAL_CAT</th>\n",
              "      <th></th>\n",
              "      <th></th>\n",
              "      <th></th>\n",
              "      <th></th>\n",
              "      <th></th>\n",
              "    </tr>\n",
              "  </thead>\n",
              "  <tbody>\n",
              "    <tr>\n",
              "      <th>0</th>\n",
              "      <td>7676</td>\n",
              "      <td>10000.0</td>\n",
              "      <td>35204.79</td>\n",
              "      <td>50000.0</td>\n",
              "      <td>14239.69</td>\n",
              "    </tr>\n",
              "    <tr>\n",
              "      <th>1</th>\n",
              "      <td>4822</td>\n",
              "      <td>60000.0</td>\n",
              "      <td>80759.02</td>\n",
              "      <td>100000.0</td>\n",
              "      <td>13545.98</td>\n",
              "    </tr>\n",
              "    <tr>\n",
              "      <th>2</th>\n",
              "      <td>6123</td>\n",
              "      <td>110000.0</td>\n",
              "      <td>146743.43</td>\n",
              "      <td>180000.0</td>\n",
              "      <td>22406.16</td>\n",
              "    </tr>\n",
              "    <tr>\n",
              "      <th>3</th>\n",
              "      <td>5421</td>\n",
              "      <td>190000.0</td>\n",
              "      <td>223368.38</td>\n",
              "      <td>270000.0</td>\n",
              "      <td>23106.10</td>\n",
              "    </tr>\n",
              "    <tr>\n",
              "      <th>4</th>\n",
              "      <td>5958</td>\n",
              "      <td>280000.0</td>\n",
              "      <td>378564.57</td>\n",
              "      <td>1000000.0</td>\n",
              "      <td>82967.52</td>\n",
              "    </tr>\n",
              "  </tbody>\n",
              "</table>\n",
              "</div>"
            ],
            "text/plain": [
              "               count       min       mean        max       std\n",
              "LIMIT_BAL_CAT                                                 \n",
              "0               7676   10000.0   35204.79    50000.0  14239.69\n",
              "1               4822   60000.0   80759.02   100000.0  13545.98\n",
              "2               6123  110000.0  146743.43   180000.0  22406.16\n",
              "3               5421  190000.0  223368.38   270000.0  23106.10\n",
              "4               5958  280000.0  378564.57  1000000.0  82967.52"
            ]
          },
          "metadata": {
            "tags": []
          },
          "execution_count": 50
        }
      ]
    },
    {
      "cell_type": "markdown",
      "metadata": {
        "id": "Z1DXT6f_mmBI",
        "colab_type": "text"
      },
      "source": [
        "### -------------------------------------Question 2 Use Random Forest to build a prediction model for limit_bal. --------------------------"
      ]
    },
    {
      "cell_type": "code",
      "metadata": {
        "id": "9Vgck51GZlu7",
        "colab_type": "code",
        "colab": {
          "base_uri": "https://localhost:8080/",
          "height": 86
        },
        "outputId": "65aa2312-a8e5-41ea-f211-c01e959976ff"
      },
      "source": [
        "# 1) Random Forest is a probability tree algorthm which uses the ensemble method to build multiple number of decision trees to average out the performance\n",
        "# This would give us a very stable model, however, it is not difficult to explain the which features are important in which model.\n",
        "# 2) Again, Random Forest can handle both continuous and categorical target variable, In this case, I am going model a categorical variable \n",
        "# so, I set 'dLIMIT_BAL_CAT' as a categorical target variable, and split data with hold-out methold with 70% to 30%\n",
        "# 3) After running the model, we get model accuracy equal to 100% both on the training set and 99.81% test set. This is a very good model.\n",
        "from sklearn.model_selection import train_test_split\n",
        "from sklearn.ensemble import RandomForestClassifier\n",
        "X=df.drop(['LIMIT_BAL','ID'], axis=1)\n",
        "y=df['LIMIT_BAL_CAT']\n",
        "X_train, X_test, y_train, y_test = train_test_split(X, y, random_state=1859, test_size=0.3)\n",
        "forest = RandomForestClassifier(n_estimators=50, random_state=1859)\n",
        "forest.fit(X_train, y_train)\n",
        "y_pred = forest.predict(X_test)\n",
        "print(\"Test set predictions:\\n\", y_pred)\n",
        "print(\"Training set score: {:.5f}\".format(forest.score(X_train, y_train)))\n",
        "print(\"Test set score: {:.5f}\".format(forest.score(X_test, y_test)))"
      ],
      "execution_count": 54,
      "outputs": [
        {
          "output_type": "stream",
          "text": [
            "Test set predictions:\n",
            " [4 4 0 ... 0 1 1]\n",
            "Training set score: 1.00000\n",
            "Test set score: 0.99811\n"
          ],
          "name": "stdout"
        }
      ]
    },
    {
      "cell_type": "markdown",
      "metadata": {
        "id": "1Sdw6uuDpx0B",
        "colab_type": "text"
      },
      "source": [
        "### -------------------------------------Question 3 Use Neural Networks to build a prediction model for limit_bal. --------------------------"
      ]
    },
    {
      "cell_type": "code",
      "metadata": {
        "id": "0puN5aIap7vJ",
        "colab_type": "code",
        "colab": {}
      },
      "source": [
        "# Apply mean normalization; this step is to standarize the features to follow the normal distribution\n",
        "# Assign the scaled data to a DataFrame & use the index and columns arguments to keep your original indices and column names:\n",
        "from sklearn.preprocessing import StandardScaler\n",
        "X_train_array = StandardScaler().fit_transform(X_train.values) \n",
        "X_train = pd.DataFrame(X_train_array, index=X_train.index, columns=X_train.columns)"
      ],
      "execution_count": 56,
      "outputs": []
    },
    {
      "cell_type": "code",
      "metadata": {
        "id": "4AlaKk6NrsaH",
        "colab_type": "code",
        "colab": {}
      },
      "source": [
        "# Center test data.\n",
        "X_test_array = sc.transform(X_test.values)\n",
        "X_test = pd.DataFrame(X_test_array, index=X_test.index, columns=X_test.columns)"
      ],
      "execution_count": 57,
      "outputs": []
    },
    {
      "cell_type": "code",
      "metadata": {
        "id": "zfU5bS1crzxG",
        "colab_type": "code",
        "colab": {
          "base_uri": "https://localhost:8080/",
          "height": 86
        },
        "outputId": "39e06793-e9d7-450a-f313-2687f319111b"
      },
      "source": [
        "# fit the neural_network model MLP, set the hidden_layer to 10, solver='sgd',learning_rate_init=0.01,max_iter=500\n",
        "# we got a perfect model that has 100% accuracy in both training and test dataset.\n",
        "from sklearn.neural_network import MLPClassifier\n",
        "mlp = MLPClassifier(hidden_layer_sizes=(10),solver='sgd',learning_rate_init=0.01,max_iter=500)\n",
        "mlp.fit(X_train, y_train)\n",
        "y_pred = mlp.predict(X_test)\n",
        "print(\"Test set predictions:\\n\", y_pred)\n",
        "print(\"Training set score: {:.5f}\".format(mlp.score(X_train, y_train)))\n",
        "print(\"Test set score: {:.5f}\".format(mlp.score(X_test, y_test)))"
      ],
      "execution_count": 58,
      "outputs": [
        {
          "output_type": "stream",
          "text": [
            "Test set predictions:\n",
            " [4 4 0 ... 0 1 1]\n",
            "Training set score: 1.00000\n",
            "Test set score: 1.00000\n"
          ],
          "name": "stdout"
        }
      ]
    },
    {
      "cell_type": "markdown",
      "metadata": {
        "id": "0MD7LEQpdrCS",
        "colab_type": "text"
      },
      "source": [
        "### -----------------------------------------END--------------------------------------------------------------"
      ]
    }
  ]
}