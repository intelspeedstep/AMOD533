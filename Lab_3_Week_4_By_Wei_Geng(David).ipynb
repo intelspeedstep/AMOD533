{
  "nbformat": 4,
  "nbformat_minor": 0,
  "metadata": {
    "colab": {
      "name": "Lab #3 - Week #4 By Wei Geng(David).ipynb",
      "provenance": [],
      "collapsed_sections": []
    },
    "kernelspec": {
      "name": "python3",
      "display_name": "Python 3"
    }
  },
  "cells": [
    {
      "cell_type": "code",
      "metadata": {
        "id": "njRBvvtbZcEy",
        "colab_type": "code",
        "colab": {}
      },
      "source": [
        "# Class IT-533 Week #4  - Measures of Association\n",
        "# Summer 2020\n",
        "# Lab #3 - ramen-ratings.csv\n",
        "# By Wei Geng(David) and Anusha Bale\n",
        "# Created on: 06/08/2020\n",
        "# Honor Code: “I have neither given or received, nor have I tolerated others' use of unauthorized aid.”"
      ],
      "execution_count": 0,
      "outputs": []
    },
    {
      "cell_type": "code",
      "metadata": {
        "id": "8npOXrx7gRIU",
        "colab_type": "code",
        "colab": {}
      },
      "source": [
        "# install pandas in case you dont have pandas pre-installed\n",
        "%pip install pandas"
      ],
      "execution_count": 0,
      "outputs": []
    },
    {
      "cell_type": "code",
      "metadata": {
        "id": "9Vgck51GZlu7",
        "colab_type": "code",
        "outputId": "ef7fef5b-54bd-4351-8bc0-207f76bf7e5e",
        "colab": {
          "base_uri": "https://localhost:8080/",
          "height": 198
        }
      },
      "source": [
        "# Convert to pandas DataFrame\n",
        "import numpy as np\n",
        "import pandas as pd\n",
        "remen_df = pd.read_csv('https://raw.githubusercontent.com/intelspeedstep/AMOD533/master/ramen-ratings.csv')\n",
        "remen_df.head()"
      ],
      "execution_count": 3,
      "outputs": [
        {
          "output_type": "execute_result",
          "data": {
            "text/html": [
              "<div>\n",
              "<style scoped>\n",
              "    .dataframe tbody tr th:only-of-type {\n",
              "        vertical-align: middle;\n",
              "    }\n",
              "\n",
              "    .dataframe tbody tr th {\n",
              "        vertical-align: top;\n",
              "    }\n",
              "\n",
              "    .dataframe thead th {\n",
              "        text-align: right;\n",
              "    }\n",
              "</style>\n",
              "<table border=\"1\" class=\"dataframe\">\n",
              "  <thead>\n",
              "    <tr style=\"text-align: right;\">\n",
              "      <th></th>\n",
              "      <th>Review #</th>\n",
              "      <th>Brand</th>\n",
              "      <th>Variety</th>\n",
              "      <th>Style</th>\n",
              "      <th>Country</th>\n",
              "      <th>Stars</th>\n",
              "      <th>Top Ten</th>\n",
              "    </tr>\n",
              "  </thead>\n",
              "  <tbody>\n",
              "    <tr>\n",
              "      <th>0</th>\n",
              "      <td>2580</td>\n",
              "      <td>New Touch</td>\n",
              "      <td>T's Restaurant Tantanmen</td>\n",
              "      <td>Cup</td>\n",
              "      <td>Japan</td>\n",
              "      <td>3.75</td>\n",
              "      <td>NaN</td>\n",
              "    </tr>\n",
              "    <tr>\n",
              "      <th>1</th>\n",
              "      <td>2579</td>\n",
              "      <td>Just Way</td>\n",
              "      <td>Noodles Spicy Hot Sesame Spicy Hot Sesame Guan...</td>\n",
              "      <td>Pack</td>\n",
              "      <td>Taiwan</td>\n",
              "      <td>1</td>\n",
              "      <td>NaN</td>\n",
              "    </tr>\n",
              "    <tr>\n",
              "      <th>2</th>\n",
              "      <td>2578</td>\n",
              "      <td>Nissin</td>\n",
              "      <td>Cup Noodles Chicken Vegetable</td>\n",
              "      <td>Cup</td>\n",
              "      <td>USA</td>\n",
              "      <td>2.25</td>\n",
              "      <td>NaN</td>\n",
              "    </tr>\n",
              "    <tr>\n",
              "      <th>3</th>\n",
              "      <td>2577</td>\n",
              "      <td>Wei Lih</td>\n",
              "      <td>GGE Ramen Snack Tomato Flavor</td>\n",
              "      <td>Pack</td>\n",
              "      <td>Taiwan</td>\n",
              "      <td>2.75</td>\n",
              "      <td>NaN</td>\n",
              "    </tr>\n",
              "    <tr>\n",
              "      <th>4</th>\n",
              "      <td>2576</td>\n",
              "      <td>Ching's Secret</td>\n",
              "      <td>Singapore Curry</td>\n",
              "      <td>Pack</td>\n",
              "      <td>India</td>\n",
              "      <td>3.75</td>\n",
              "      <td>NaN</td>\n",
              "    </tr>\n",
              "  </tbody>\n",
              "</table>\n",
              "</div>"
            ],
            "text/plain": [
              "   Review #           Brand  ... Stars Top Ten\n",
              "0      2580       New Touch  ...  3.75     NaN\n",
              "1      2579        Just Way  ...     1     NaN\n",
              "2      2578          Nissin  ...  2.25     NaN\n",
              "3      2577         Wei Lih  ...  2.75     NaN\n",
              "4      2576  Ching's Secret  ...  3.75     NaN\n",
              "\n",
              "[5 rows x 7 columns]"
            ]
          },
          "metadata": {
            "tags": []
          },
          "execution_count": 3
        }
      ]
    },
    {
      "cell_type": "markdown",
      "metadata": {
        "id": "EzJxBQQjEYMY",
        "colab_type": "text"
      },
      "source": [
        ""
      ]
    },
    {
      "cell_type": "code",
      "metadata": {
        "id": "SNe34DsGEsSt",
        "colab_type": "code",
        "outputId": "98602b09-0d6b-428e-d952-f65c50e1497d",
        "colab": {
          "base_uri": "https://localhost:8080/",
          "height": 308
        }
      },
      "source": [
        "# output the data attributes and its datatypes, plus the shape of the dataset\n",
        "print(remen_df.info(verbose=True))\n",
        "print(remen_df.shape)"
      ],
      "execution_count": 4,
      "outputs": [
        {
          "output_type": "stream",
          "text": [
            "<class 'pandas.core.frame.DataFrame'>\n",
            "RangeIndex: 2580 entries, 0 to 2579\n",
            "Data columns (total 7 columns):\n",
            " #   Column    Non-Null Count  Dtype \n",
            "---  ------    --------------  ----- \n",
            " 0   Review #  2580 non-null   int64 \n",
            " 1   Brand     2580 non-null   object\n",
            " 2   Variety   2580 non-null   object\n",
            " 3   Style     2578 non-null   object\n",
            " 4   Country   2580 non-null   object\n",
            " 5   Stars     2580 non-null   object\n",
            " 6   Top Ten   41 non-null     object\n",
            "dtypes: int64(1), object(6)\n",
            "memory usage: 141.2+ KB\n",
            "None\n",
            "(2580, 7)\n"
          ],
          "name": "stdout"
        }
      ]
    },
    {
      "cell_type": "code",
      "metadata": {
        "id": "E7-FWME7wXq7",
        "colab_type": "code",
        "colab": {}
      },
      "source": [
        "# Convert Stars from object to numberic and Review # to str since ID number usually has no analytical value\n",
        "remen_df.loc[remen_df[\"Stars\"]=='Unrated','Stars']=np.nan\n",
        "remen_df['Stars']=remen_df['Stars'].astype(float)\n",
        "remen_df['Review #']=remen_df['Review #'].astype(str)"
      ],
      "execution_count": 0,
      "outputs": []
    },
    {
      "cell_type": "markdown",
      "metadata": {
        "id": "4X4BF5cCEmE-",
        "colab_type": "text"
      },
      "source": [
        "### <font color = 'orange'>Question #1:How did you decide which two or three attributes to pick for your analysis?.</font>\n",
        "<br> <font color = 'green'>Answer:1) I pick 'country' and 'Brand' as its correlation is 0.208939. It is the highest in the correlation metrix below.;\n",
        "</font></br>"
      ]
    },
    {
      "cell_type": "code",
      "metadata": {
        "id": "Z8xrRl9zlSE0",
        "colab_type": "code",
        "outputId": "22f0bcf0-0110-479c-8a37-6419d1fdb1e8",
        "colab": {
          "base_uri": "https://localhost:8080/",
          "height": 198
        }
      },
      "source": [
        "from sklearn.preprocessing import LabelEncoder\n",
        "\n",
        "remen_df[\"Brand\"] = LabelEncoder().fit_transform(remen_df[\"Brand\"])\n",
        "remen_df[\"Variety\"] = LabelEncoder().fit_transform(remen_df[\"Variety\"])\n",
        "remen_df[\"Style\"] = LabelEncoder().fit_transform(remen_df[\"Style\"].astype(str))\n",
        "remen_df[\"Country\"] = LabelEncoder().fit_transform(remen_df[\"Country\"])\n",
        "remen_df[\"Top Ten\"] = LabelEncoder().fit_transform(remen_df[\"Top Ten\"].astype(str))\n",
        "remen_df.head()"
      ],
      "execution_count": 6,
      "outputs": [
        {
          "output_type": "execute_result",
          "data": {
            "text/html": [
              "<div>\n",
              "<style scoped>\n",
              "    .dataframe tbody tr th:only-of-type {\n",
              "        vertical-align: middle;\n",
              "    }\n",
              "\n",
              "    .dataframe tbody tr th {\n",
              "        vertical-align: top;\n",
              "    }\n",
              "\n",
              "    .dataframe thead th {\n",
              "        text-align: right;\n",
              "    }\n",
              "</style>\n",
              "<table border=\"1\" class=\"dataframe\">\n",
              "  <thead>\n",
              "    <tr style=\"text-align: right;\">\n",
              "      <th></th>\n",
              "      <th>Review #</th>\n",
              "      <th>Brand</th>\n",
              "      <th>Variety</th>\n",
              "      <th>Style</th>\n",
              "      <th>Country</th>\n",
              "      <th>Stars</th>\n",
              "      <th>Top Ten</th>\n",
              "    </tr>\n",
              "  </thead>\n",
              "  <tbody>\n",
              "    <tr>\n",
              "      <th>0</th>\n",
              "      <td>2580</td>\n",
              "      <td>190</td>\n",
              "      <td>2189</td>\n",
              "      <td>4</td>\n",
              "      <td>18</td>\n",
              "      <td>3.75</td>\n",
              "      <td>38</td>\n",
              "    </tr>\n",
              "    <tr>\n",
              "      <th>1</th>\n",
              "      <td>2579</td>\n",
              "      <td>119</td>\n",
              "      <td>1443</td>\n",
              "      <td>5</td>\n",
              "      <td>32</td>\n",
              "      <td>1.00</td>\n",
              "      <td>38</td>\n",
              "    </tr>\n",
              "    <tr>\n",
              "      <th>2</th>\n",
              "      <td>2578</td>\n",
              "      <td>192</td>\n",
              "      <td>454</td>\n",
              "      <td>4</td>\n",
              "      <td>35</td>\n",
              "      <td>2.25</td>\n",
              "      <td>38</td>\n",
              "    </tr>\n",
              "    <tr>\n",
              "      <th>3</th>\n",
              "      <td>2577</td>\n",
              "      <td>336</td>\n",
              "      <td>709</td>\n",
              "      <td>5</td>\n",
              "      <td>32</td>\n",
              "      <td>2.75</td>\n",
              "      <td>38</td>\n",
              "    </tr>\n",
              "    <tr>\n",
              "      <th>4</th>\n",
              "      <td>2576</td>\n",
              "      <td>38</td>\n",
              "      <td>1954</td>\n",
              "      <td>5</td>\n",
              "      <td>16</td>\n",
              "      <td>3.75</td>\n",
              "      <td>38</td>\n",
              "    </tr>\n",
              "  </tbody>\n",
              "</table>\n",
              "</div>"
            ],
            "text/plain": [
              "  Review #  Brand  Variety  Style  Country  Stars  Top Ten\n",
              "0     2580    190     2189      4       18   3.75       38\n",
              "1     2579    119     1443      5       32   1.00       38\n",
              "2     2578    192      454      4       35   2.25       38\n",
              "3     2577    336      709      5       32   2.75       38\n",
              "4     2576     38     1954      5       16   3.75       38"
            ]
          },
          "metadata": {
            "tags": []
          },
          "execution_count": 6
        }
      ]
    },
    {
      "cell_type": "code",
      "metadata": {
        "id": "UwLrValhVtRQ",
        "colab_type": "code",
        "outputId": "e6545d2f-5962-4e65-8763-0f2ef247cfbb",
        "colab": {
          "base_uri": "https://localhost:8080/",
          "height": 165
        }
      },
      "source": [
        "remen_df.corr().style.background_gradient(cmap='cool')"
      ],
      "execution_count": 7,
      "outputs": [
        {
          "output_type": "execute_result",
          "data": {
            "text/html": [
              "<style  type=\"text/css\" >\n",
              "    #T_78b2f116_ac70_11ea_839e_0242ac1c0002row0_col0 {\n",
              "            background-color:  #ff00ff;\n",
              "            color:  #f1f1f1;\n",
              "        }    #T_78b2f116_ac70_11ea_839e_0242ac1c0002row0_col1 {\n",
              "            background-color:  #00ffff;\n",
              "            color:  #000000;\n",
              "        }    #T_78b2f116_ac70_11ea_839e_0242ac1c0002row0_col2 {\n",
              "            background-color:  #05faff;\n",
              "            color:  #000000;\n",
              "        }    #T_78b2f116_ac70_11ea_839e_0242ac1c0002row0_col3 {\n",
              "            background-color:  #3ec1ff;\n",
              "            color:  #000000;\n",
              "        }    #T_78b2f116_ac70_11ea_839e_0242ac1c0002row0_col4 {\n",
              "            background-color:  #1ce3ff;\n",
              "            color:  #000000;\n",
              "        }    #T_78b2f116_ac70_11ea_839e_0242ac1c0002row0_col5 {\n",
              "            background-color:  #21deff;\n",
              "            color:  #000000;\n",
              "        }    #T_78b2f116_ac70_11ea_839e_0242ac1c0002row1_col0 {\n",
              "            background-color:  #00ffff;\n",
              "            color:  #000000;\n",
              "        }    #T_78b2f116_ac70_11ea_839e_0242ac1c0002row1_col1 {\n",
              "            background-color:  #ff00ff;\n",
              "            color:  #f1f1f1;\n",
              "        }    #T_78b2f116_ac70_11ea_839e_0242ac1c0002row1_col2 {\n",
              "            background-color:  #09f6ff;\n",
              "            color:  #000000;\n",
              "        }    #T_78b2f116_ac70_11ea_839e_0242ac1c0002row1_col3 {\n",
              "            background-color:  #11eeff;\n",
              "            color:  #000000;\n",
              "        }    #T_78b2f116_ac70_11ea_839e_0242ac1c0002row1_col4 {\n",
              "            background-color:  #1be4ff;\n",
              "            color:  #000000;\n",
              "        }    #T_78b2f116_ac70_11ea_839e_0242ac1c0002row1_col5 {\n",
              "            background-color:  #19e6ff;\n",
              "            color:  #000000;\n",
              "        }    #T_78b2f116_ac70_11ea_839e_0242ac1c0002row2_col0 {\n",
              "            background-color:  #00ffff;\n",
              "            color:  #000000;\n",
              "        }    #T_78b2f116_ac70_11ea_839e_0242ac1c0002row2_col1 {\n",
              "            background-color:  #04fbff;\n",
              "            color:  #000000;\n",
              "        }    #T_78b2f116_ac70_11ea_839e_0242ac1c0002row2_col2 {\n",
              "            background-color:  #ff00ff;\n",
              "            color:  #f1f1f1;\n",
              "        }    #T_78b2f116_ac70_11ea_839e_0242ac1c0002row2_col3 {\n",
              "            background-color:  #0ff0ff;\n",
              "            color:  #000000;\n",
              "        }    #T_78b2f116_ac70_11ea_839e_0242ac1c0002row2_col4 {\n",
              "            background-color:  #1de2ff;\n",
              "            color:  #000000;\n",
              "        }    #T_78b2f116_ac70_11ea_839e_0242ac1c0002row2_col5 {\n",
              "            background-color:  #10efff;\n",
              "            color:  #000000;\n",
              "        }    #T_78b2f116_ac70_11ea_839e_0242ac1c0002row3_col0 {\n",
              "            background-color:  #3cc3ff;\n",
              "            color:  #000000;\n",
              "        }    #T_78b2f116_ac70_11ea_839e_0242ac1c0002row3_col1 {\n",
              "            background-color:  #0df2ff;\n",
              "            color:  #000000;\n",
              "        }    #T_78b2f116_ac70_11ea_839e_0242ac1c0002row3_col2 {\n",
              "            background-color:  #10efff;\n",
              "            color:  #000000;\n",
              "        }    #T_78b2f116_ac70_11ea_839e_0242ac1c0002row3_col3 {\n",
              "            background-color:  #ff00ff;\n",
              "            color:  #f1f1f1;\n",
              "        }    #T_78b2f116_ac70_11ea_839e_0242ac1c0002row3_col4 {\n",
              "            background-color:  #11eeff;\n",
              "            color:  #000000;\n",
              "        }    #T_78b2f116_ac70_11ea_839e_0242ac1c0002row3_col5 {\n",
              "            background-color:  #1ee1ff;\n",
              "            color:  #000000;\n",
              "        }    #T_78b2f116_ac70_11ea_839e_0242ac1c0002row4_col0 {\n",
              "            background-color:  #07f8ff;\n",
              "            color:  #000000;\n",
              "        }    #T_78b2f116_ac70_11ea_839e_0242ac1c0002row4_col1 {\n",
              "            background-color:  #07f8ff;\n",
              "            color:  #000000;\n",
              "        }    #T_78b2f116_ac70_11ea_839e_0242ac1c0002row4_col2 {\n",
              "            background-color:  #0df2ff;\n",
              "            color:  #000000;\n",
              "        }    #T_78b2f116_ac70_11ea_839e_0242ac1c0002row4_col3 {\n",
              "            background-color:  #00ffff;\n",
              "            color:  #000000;\n",
              "        }    #T_78b2f116_ac70_11ea_839e_0242ac1c0002row4_col4 {\n",
              "            background-color:  #ff00ff;\n",
              "            color:  #f1f1f1;\n",
              "        }    #T_78b2f116_ac70_11ea_839e_0242ac1c0002row4_col5 {\n",
              "            background-color:  #00ffff;\n",
              "            color:  #000000;\n",
              "        }    #T_78b2f116_ac70_11ea_839e_0242ac1c0002row5_col0 {\n",
              "            background-color:  #0cf3ff;\n",
              "            color:  #000000;\n",
              "        }    #T_78b2f116_ac70_11ea_839e_0242ac1c0002row5_col1 {\n",
              "            background-color:  #04fbff;\n",
              "            color:  #000000;\n",
              "        }    #T_78b2f116_ac70_11ea_839e_0242ac1c0002row5_col2 {\n",
              "            background-color:  #00ffff;\n",
              "            color:  #000000;\n",
              "        }    #T_78b2f116_ac70_11ea_839e_0242ac1c0002row5_col3 {\n",
              "            background-color:  #0ef1ff;\n",
              "            color:  #000000;\n",
              "        }    #T_78b2f116_ac70_11ea_839e_0242ac1c0002row5_col4 {\n",
              "            background-color:  #00ffff;\n",
              "            color:  #000000;\n",
              "        }    #T_78b2f116_ac70_11ea_839e_0242ac1c0002row5_col5 {\n",
              "            background-color:  #ff00ff;\n",
              "            color:  #f1f1f1;\n",
              "        }</style><table id=\"T_78b2f116_ac70_11ea_839e_0242ac1c0002\" ><thead>    <tr>        <th class=\"blank level0\" ></th>        <th class=\"col_heading level0 col0\" >Brand</th>        <th class=\"col_heading level0 col1\" >Variety</th>        <th class=\"col_heading level0 col2\" >Style</th>        <th class=\"col_heading level0 col3\" >Country</th>        <th class=\"col_heading level0 col4\" >Stars</th>        <th class=\"col_heading level0 col5\" >Top Ten</th>    </tr></thead><tbody>\n",
              "                <tr>\n",
              "                        <th id=\"T_78b2f116_ac70_11ea_839e_0242ac1c0002level0_row0\" class=\"row_heading level0 row0\" >Brand</th>\n",
              "                        <td id=\"T_78b2f116_ac70_11ea_839e_0242ac1c0002row0_col0\" class=\"data row0 col0\" >1.000000</td>\n",
              "                        <td id=\"T_78b2f116_ac70_11ea_839e_0242ac1c0002row0_col1\" class=\"data row0 col1\" >-0.032517</td>\n",
              "                        <td id=\"T_78b2f116_ac70_11ea_839e_0242ac1c0002row0_col2\" class=\"data row0 col2\" >-0.033310</td>\n",
              "                        <td id=\"T_78b2f116_ac70_11ea_839e_0242ac1c0002row0_col3\" class=\"data row0 col3\" >0.208934</td>\n",
              "                        <td id=\"T_78b2f116_ac70_11ea_839e_0242ac1c0002row0_col4\" class=\"data row0 col4\" >-0.002231</td>\n",
              "                        <td id=\"T_78b2f116_ac70_11ea_839e_0242ac1c0002row0_col5\" class=\"data row0 col5\" >0.018992</td>\n",
              "            </tr>\n",
              "            <tr>\n",
              "                        <th id=\"T_78b2f116_ac70_11ea_839e_0242ac1c0002level0_row1\" class=\"row_heading level0 row1\" >Variety</th>\n",
              "                        <td id=\"T_78b2f116_ac70_11ea_839e_0242ac1c0002row1_col0\" class=\"data row1 col0\" >-0.032517</td>\n",
              "                        <td id=\"T_78b2f116_ac70_11ea_839e_0242ac1c0002row1_col1\" class=\"data row1 col1\" >1.000000</td>\n",
              "                        <td id=\"T_78b2f116_ac70_11ea_839e_0242ac1c0002row1_col2\" class=\"data row1 col2\" >-0.014336</td>\n",
              "                        <td id=\"T_78b2f116_ac70_11ea_839e_0242ac1c0002row1_col3\" class=\"data row1 col3\" >0.022645</td>\n",
              "                        <td id=\"T_78b2f116_ac70_11ea_839e_0242ac1c0002row1_col4\" class=\"data row1 col4\" >-0.003585</td>\n",
              "                        <td id=\"T_78b2f116_ac70_11ea_839e_0242ac1c0002row1_col5\" class=\"data row1 col5\" >-0.015678</td>\n",
              "            </tr>\n",
              "            <tr>\n",
              "                        <th id=\"T_78b2f116_ac70_11ea_839e_0242ac1c0002level0_row2\" class=\"row_heading level0 row2\" >Style</th>\n",
              "                        <td id=\"T_78b2f116_ac70_11ea_839e_0242ac1c0002row2_col0\" class=\"data row2 col0\" >-0.033310</td>\n",
              "                        <td id=\"T_78b2f116_ac70_11ea_839e_0242ac1c0002row2_col1\" class=\"data row2 col1\" >-0.014336</td>\n",
              "                        <td id=\"T_78b2f116_ac70_11ea_839e_0242ac1c0002row2_col2\" class=\"data row2 col2\" >1.000000</td>\n",
              "                        <td id=\"T_78b2f116_ac70_11ea_839e_0242ac1c0002row2_col3\" class=\"data row2 col3\" >0.013687</td>\n",
              "                        <td id=\"T_78b2f116_ac70_11ea_839e_0242ac1c0002row2_col4\" class=\"data row2 col4\" >0.002111</td>\n",
              "                        <td id=\"T_78b2f116_ac70_11ea_839e_0242ac1c0002row2_col5\" class=\"data row2 col5\" >-0.053918</td>\n",
              "            </tr>\n",
              "            <tr>\n",
              "                        <th id=\"T_78b2f116_ac70_11ea_839e_0242ac1c0002level0_row3\" class=\"row_heading level0 row3\" >Country</th>\n",
              "                        <td id=\"T_78b2f116_ac70_11ea_839e_0242ac1c0002row3_col0\" class=\"data row3 col0\" >0.208934</td>\n",
              "                        <td id=\"T_78b2f116_ac70_11ea_839e_0242ac1c0002row3_col1\" class=\"data row3 col1\" >0.022645</td>\n",
              "                        <td id=\"T_78b2f116_ac70_11ea_839e_0242ac1c0002row3_col2\" class=\"data row3 col2\" >0.013687</td>\n",
              "                        <td id=\"T_78b2f116_ac70_11ea_839e_0242ac1c0002row3_col3\" class=\"data row3 col3\" >1.000000</td>\n",
              "                        <td id=\"T_78b2f116_ac70_11ea_839e_0242ac1c0002row3_col4\" class=\"data row3 col4\" >-0.048844</td>\n",
              "                        <td id=\"T_78b2f116_ac70_11ea_839e_0242ac1c0002row3_col5\" class=\"data row3 col5\" >0.009168</td>\n",
              "            </tr>\n",
              "            <tr>\n",
              "                        <th id=\"T_78b2f116_ac70_11ea_839e_0242ac1c0002level0_row4\" class=\"row_heading level0 row4\" >Stars</th>\n",
              "                        <td id=\"T_78b2f116_ac70_11ea_839e_0242ac1c0002row4_col0\" class=\"data row4 col0\" >-0.002231</td>\n",
              "                        <td id=\"T_78b2f116_ac70_11ea_839e_0242ac1c0002row4_col1\" class=\"data row4 col1\" >-0.003585</td>\n",
              "                        <td id=\"T_78b2f116_ac70_11ea_839e_0242ac1c0002row4_col2\" class=\"data row4 col2\" >0.002111</td>\n",
              "                        <td id=\"T_78b2f116_ac70_11ea_839e_0242ac1c0002row4_col3\" class=\"data row4 col3\" >-0.048844</td>\n",
              "                        <td id=\"T_78b2f116_ac70_11ea_839e_0242ac1c0002row4_col4\" class=\"data row4 col4\" >1.000000</td>\n",
              "                        <td id=\"T_78b2f116_ac70_11ea_839e_0242ac1c0002row4_col5\" class=\"data row4 col5\" >-0.126490</td>\n",
              "            </tr>\n",
              "            <tr>\n",
              "                        <th id=\"T_78b2f116_ac70_11ea_839e_0242ac1c0002level0_row5\" class=\"row_heading level0 row5\" >Top Ten</th>\n",
              "                        <td id=\"T_78b2f116_ac70_11ea_839e_0242ac1c0002row5_col0\" class=\"data row5 col0\" >0.018992</td>\n",
              "                        <td id=\"T_78b2f116_ac70_11ea_839e_0242ac1c0002row5_col1\" class=\"data row5 col1\" >-0.015678</td>\n",
              "                        <td id=\"T_78b2f116_ac70_11ea_839e_0242ac1c0002row5_col2\" class=\"data row5 col2\" >-0.053918</td>\n",
              "                        <td id=\"T_78b2f116_ac70_11ea_839e_0242ac1c0002row5_col3\" class=\"data row5 col3\" >0.009168</td>\n",
              "                        <td id=\"T_78b2f116_ac70_11ea_839e_0242ac1c0002row5_col4\" class=\"data row5 col4\" >-0.126490</td>\n",
              "                        <td id=\"T_78b2f116_ac70_11ea_839e_0242ac1c0002row5_col5\" class=\"data row5 col5\" >1.000000</td>\n",
              "            </tr>\n",
              "    </tbody></table>"
            ],
            "text/plain": [
              "<pandas.io.formats.style.Styler at 0x7f0c3983b748>"
            ]
          },
          "metadata": {
            "tags": []
          },
          "execution_count": 7
        }
      ]
    },
    {
      "cell_type": "markdown",
      "metadata": {
        "id": "RfIAggh0H8kb",
        "colab_type": "text"
      },
      "source": [
        "### <font color = 'orange'>Question #2: What connections between the attributes do the results of your analysis reveal? </font>\n",
        "<br> <font color = 'green'>Answer: since the correlation between country and brand is positive, we can say country and brand are positive correlated, and the connection is fairly strong comparing to the other attributes.  </font>\n"
      ]
    },
    {
      "cell_type": "markdown",
      "metadata": {
        "id": "0iQIJ0iOKhZJ",
        "colab_type": "text"
      },
      "source": [
        "### <font color = 'orange'>Question #3: Were there any surprises?  Did you have to go back and pick different attributes and re-run your exercise? </font>\n",
        "<br> <font color = 'green'>Answer: Yes, I was suprised to see that Country and Stars are negative correlated. To confirm that both variables are negative correlated, I have run covariance matrix below. Again, I see country has negative impact on star rating. "
      ]
    },
    {
      "cell_type": "code",
      "metadata": {
        "id": "21IQKke0KkB_",
        "colab_type": "code",
        "outputId": "bf445548-ae5e-42d7-c2f8-95e7613b54c2",
        "colab": {
          "base_uri": "https://localhost:8080/",
          "height": 228
        }
      },
      "source": [
        "remen_df.cov()"
      ],
      "execution_count": 8,
      "outputs": [
        {
          "output_type": "execute_result",
          "data": {
            "text/html": [
              "<div>\n",
              "<style scoped>\n",
              "    .dataframe tbody tr th:only-of-type {\n",
              "        vertical-align: middle;\n",
              "    }\n",
              "\n",
              "    .dataframe tbody tr th {\n",
              "        vertical-align: top;\n",
              "    }\n",
              "\n",
              "    .dataframe thead th {\n",
              "        text-align: right;\n",
              "    }\n",
              "</style>\n",
              "<table border=\"1\" class=\"dataframe\">\n",
              "  <thead>\n",
              "    <tr style=\"text-align: right;\">\n",
              "      <th></th>\n",
              "      <th>Brand</th>\n",
              "      <th>Variety</th>\n",
              "      <th>Style</th>\n",
              "      <th>Country</th>\n",
              "      <th>Stars</th>\n",
              "      <th>Top Ten</th>\n",
              "    </tr>\n",
              "  </thead>\n",
              "  <tbody>\n",
              "    <tr>\n",
              "      <th>Brand</th>\n",
              "      <td>7753.298980</td>\n",
              "      <td>-2015.351951</td>\n",
              "      <td>-4.590695</td>\n",
              "      <td>183.546449</td>\n",
              "      <td>-0.199556</td>\n",
              "      <td>5.001265</td>\n",
              "    </tr>\n",
              "    <tr>\n",
              "      <th>Variety</th>\n",
              "      <td>-2015.351951</td>\n",
              "      <td>495434.717875</td>\n",
              "      <td>-15.793194</td>\n",
              "      <td>159.019532</td>\n",
              "      <td>-2.563037</td>\n",
              "      <td>-33.004524</td>\n",
              "    </tr>\n",
              "    <tr>\n",
              "      <th>Style</th>\n",
              "      <td>-4.590695</td>\n",
              "      <td>-15.793194</td>\n",
              "      <td>2.449680</td>\n",
              "      <td>0.213730</td>\n",
              "      <td>0.003356</td>\n",
              "      <td>-0.252385</td>\n",
              "    </tr>\n",
              "    <tr>\n",
              "      <th>Country</th>\n",
              "      <td>183.546449</td>\n",
              "      <td>159.019532</td>\n",
              "      <td>0.213730</td>\n",
              "      <td>99.537886</td>\n",
              "      <td>-0.494980</td>\n",
              "      <td>0.273569</td>\n",
              "    </tr>\n",
              "    <tr>\n",
              "      <th>Stars</th>\n",
              "      <td>-0.199556</td>\n",
              "      <td>-2.563037</td>\n",
              "      <td>0.003356</td>\n",
              "      <td>-0.494980</td>\n",
              "      <td>1.030896</td>\n",
              "      <td>-0.384318</td>\n",
              "    </tr>\n",
              "    <tr>\n",
              "      <th>Top Ten</th>\n",
              "      <td>5.001265</td>\n",
              "      <td>-33.004524</td>\n",
              "      <td>-0.252385</td>\n",
              "      <td>0.273569</td>\n",
              "      <td>-0.384318</td>\n",
              "      <td>8.944419</td>\n",
              "    </tr>\n",
              "  </tbody>\n",
              "</table>\n",
              "</div>"
            ],
            "text/plain": [
              "               Brand        Variety      Style     Country     Stars    Top Ten\n",
              "Brand    7753.298980   -2015.351951  -4.590695  183.546449 -0.199556   5.001265\n",
              "Variety -2015.351951  495434.717875 -15.793194  159.019532 -2.563037 -33.004524\n",
              "Style      -4.590695     -15.793194   2.449680    0.213730  0.003356  -0.252385\n",
              "Country   183.546449     159.019532   0.213730   99.537886 -0.494980   0.273569\n",
              "Stars      -0.199556      -2.563037   0.003356   -0.494980  1.030896  -0.384318\n",
              "Top Ten     5.001265     -33.004524  -0.252385    0.273569 -0.384318   8.944419"
            ]
          },
          "metadata": {
            "tags": []
          },
          "execution_count": 8
        }
      ]
    },
    {
      "cell_type": "code",
      "metadata": {
        "id": "jxDQBu7CNJ_U",
        "colab_type": "code",
        "outputId": "085a5688-7ecd-407e-d41a-0891375cbec2",
        "colab": {
          "base_uri": "https://localhost:8080/",
          "height": 163
        }
      },
      "source": [
        "# Simplify Stars variables by binning the star rating into 7 category values\n",
        "remen_df['Stars']=pd.qcut(remen_df['Stars'],7,precision=2,duplicates='drop')\n",
        "remen_df['Stars'].drop_duplicates().sort_values().reset_index(drop=True).dropna()"
      ],
      "execution_count": 9,
      "outputs": [
        {
          "output_type": "execute_result",
          "data": {
            "text/plain": [
              "0    (-0.01, 2.75]\n",
              "1     (2.75, 3.25]\n",
              "2     (3.25, 3.75]\n",
              "3      (3.75, 4.0]\n",
              "4       (4.0, 5.0]\n",
              "Name: Stars, dtype: category\n",
              "Categories (5, interval[float64]): [(-0.01, 2.75] < (2.75, 3.25] < (3.25, 3.75] < (3.75, 4.0] <\n",
              "                                    (4.0, 5.0]]"
            ]
          },
          "metadata": {
            "tags": []
          },
          "execution_count": 9
        }
      ]
    },
    {
      "cell_type": "markdown",
      "metadata": {
        "id": "plxr6cA-R3GC",
        "colab_type": "text"
      },
      "source": [
        "### <font color = 'orange'>Question #4: Would you be able to predict future values of one attribute from a correlation with on one or two others? How would you do this in R or Python?  </font>\n",
        "<br> <font color = 'green'>Answer: Yes, I can make a prediction. For example, I pick style attributes. from the correlation metrix below, I could predict that style that has style code higher, will increase the star rating since they both have positive correlation.   </font>"
      ]
    },
    {
      "cell_type": "code",
      "metadata": {
        "id": "z60ZPI9nxRFT",
        "colab_type": "code",
        "colab": {
          "base_uri": "https://localhost:8080/",
          "height": 145
        },
        "outputId": "d69817ca-915a-4553-86ea-de4bfe95d0b6"
      },
      "source": [
        "# Again, we need to pull up this wonderful correlation matrix to make our predictions. Also, the color will show us where we see high correlations.\n",
        "remen_df.corr().style.background_gradient(cmap='cool')"
      ],
      "execution_count": 10,
      "outputs": [
        {
          "output_type": "execute_result",
          "data": {
            "text/html": [
              "<style  type=\"text/css\" >\n",
              "    #T_78c1fd1e_ac70_11ea_839e_0242ac1c0002row0_col0 {\n",
              "            background-color:  #ff00ff;\n",
              "            color:  #f1f1f1;\n",
              "        }    #T_78c1fd1e_ac70_11ea_839e_0242ac1c0002row0_col1 {\n",
              "            background-color:  #00ffff;\n",
              "            color:  #000000;\n",
              "        }    #T_78c1fd1e_ac70_11ea_839e_0242ac1c0002row0_col2 {\n",
              "            background-color:  #05faff;\n",
              "            color:  #000000;\n",
              "        }    #T_78c1fd1e_ac70_11ea_839e_0242ac1c0002row0_col3 {\n",
              "            background-color:  #33ccff;\n",
              "            color:  #000000;\n",
              "        }    #T_78c1fd1e_ac70_11ea_839e_0242ac1c0002row0_col4 {\n",
              "            background-color:  #11eeff;\n",
              "            color:  #000000;\n",
              "        }    #T_78c1fd1e_ac70_11ea_839e_0242ac1c0002row1_col0 {\n",
              "            background-color:  #00ffff;\n",
              "            color:  #000000;\n",
              "        }    #T_78c1fd1e_ac70_11ea_839e_0242ac1c0002row1_col1 {\n",
              "            background-color:  #ff00ff;\n",
              "            color:  #f1f1f1;\n",
              "        }    #T_78c1fd1e_ac70_11ea_839e_0242ac1c0002row1_col2 {\n",
              "            background-color:  #09f6ff;\n",
              "            color:  #000000;\n",
              "        }    #T_78c1fd1e_ac70_11ea_839e_0242ac1c0002row1_col3 {\n",
              "            background-color:  #03fcff;\n",
              "            color:  #000000;\n",
              "        }    #T_78c1fd1e_ac70_11ea_839e_0242ac1c0002row1_col4 {\n",
              "            background-color:  #09f6ff;\n",
              "            color:  #000000;\n",
              "        }    #T_78c1fd1e_ac70_11ea_839e_0242ac1c0002row2_col0 {\n",
              "            background-color:  #00ffff;\n",
              "            color:  #000000;\n",
              "        }    #T_78c1fd1e_ac70_11ea_839e_0242ac1c0002row2_col1 {\n",
              "            background-color:  #04fbff;\n",
              "            color:  #000000;\n",
              "        }    #T_78c1fd1e_ac70_11ea_839e_0242ac1c0002row2_col2 {\n",
              "            background-color:  #ff00ff;\n",
              "            color:  #f1f1f1;\n",
              "        }    #T_78c1fd1e_ac70_11ea_839e_0242ac1c0002row2_col3 {\n",
              "            background-color:  #01feff;\n",
              "            color:  #000000;\n",
              "        }    #T_78c1fd1e_ac70_11ea_839e_0242ac1c0002row2_col4 {\n",
              "            background-color:  #00ffff;\n",
              "            color:  #000000;\n",
              "        }    #T_78c1fd1e_ac70_11ea_839e_0242ac1c0002row3_col0 {\n",
              "            background-color:  #3cc3ff;\n",
              "            color:  #000000;\n",
              "        }    #T_78c1fd1e_ac70_11ea_839e_0242ac1c0002row3_col1 {\n",
              "            background-color:  #0df2ff;\n",
              "            color:  #000000;\n",
              "        }    #T_78c1fd1e_ac70_11ea_839e_0242ac1c0002row3_col2 {\n",
              "            background-color:  #10efff;\n",
              "            color:  #000000;\n",
              "        }    #T_78c1fd1e_ac70_11ea_839e_0242ac1c0002row3_col3 {\n",
              "            background-color:  #ff00ff;\n",
              "            color:  #f1f1f1;\n",
              "        }    #T_78c1fd1e_ac70_11ea_839e_0242ac1c0002row3_col4 {\n",
              "            background-color:  #0ff0ff;\n",
              "            color:  #000000;\n",
              "        }    #T_78c1fd1e_ac70_11ea_839e_0242ac1c0002row4_col0 {\n",
              "            background-color:  #0cf3ff;\n",
              "            color:  #000000;\n",
              "        }    #T_78c1fd1e_ac70_11ea_839e_0242ac1c0002row4_col1 {\n",
              "            background-color:  #04fbff;\n",
              "            color:  #000000;\n",
              "        }    #T_78c1fd1e_ac70_11ea_839e_0242ac1c0002row4_col2 {\n",
              "            background-color:  #00ffff;\n",
              "            color:  #000000;\n",
              "        }    #T_78c1fd1e_ac70_11ea_839e_0242ac1c0002row4_col3 {\n",
              "            background-color:  #00ffff;\n",
              "            color:  #000000;\n",
              "        }    #T_78c1fd1e_ac70_11ea_839e_0242ac1c0002row4_col4 {\n",
              "            background-color:  #ff00ff;\n",
              "            color:  #f1f1f1;\n",
              "        }</style><table id=\"T_78c1fd1e_ac70_11ea_839e_0242ac1c0002\" ><thead>    <tr>        <th class=\"blank level0\" ></th>        <th class=\"col_heading level0 col0\" >Brand</th>        <th class=\"col_heading level0 col1\" >Variety</th>        <th class=\"col_heading level0 col2\" >Style</th>        <th class=\"col_heading level0 col3\" >Country</th>        <th class=\"col_heading level0 col4\" >Top Ten</th>    </tr></thead><tbody>\n",
              "                <tr>\n",
              "                        <th id=\"T_78c1fd1e_ac70_11ea_839e_0242ac1c0002level0_row0\" class=\"row_heading level0 row0\" >Brand</th>\n",
              "                        <td id=\"T_78c1fd1e_ac70_11ea_839e_0242ac1c0002row0_col0\" class=\"data row0 col0\" >1.000000</td>\n",
              "                        <td id=\"T_78c1fd1e_ac70_11ea_839e_0242ac1c0002row0_col1\" class=\"data row0 col1\" >-0.032517</td>\n",
              "                        <td id=\"T_78c1fd1e_ac70_11ea_839e_0242ac1c0002row0_col2\" class=\"data row0 col2\" >-0.033310</td>\n",
              "                        <td id=\"T_78c1fd1e_ac70_11ea_839e_0242ac1c0002row0_col3\" class=\"data row0 col3\" >0.208934</td>\n",
              "                        <td id=\"T_78c1fd1e_ac70_11ea_839e_0242ac1c0002row0_col4\" class=\"data row0 col4\" >0.018992</td>\n",
              "            </tr>\n",
              "            <tr>\n",
              "                        <th id=\"T_78c1fd1e_ac70_11ea_839e_0242ac1c0002level0_row1\" class=\"row_heading level0 row1\" >Variety</th>\n",
              "                        <td id=\"T_78c1fd1e_ac70_11ea_839e_0242ac1c0002row1_col0\" class=\"data row1 col0\" >-0.032517</td>\n",
              "                        <td id=\"T_78c1fd1e_ac70_11ea_839e_0242ac1c0002row1_col1\" class=\"data row1 col1\" >1.000000</td>\n",
              "                        <td id=\"T_78c1fd1e_ac70_11ea_839e_0242ac1c0002row1_col2\" class=\"data row1 col2\" >-0.014336</td>\n",
              "                        <td id=\"T_78c1fd1e_ac70_11ea_839e_0242ac1c0002row1_col3\" class=\"data row1 col3\" >0.022645</td>\n",
              "                        <td id=\"T_78c1fd1e_ac70_11ea_839e_0242ac1c0002row1_col4\" class=\"data row1 col4\" >-0.015678</td>\n",
              "            </tr>\n",
              "            <tr>\n",
              "                        <th id=\"T_78c1fd1e_ac70_11ea_839e_0242ac1c0002level0_row2\" class=\"row_heading level0 row2\" >Style</th>\n",
              "                        <td id=\"T_78c1fd1e_ac70_11ea_839e_0242ac1c0002row2_col0\" class=\"data row2 col0\" >-0.033310</td>\n",
              "                        <td id=\"T_78c1fd1e_ac70_11ea_839e_0242ac1c0002row2_col1\" class=\"data row2 col1\" >-0.014336</td>\n",
              "                        <td id=\"T_78c1fd1e_ac70_11ea_839e_0242ac1c0002row2_col2\" class=\"data row2 col2\" >1.000000</td>\n",
              "                        <td id=\"T_78c1fd1e_ac70_11ea_839e_0242ac1c0002row2_col3\" class=\"data row2 col3\" >0.013687</td>\n",
              "                        <td id=\"T_78c1fd1e_ac70_11ea_839e_0242ac1c0002row2_col4\" class=\"data row2 col4\" >-0.053918</td>\n",
              "            </tr>\n",
              "            <tr>\n",
              "                        <th id=\"T_78c1fd1e_ac70_11ea_839e_0242ac1c0002level0_row3\" class=\"row_heading level0 row3\" >Country</th>\n",
              "                        <td id=\"T_78c1fd1e_ac70_11ea_839e_0242ac1c0002row3_col0\" class=\"data row3 col0\" >0.208934</td>\n",
              "                        <td id=\"T_78c1fd1e_ac70_11ea_839e_0242ac1c0002row3_col1\" class=\"data row3 col1\" >0.022645</td>\n",
              "                        <td id=\"T_78c1fd1e_ac70_11ea_839e_0242ac1c0002row3_col2\" class=\"data row3 col2\" >0.013687</td>\n",
              "                        <td id=\"T_78c1fd1e_ac70_11ea_839e_0242ac1c0002row3_col3\" class=\"data row3 col3\" >1.000000</td>\n",
              "                        <td id=\"T_78c1fd1e_ac70_11ea_839e_0242ac1c0002row3_col4\" class=\"data row3 col4\" >0.009168</td>\n",
              "            </tr>\n",
              "            <tr>\n",
              "                        <th id=\"T_78c1fd1e_ac70_11ea_839e_0242ac1c0002level0_row4\" class=\"row_heading level0 row4\" >Top Ten</th>\n",
              "                        <td id=\"T_78c1fd1e_ac70_11ea_839e_0242ac1c0002row4_col0\" class=\"data row4 col0\" >0.018992</td>\n",
              "                        <td id=\"T_78c1fd1e_ac70_11ea_839e_0242ac1c0002row4_col1\" class=\"data row4 col1\" >-0.015678</td>\n",
              "                        <td id=\"T_78c1fd1e_ac70_11ea_839e_0242ac1c0002row4_col2\" class=\"data row4 col2\" >-0.053918</td>\n",
              "                        <td id=\"T_78c1fd1e_ac70_11ea_839e_0242ac1c0002row4_col3\" class=\"data row4 col3\" >0.009168</td>\n",
              "                        <td id=\"T_78c1fd1e_ac70_11ea_839e_0242ac1c0002row4_col4\" class=\"data row4 col4\" >1.000000</td>\n",
              "            </tr>\n",
              "    </tbody></table>"
            ],
            "text/plain": [
              "<pandas.io.formats.style.Styler at 0x7f0c2e755b00>"
            ]
          },
          "metadata": {
            "tags": []
          },
          "execution_count": 10
        }
      ]
    }
  ]
}