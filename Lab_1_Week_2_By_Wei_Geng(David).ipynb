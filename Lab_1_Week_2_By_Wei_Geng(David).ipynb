{
  "nbformat": 4,
  "nbformat_minor": 0,
  "metadata": {
    "colab": {
      "name": "Lab #1 - Week #2 By Wei Geng(David).ipynb",
      "provenance": [],
      "collapsed_sections": []
    },
    "kernelspec": {
      "name": "python3",
      "display_name": "Python 3"
    }
  },
  "cells": [
    {
      "cell_type": "code",
      "metadata": {
        "id": "njRBvvtbZcEy",
        "colab_type": "code",
        "colab": {}
      },
      "source": [
        "# Class IT-533 Week #2  - Introduction to Basic Analysis with R and Python\n",
        "# Summer 2020\n",
        "# Lab #1 - Ramen Rating from Kaggle\n",
        "# By Wei Geng(David) and Anusha Bale\n",
        "# Created on: 05/25/2020\n",
        "# Honor Code: “I have neither given or received, nor have I tolerated others' use of unauthorized aid.”"
      ],
      "execution_count": 0,
      "outputs": []
    },
    {
      "cell_type": "code",
      "metadata": {
        "id": "SIBqRTX3ZfkC",
        "colab_type": "code",
        "outputId": "87985900-ee47-46fd-c3b8-cbba8c54f34e",
        "colab": {
          "resources": {
            "http://localhost:8080/nbextensions/google.colab/files.js": {
              "data": "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",
              "ok": true,
              "headers": [
                [
                  "content-type",
                  "application/javascript"
                ]
              ],
              "status": 200,
              "status_text": ""
            }
          },
          "base_uri": "https://localhost:8080/",
          "height": 75
        }
      },
      "source": [
        "# import needed package and upload the file to google colab\n",
        "from google.colab import files\n",
        "uploaded = files.upload()"
      ],
      "execution_count": 2,
      "outputs": [
        {
          "output_type": "display_data",
          "data": {
            "text/html": [
              "\n",
              "     <input type=\"file\" id=\"files-6e82c2de-482e-4b89-95d9-4ef8847eb0fc\" name=\"files[]\" multiple disabled />\n",
              "     <output id=\"result-6e82c2de-482e-4b89-95d9-4ef8847eb0fc\">\n",
              "      Upload widget is only available when the cell has been executed in the\n",
              "      current browser session. Please rerun this cell to enable.\n",
              "      </output>\n",
              "      <script src=\"/nbextensions/google.colab/files.js\"></script> "
            ],
            "text/plain": [
              "<IPython.core.display.HTML object>"
            ]
          },
          "metadata": {
            "tags": []
          }
        },
        {
          "output_type": "stream",
          "text": [
            "Saving ramen-ratings.csv to ramen-ratings (1).csv\n"
          ],
          "name": "stdout"
        }
      ]
    },
    {
      "cell_type": "code",
      "metadata": {
        "id": "9Vgck51GZlu7",
        "colab_type": "code",
        "outputId": "9fe8de4a-9987-4e09-d1ab-b626d8495dcc",
        "colab": {
          "base_uri": "https://localhost:8080/",
          "height": 198
        }
      },
      "source": [
        "# Convert to pandas DataFrame\n",
        "import io\n",
        "import pandas as pd\n",
        "remen_df = pd.read_csv(io.BytesIO(uploaded['ramen-ratings.csv']))\n",
        "remen_df.head()"
      ],
      "execution_count": 3,
      "outputs": [
        {
          "output_type": "execute_result",
          "data": {
            "text/html": [
              "<div>\n",
              "<style scoped>\n",
              "    .dataframe tbody tr th:only-of-type {\n",
              "        vertical-align: middle;\n",
              "    }\n",
              "\n",
              "    .dataframe tbody tr th {\n",
              "        vertical-align: top;\n",
              "    }\n",
              "\n",
              "    .dataframe thead th {\n",
              "        text-align: right;\n",
              "    }\n",
              "</style>\n",
              "<table border=\"1\" class=\"dataframe\">\n",
              "  <thead>\n",
              "    <tr style=\"text-align: right;\">\n",
              "      <th></th>\n",
              "      <th>Review #</th>\n",
              "      <th>Brand</th>\n",
              "      <th>Variety</th>\n",
              "      <th>Style</th>\n",
              "      <th>Country</th>\n",
              "      <th>Stars</th>\n",
              "      <th>Top Ten</th>\n",
              "    </tr>\n",
              "  </thead>\n",
              "  <tbody>\n",
              "    <tr>\n",
              "      <th>0</th>\n",
              "      <td>2580</td>\n",
              "      <td>New Touch</td>\n",
              "      <td>T's Restaurant Tantanmen</td>\n",
              "      <td>Cup</td>\n",
              "      <td>Japan</td>\n",
              "      <td>3.75</td>\n",
              "      <td>NaN</td>\n",
              "    </tr>\n",
              "    <tr>\n",
              "      <th>1</th>\n",
              "      <td>2579</td>\n",
              "      <td>Just Way</td>\n",
              "      <td>Noodles Spicy Hot Sesame Spicy Hot Sesame Guan...</td>\n",
              "      <td>Pack</td>\n",
              "      <td>Taiwan</td>\n",
              "      <td>1</td>\n",
              "      <td>NaN</td>\n",
              "    </tr>\n",
              "    <tr>\n",
              "      <th>2</th>\n",
              "      <td>2578</td>\n",
              "      <td>Nissin</td>\n",
              "      <td>Cup Noodles Chicken Vegetable</td>\n",
              "      <td>Cup</td>\n",
              "      <td>USA</td>\n",
              "      <td>2.25</td>\n",
              "      <td>NaN</td>\n",
              "    </tr>\n",
              "    <tr>\n",
              "      <th>3</th>\n",
              "      <td>2577</td>\n",
              "      <td>Wei Lih</td>\n",
              "      <td>GGE Ramen Snack Tomato Flavor</td>\n",
              "      <td>Pack</td>\n",
              "      <td>Taiwan</td>\n",
              "      <td>2.75</td>\n",
              "      <td>NaN</td>\n",
              "    </tr>\n",
              "    <tr>\n",
              "      <th>4</th>\n",
              "      <td>2576</td>\n",
              "      <td>Ching's Secret</td>\n",
              "      <td>Singapore Curry</td>\n",
              "      <td>Pack</td>\n",
              "      <td>India</td>\n",
              "      <td>3.75</td>\n",
              "      <td>NaN</td>\n",
              "    </tr>\n",
              "  </tbody>\n",
              "</table>\n",
              "</div>"
            ],
            "text/plain": [
              "   Review #           Brand  ... Stars Top Ten\n",
              "0      2580       New Touch  ...  3.75     NaN\n",
              "1      2579        Just Way  ...     1     NaN\n",
              "2      2578          Nissin  ...  2.25     NaN\n",
              "3      2577         Wei Lih  ...  2.75     NaN\n",
              "4      2576  Ching's Secret  ...  3.75     NaN\n",
              "\n",
              "[5 rows x 7 columns]"
            ]
          },
          "metadata": {
            "tags": []
          },
          "execution_count": 3
        }
      ]
    },
    {
      "cell_type": "markdown",
      "metadata": {
        "id": "EzJxBQQjEYMY",
        "colab_type": "text"
      },
      "source": [
        ""
      ]
    },
    {
      "cell_type": "markdown",
      "metadata": {
        "id": "4X4BF5cCEmE-",
        "colab_type": "text"
      },
      "source": [
        "### <font color = 'orange'>Question #1: What does your dataset describe?  Who collected the data and when?  For whom would an analysis be useful and interesting?</font>\n",
        "<br> <font color = 'green'>Answer: This dataset was originally published on Kaggle by Aleksey Bilogur in 2018-01-11, and it contains remen rating stars and ranking information that was collected by the Ramen Rater, a product review website. This analysis would help business owner to evaluate its ramen quality and its services,but also will help the customer to shop for the best restaurants for remen noodles.\n",
        "</font></br>"
      ]
    },
    {
      "cell_type": "code",
      "metadata": {
        "id": "SNe34DsGEsSt",
        "colab_type": "code",
        "colab": {
          "base_uri": "https://localhost:8080/",
          "height": 308
        },
        "outputId": "2469306c-2634-4a87-cb88-f090105b4c77"
      },
      "source": [
        "# output the data attributes and its datatypes, plus the shape of the dataset\n",
        "print(remen_df.info(verbose=True))\n",
        "print(remen_df.shape)"
      ],
      "execution_count": 4,
      "outputs": [
        {
          "output_type": "stream",
          "text": [
            "<class 'pandas.core.frame.DataFrame'>\n",
            "RangeIndex: 2580 entries, 0 to 2579\n",
            "Data columns (total 7 columns):\n",
            " #   Column    Non-Null Count  Dtype \n",
            "---  ------    --------------  ----- \n",
            " 0   Review #  2580 non-null   int64 \n",
            " 1   Brand     2580 non-null   object\n",
            " 2   Variety   2580 non-null   object\n",
            " 3   Style     2578 non-null   object\n",
            " 4   Country   2580 non-null   object\n",
            " 5   Stars     2580 non-null   object\n",
            " 6   Top Ten   41 non-null     object\n",
            "dtypes: int64(1), object(6)\n",
            "memory usage: 141.2+ KB\n",
            "None\n",
            "(2580, 7)\n"
          ],
          "name": "stdout"
        }
      ]
    },
    {
      "cell_type": "markdown",
      "metadata": {
        "id": "RfIAggh0H8kb",
        "colab_type": "text"
      },
      "source": [
        "### <font color = 'orange'>Question #2: What data does it contain, and how much?</font>\n",
        "<br> <font color = 'green'>Answer: This dataset contains 7 attributes, 1 int64 column and 6 objects columns, and we need to adjust the datatype as you may notice that their data may not imported in a correct data type. In terms of number of records, we have 2,580 of them. So, this dataset contains 2,580 rows, and 7 columns.  </font>\n"
      ]
    },
    {
      "cell_type": "markdown",
      "metadata": {
        "id": "0iQIJ0iOKhZJ",
        "colab_type": "text"
      },
      "source": [
        "### <font color = 'orange'>Question #3: Find the FOUR most important attributes in your dataset.  What makes them important?  What are their data types?</font>\n",
        "<br> <font color = 'green'>Answer: 1) Brand 2) Style 3) Country 4)Stars are four most import attributes in the ramen dataset. They are important: 1) Brand tell us which remen noodle the rating is about 2) Style tell us the flavor of the remen 3) it tell us where the remen was produced 4) it tell us that how well the ramen noodle was rated. In terms of the datatype, we have brand = object(categorical); style = object(categorical); Country =object (categorical) and star = int64(continuous)  </font>\n"
      ]
    },
    {
      "cell_type": "markdown",
      "metadata": {
        "id": "gXGcY3YmNH8J",
        "colab_type": "text"
      },
      "source": [
        ""
      ]
    },
    {
      "cell_type": "code",
      "metadata": {
        "id": "21IQKke0KkB_",
        "colab_type": "code",
        "colab": {
          "base_uri": "https://localhost:8080/",
          "height": 198
        },
        "outputId": "32b0709a-ae01-4c9d-e907-5816302ca26e"
      },
      "source": [
        "# convert nominal variable, \"Brand\" and \"Country\", to numeric, I used LableEncoder from sklearn. It is faster and easier to use.\n",
        "from sklearn.preprocessing import LabelEncoder\n",
        "remen_df[\"Brand_code\"] = LabelEncoder().fit_transform(remen_df[\"Brand\"])\n",
        "remen_df[\"Country_code\"] = LabelEncoder().fit_transform(remen_df[\"Country\"])\n",
        "remen_df.head()"
      ],
      "execution_count": 5,
      "outputs": [
        {
          "output_type": "execute_result",
          "data": {
            "text/html": [
              "<div>\n",
              "<style scoped>\n",
              "    .dataframe tbody tr th:only-of-type {\n",
              "        vertical-align: middle;\n",
              "    }\n",
              "\n",
              "    .dataframe tbody tr th {\n",
              "        vertical-align: top;\n",
              "    }\n",
              "\n",
              "    .dataframe thead th {\n",
              "        text-align: right;\n",
              "    }\n",
              "</style>\n",
              "<table border=\"1\" class=\"dataframe\">\n",
              "  <thead>\n",
              "    <tr style=\"text-align: right;\">\n",
              "      <th></th>\n",
              "      <th>Review #</th>\n",
              "      <th>Brand</th>\n",
              "      <th>Variety</th>\n",
              "      <th>Style</th>\n",
              "      <th>Country</th>\n",
              "      <th>Stars</th>\n",
              "      <th>Top Ten</th>\n",
              "      <th>Brand_code</th>\n",
              "      <th>Country_code</th>\n",
              "    </tr>\n",
              "  </thead>\n",
              "  <tbody>\n",
              "    <tr>\n",
              "      <th>0</th>\n",
              "      <td>2580</td>\n",
              "      <td>New Touch</td>\n",
              "      <td>T's Restaurant Tantanmen</td>\n",
              "      <td>Cup</td>\n",
              "      <td>Japan</td>\n",
              "      <td>3.75</td>\n",
              "      <td>NaN</td>\n",
              "      <td>190</td>\n",
              "      <td>18</td>\n",
              "    </tr>\n",
              "    <tr>\n",
              "      <th>1</th>\n",
              "      <td>2579</td>\n",
              "      <td>Just Way</td>\n",
              "      <td>Noodles Spicy Hot Sesame Spicy Hot Sesame Guan...</td>\n",
              "      <td>Pack</td>\n",
              "      <td>Taiwan</td>\n",
              "      <td>1</td>\n",
              "      <td>NaN</td>\n",
              "      <td>119</td>\n",
              "      <td>32</td>\n",
              "    </tr>\n",
              "    <tr>\n",
              "      <th>2</th>\n",
              "      <td>2578</td>\n",
              "      <td>Nissin</td>\n",
              "      <td>Cup Noodles Chicken Vegetable</td>\n",
              "      <td>Cup</td>\n",
              "      <td>USA</td>\n",
              "      <td>2.25</td>\n",
              "      <td>NaN</td>\n",
              "      <td>192</td>\n",
              "      <td>35</td>\n",
              "    </tr>\n",
              "    <tr>\n",
              "      <th>3</th>\n",
              "      <td>2577</td>\n",
              "      <td>Wei Lih</td>\n",
              "      <td>GGE Ramen Snack Tomato Flavor</td>\n",
              "      <td>Pack</td>\n",
              "      <td>Taiwan</td>\n",
              "      <td>2.75</td>\n",
              "      <td>NaN</td>\n",
              "      <td>336</td>\n",
              "      <td>32</td>\n",
              "    </tr>\n",
              "    <tr>\n",
              "      <th>4</th>\n",
              "      <td>2576</td>\n",
              "      <td>Ching's Secret</td>\n",
              "      <td>Singapore Curry</td>\n",
              "      <td>Pack</td>\n",
              "      <td>India</td>\n",
              "      <td>3.75</td>\n",
              "      <td>NaN</td>\n",
              "      <td>38</td>\n",
              "      <td>16</td>\n",
              "    </tr>\n",
              "  </tbody>\n",
              "</table>\n",
              "</div>"
            ],
            "text/plain": [
              "   Review #           Brand  ... Brand_code Country_code\n",
              "0      2580       New Touch  ...        190           18\n",
              "1      2579        Just Way  ...        119           32\n",
              "2      2578          Nissin  ...        192           35\n",
              "3      2577         Wei Lih  ...        336           32\n",
              "4      2576  Ching's Secret  ...         38           16\n",
              "\n",
              "[5 rows x 9 columns]"
            ]
          },
          "metadata": {
            "tags": []
          },
          "execution_count": 5
        }
      ]
    },
    {
      "cell_type": "code",
      "metadata": {
        "id": "jxDQBu7CNJ_U",
        "colab_type": "code",
        "colab": {
          "base_uri": "https://localhost:8080/",
          "height": 288
        },
        "outputId": "0f6d7906-066f-4adf-d938-07ce5d9e857e"
      },
      "source": [
        "# output the basic stats for Brand_code and Country_code including mean, standard deviation, Q1 and Q3.\n",
        "remen_df[['Brand_code','Country_code']].describe()"
      ],
      "execution_count": 6,
      "outputs": [
        {
          "output_type": "execute_result",
          "data": {
            "text/html": [
              "<div>\n",
              "<style scoped>\n",
              "    .dataframe tbody tr th:only-of-type {\n",
              "        vertical-align: middle;\n",
              "    }\n",
              "\n",
              "    .dataframe tbody tr th {\n",
              "        vertical-align: top;\n",
              "    }\n",
              "\n",
              "    .dataframe thead th {\n",
              "        text-align: right;\n",
              "    }\n",
              "</style>\n",
              "<table border=\"1\" class=\"dataframe\">\n",
              "  <thead>\n",
              "    <tr style=\"text-align: right;\">\n",
              "      <th></th>\n",
              "      <th>Brand_code</th>\n",
              "      <th>Country_code</th>\n",
              "    </tr>\n",
              "  </thead>\n",
              "  <tbody>\n",
              "    <tr>\n",
              "      <th>count</th>\n",
              "      <td>2580.000000</td>\n",
              "      <td>2580.000000</td>\n",
              "    </tr>\n",
              "    <tr>\n",
              "      <th>mean</th>\n",
              "      <td>183.414341</td>\n",
              "      <td>24.159690</td>\n",
              "    </tr>\n",
              "    <tr>\n",
              "      <th>std</th>\n",
              "      <td>88.052819</td>\n",
              "      <td>9.976868</td>\n",
              "    </tr>\n",
              "    <tr>\n",
              "      <th>min</th>\n",
              "      <td>0.000000</td>\n",
              "      <td>0.000000</td>\n",
              "    </tr>\n",
              "    <tr>\n",
              "      <th>25%</th>\n",
              "      <td>133.000000</td>\n",
              "      <td>18.000000</td>\n",
              "    </tr>\n",
              "    <tr>\n",
              "      <th>50%</th>\n",
              "      <td>192.000000</td>\n",
              "      <td>29.000000</td>\n",
              "    </tr>\n",
              "    <tr>\n",
              "      <th>75%</th>\n",
              "      <td>242.250000</td>\n",
              "      <td>33.000000</td>\n",
              "    </tr>\n",
              "    <tr>\n",
              "      <th>max</th>\n",
              "      <td>354.000000</td>\n",
              "      <td>37.000000</td>\n",
              "    </tr>\n",
              "  </tbody>\n",
              "</table>\n",
              "</div>"
            ],
            "text/plain": [
              "        Brand_code  Country_code\n",
              "count  2580.000000   2580.000000\n",
              "mean    183.414341     24.159690\n",
              "std      88.052819      9.976868\n",
              "min       0.000000      0.000000\n",
              "25%     133.000000     18.000000\n",
              "50%     192.000000     29.000000\n",
              "75%     242.250000     33.000000\n",
              "max     354.000000     37.000000"
            ]
          },
          "metadata": {
            "tags": []
          },
          "execution_count": 6
        }
      ]
    },
    {
      "cell_type": "code",
      "metadata": {
        "id": "2ecbwNsHOg28",
        "colab_type": "code",
        "colab": {
          "base_uri": "https://localhost:8080/",
          "height": 78
        },
        "outputId": "ae064ccf-492d-4fb3-fd71-d9d4eb41d593"
      },
      "source": [
        "# output mode for \"Brand_code\" and \"Country_Code\" \n",
        "remen_df[['Brand_code','Country_code']].mode(numeric_only=True, dropna=False, axis=0)"
      ],
      "execution_count": 7,
      "outputs": [
        {
          "output_type": "execute_result",
          "data": {
            "text/html": [
              "<div>\n",
              "<style scoped>\n",
              "    .dataframe tbody tr th:only-of-type {\n",
              "        vertical-align: middle;\n",
              "    }\n",
              "\n",
              "    .dataframe tbody tr th {\n",
              "        vertical-align: top;\n",
              "    }\n",
              "\n",
              "    .dataframe thead th {\n",
              "        text-align: right;\n",
              "    }\n",
              "</style>\n",
              "<table border=\"1\" class=\"dataframe\">\n",
              "  <thead>\n",
              "    <tr style=\"text-align: right;\">\n",
              "      <th></th>\n",
              "      <th>Brand_code</th>\n",
              "      <th>Country_code</th>\n",
              "    </tr>\n",
              "  </thead>\n",
              "  <tbody>\n",
              "    <tr>\n",
              "      <th>0</th>\n",
              "      <td>192</td>\n",
              "      <td>18</td>\n",
              "    </tr>\n",
              "  </tbody>\n",
              "</table>\n",
              "</div>"
            ],
            "text/plain": [
              "   Brand_code  Country_code\n",
              "0         192            18"
            ]
          },
          "metadata": {
            "tags": []
          },
          "execution_count": 7
        }
      ]
    },
    {
      "cell_type": "code",
      "metadata": {
        "id": "2_gqMcxFOjp7",
        "colab_type": "code",
        "colab": {
          "base_uri": "https://localhost:8080/",
          "height": 72
        },
        "outputId": "8a1c5cc1-a7f7-46dd-d002-22f8a8a4cbbd"
      },
      "source": [
        "# output median for \"Brand_code\" and \"Country_Code\" \n",
        "remen_df[['Brand_code','Country_code']].median(axis=0)"
      ],
      "execution_count": 8,
      "outputs": [
        {
          "output_type": "execute_result",
          "data": {
            "text/plain": [
              "Brand_code      192.0\n",
              "Country_code     29.0\n",
              "dtype: float64"
            ]
          },
          "metadata": {
            "tags": []
          },
          "execution_count": 8
        }
      ]
    },
    {
      "cell_type": "markdown",
      "metadata": {
        "id": "plxr6cA-R3GC",
        "colab_type": "text"
      },
      "source": [
        "### <font color = 'orange'>Question #4: For TWO of these four attributes, use R to determine mean, median, mode, standard deviation, and Interquartile Range (IQR).  For the OTHER TWO of these four attributes, use Python to determine mean, median, mode, standard deviation, and Interquartile Range (IQR). If the attributes are nominal, convert them into numeric format to do this analysis.  For what purpose are these measurements important?  </font>\n",
        "<br> <font color = 'green'>Answer: For the two attributes that required using R, Please check the attached R file. For the tow attributes that are required using python, I select 'Brand' and 'Country'. As you can see from the code above, we see,for 'Brand', we get mean = 183.14, median = 192, mode=192, std=88.05, q1=133, and q3=18; for 'country', we get mean=24.16, median =29, mode=18, std=9.77, q1=18, and q3=33. These measurement are very import, because they can tell you the distribution of the attributes; mean tell us the average of the values; median is the 50 percentile; mode is most frequent value; standard deviation shows how spread the data from the mean;  Q1 is the 25th percentile and Q3 is the 75th percentile.  </font>"
      ]
    },
    {
      "cell_type": "code",
      "metadata": {
        "id": "soF3f56jTq60",
        "colab_type": "code",
        "colab": {}
      },
      "source": [
        "# import eucliean_distance and manhattan_distance Functions\n",
        "from math import*\n",
        "def euclidean_distance(x,y):\n",
        "    return sqrt(sum(pow(a-b,2) for a, b in zip(x, y)))\n",
        "def manhattan_distance(x,y): \n",
        "    return sum(abs(a-b) for a,b in zip(x,y))"
      ],
      "execution_count": 0,
      "outputs": []
    },
    {
      "cell_type": "code",
      "metadata": {
        "id": "JtPc5Hc-YAYN",
        "colab_type": "code",
        "colab": {
          "base_uri": "https://localhost:8080/",
          "height": 54
        },
        "outputId": "7e7a49e8-cbd7-4412-cdba-bebec4ec8d3b"
      },
      "source": [
        "# The most importan attributes, I think, is 'Stars'. So, i will calculate Eucliean and Manhattan distance between, \"Stars\" and 'Brand' ,and \"Stars\" and 'Country'.  \n",
        "# call the Eucliean_distance funtion and set the parameter as the first 10 datapoints of the x columns \"Brand\" and \"Country\", and y column \"Stars\". Return the distance value. \n",
        "import numpy as np\n",
        "remen_df.loc[remen_df['Stars']=='Unrated','Stars']=np.nan\n",
        "remen_df['Stars']=remen_df['Stars'].astype(float)\n",
        "print(\"Eucliean Distance of the first 10 data points of 'Stars' and 'Brand_code' are: \",euclidean_distance(remen_df['Brand_code'][0:10],remen_df['Stars'][0:10]))\n",
        "print(\"Eucliean Distance of the first 10 data points of 'Stars' and 'Country_code' are: \",euclidean_distance(remen_df['Country_code'][0:10],remen_df['Stars'][0:10]))"
      ],
      "execution_count": 10,
      "outputs": [
        {
          "output_type": "stream",
          "text": [
            "Eucliean Distance of the first 10 data points of 'Stars' and 'Brand_code' are:  579.2842027019208\n",
            "Eucliean Distance of the first 10 data points of 'Stars' and 'Country_code' are:  72.7749098247466\n"
          ],
          "name": "stdout"
        }
      ]
    },
    {
      "cell_type": "code",
      "metadata": {
        "id": "BdeJmLEwZf_d",
        "colab_type": "code",
        "colab": {
          "base_uri": "https://localhost:8080/",
          "height": 54
        },
        "outputId": "57754373-48ba-486c-fbca-39dbbd5cc2ae"
      },
      "source": [
        "# call the manhattan_distance funtion and set the parameter as the first 10 datapoints of the x columns \"Brand\" and \"Country\", and y column \"Stars\". Return the distance value. \n",
        "print(\"Manhattan Distance of the first 10 data points of 'Stars' and 'Brand_code' are: \",manhattan_distance(remen_df['Brand_code'][0:10],remen_df['Stars'][0:10]))\n",
        "print(\"Manhattan Distance of the first 10 data points of 'Stars' and 'Country_code' are: \",manhattan_distance(remen_df['Country_code'][0:10],remen_df['Stars'][0:10]))"
      ],
      "execution_count": 11,
      "outputs": [
        {
          "output_type": "stream",
          "text": [
            "Manhattan Distance of the first 10 data points of 'Stars' and 'Brand_code' are:  1564.25\n",
            "Manhattan Distance of the first 10 data points of 'Stars' and 'Country_code' are:  217.25\n"
          ],
          "name": "stdout"
        }
      ]
    },
    {
      "cell_type": "markdown",
      "metadata": {
        "id": "RaTlnMeKc1Hq",
        "colab_type": "text"
      },
      "source": [
        "### <font color = 'orange'>Question #5: Of the four attributes with which you are working, select what you think is the most important dependent attribute (the \"y\" in y = fx+b) in your dataset. Then select two of the other attributes. Use Python or R to calculate the Manhattan and Euclidian distance between the first 10 attribute values of the independent and each dependent attribute. Which independent attribute is more closely related to the dependent attribute? Why does this matter?  </font>\n",
        "<br> <font color = 'green'>Answer: from the results of eucliean and manhattan distances, we can conclude that 'country' are more closely related to 'Stars' than 'Brand' since 'coutry' has lower distance values. This is very important because in reality, remen noodle from one country usually has similar taste and flavors, so,  if a customer like one brand from that country, like Japan, it is likely that he would like a different brand from the same country.      </font>"
      ]
    }
  ]
}
