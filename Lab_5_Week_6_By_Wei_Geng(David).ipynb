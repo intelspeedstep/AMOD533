{
  "nbformat": 4,
  "nbformat_minor": 0,
  "metadata": {
    "colab": {
      "name": "Lab #5 - Week #6 By Wei Geng(David).ipynb",
      "provenance": [],
      "collapsed_sections": []
    },
    "kernelspec": {
      "name": "python3",
      "display_name": "Python 3"
    }
  },
  "cells": [
    {
      "cell_type": "code",
      "metadata": {
        "id": "njRBvvtbZcEy",
        "colab_type": "code",
        "colab": {}
      },
      "source": [
        "# Class IT-533 Week #6  - Measures of Association\n",
        "# Summer 2020\n",
        "# Lab #4 - ramen-ratings.csv\n",
        "# By Wei Geng(David) and Anusha Bale\n",
        "# Created on: 06/14/2020\n",
        "# Honor Code: “I have neither given or received, nor have I tolerated others' use of unauthorized aid.”"
      ],
      "execution_count": 2,
      "outputs": []
    },
    {
      "cell_type": "code",
      "metadata": {
        "id": "8npOXrx7gRIU",
        "colab_type": "code",
        "colab": {}
      },
      "source": [
        "# install pandas in case you dont have pandas, matplotlib and sklearn pre-installed\n",
        "%pip install pandas\n",
        "%pip install matplotlib\n",
        "%pip sklearn"
      ],
      "execution_count": 3,
      "outputs": []
    },
    {
      "cell_type": "code",
      "metadata": {
        "id": "9Vgck51GZlu7",
        "colab_type": "code",
        "colab": {
          "base_uri": "https://localhost:8080/",
          "height": 198
        },
        "outputId": "999a8e8a-ca81-4aa7-d179-9809619fb5c2"
      },
      "source": [
        "# Convert to pandas DataFrame\n",
        "import numpy as np\n",
        "import pandas as pd\n",
        "import matplotlib.pyplot as plt\n",
        "remen_df = pd.read_csv('https://raw.githubusercontent.com/intelspeedstep/AMOD533/master/ramen-ratings.csv')\n",
        "remen_df.head()"
      ],
      "execution_count": 4,
      "outputs": [
        {
          "output_type": "execute_result",
          "data": {
            "text/html": [
              "<div>\n",
              "<style scoped>\n",
              "    .dataframe tbody tr th:only-of-type {\n",
              "        vertical-align: middle;\n",
              "    }\n",
              "\n",
              "    .dataframe tbody tr th {\n",
              "        vertical-align: top;\n",
              "    }\n",
              "\n",
              "    .dataframe thead th {\n",
              "        text-align: right;\n",
              "    }\n",
              "</style>\n",
              "<table border=\"1\" class=\"dataframe\">\n",
              "  <thead>\n",
              "    <tr style=\"text-align: right;\">\n",
              "      <th></th>\n",
              "      <th>Review #</th>\n",
              "      <th>Brand</th>\n",
              "      <th>Variety</th>\n",
              "      <th>Style</th>\n",
              "      <th>Country</th>\n",
              "      <th>Stars</th>\n",
              "      <th>Top Ten</th>\n",
              "    </tr>\n",
              "  </thead>\n",
              "  <tbody>\n",
              "    <tr>\n",
              "      <th>0</th>\n",
              "      <td>2580</td>\n",
              "      <td>New Touch</td>\n",
              "      <td>T's Restaurant Tantanmen</td>\n",
              "      <td>Cup</td>\n",
              "      <td>Japan</td>\n",
              "      <td>3.75</td>\n",
              "      <td>NaN</td>\n",
              "    </tr>\n",
              "    <tr>\n",
              "      <th>1</th>\n",
              "      <td>2579</td>\n",
              "      <td>Just Way</td>\n",
              "      <td>Noodles Spicy Hot Sesame Spicy Hot Sesame Guan...</td>\n",
              "      <td>Pack</td>\n",
              "      <td>Taiwan</td>\n",
              "      <td>1</td>\n",
              "      <td>NaN</td>\n",
              "    </tr>\n",
              "    <tr>\n",
              "      <th>2</th>\n",
              "      <td>2578</td>\n",
              "      <td>Nissin</td>\n",
              "      <td>Cup Noodles Chicken Vegetable</td>\n",
              "      <td>Cup</td>\n",
              "      <td>USA</td>\n",
              "      <td>2.25</td>\n",
              "      <td>NaN</td>\n",
              "    </tr>\n",
              "    <tr>\n",
              "      <th>3</th>\n",
              "      <td>2577</td>\n",
              "      <td>Wei Lih</td>\n",
              "      <td>GGE Ramen Snack Tomato Flavor</td>\n",
              "      <td>Pack</td>\n",
              "      <td>Taiwan</td>\n",
              "      <td>2.75</td>\n",
              "      <td>NaN</td>\n",
              "    </tr>\n",
              "    <tr>\n",
              "      <th>4</th>\n",
              "      <td>2576</td>\n",
              "      <td>Ching's Secret</td>\n",
              "      <td>Singapore Curry</td>\n",
              "      <td>Pack</td>\n",
              "      <td>India</td>\n",
              "      <td>3.75</td>\n",
              "      <td>NaN</td>\n",
              "    </tr>\n",
              "  </tbody>\n",
              "</table>\n",
              "</div>"
            ],
            "text/plain": [
              "   Review #           Brand  ... Stars Top Ten\n",
              "0      2580       New Touch  ...  3.75     NaN\n",
              "1      2579        Just Way  ...     1     NaN\n",
              "2      2578          Nissin  ...  2.25     NaN\n",
              "3      2577         Wei Lih  ...  2.75     NaN\n",
              "4      2576  Ching's Secret  ...  3.75     NaN\n",
              "\n",
              "[5 rows x 7 columns]"
            ]
          },
          "metadata": {
            "tags": []
          },
          "execution_count": 4
        }
      ]
    },
    {
      "cell_type": "code",
      "metadata": {
        "id": "SNe34DsGEsSt",
        "colab_type": "code",
        "colab": {
          "base_uri": "https://localhost:8080/",
          "height": 294
        },
        "outputId": "9f1cec60-bbf3-4ff4-c5ee-5be3c92bbb4b"
      },
      "source": [
        "# output the data attributes and its datatypes, plus the shape of the dataset\n",
        "print(remen_df.info(verbose=True))\n",
        "print(remen_df.shape)"
      ],
      "execution_count": 5,
      "outputs": [
        {
          "output_type": "stream",
          "text": [
            "<class 'pandas.core.frame.DataFrame'>\n",
            "RangeIndex: 2580 entries, 0 to 2579\n",
            "Data columns (total 7 columns):\n",
            " #   Column    Non-Null Count  Dtype \n",
            "---  ------    --------------  ----- \n",
            " 0   Review #  2580 non-null   int64 \n",
            " 1   Brand     2580 non-null   object\n",
            " 2   Variety   2580 non-null   object\n",
            " 3   Style     2578 non-null   object\n",
            " 4   Country   2580 non-null   object\n",
            " 5   Stars     2580 non-null   object\n",
            " 6   Top Ten   41 non-null     object\n",
            "dtypes: int64(1), object(6)\n",
            "memory usage: 141.2+ KB\n",
            "None\n",
            "(2580, 7)\n"
          ],
          "name": "stdout"
        }
      ]
    },
    {
      "cell_type": "code",
      "metadata": {
        "id": "E7-FWME7wXq7",
        "colab_type": "code",
        "colab": {}
      },
      "source": [
        "# Convert Stars from object to numberic and Review # to str since ID number usually has no analytical value\n",
        "remen_df.loc[remen_df[\"Stars\"]=='Unrated','Stars']=np.nan\n",
        "remen_df['Stars']=remen_df['Stars'].astype(float)\n",
        "remen_df['Review #']=remen_df['Review #'].astype(str)"
      ],
      "execution_count": 6,
      "outputs": []
    },
    {
      "cell_type": "markdown",
      "metadata": {
        "id": "4X4BF5cCEmE-",
        "colab_type": "text"
      },
      "source": [
        "### <font color = 'orange'> Model #1: Run my team dataset with k Nearest Neighbor and optimize the configuration for model comparisons</font>\n",
        "</font></br>"
      ]
    },
    {
      "cell_type": "code",
      "metadata": {
        "id": "PX0bnP5u-RVV",
        "colab_type": "code",
        "colab": {
          "base_uri": "https://localhost:8080/",
          "height": 198
        },
        "outputId": "21c459bf-2e28-45b1-8cf7-b56d64f64558"
      },
      "source": [
        "# Convert the string variables to numeric categorical varibles, so the model can run. Sklearn classifers requires categorical variables to be numerically coded.\n",
        "from sklearn.preprocessing import LabelEncoder\n",
        "remen_df[\"Brand\"] = LabelEncoder().fit_transform(remen_df[\"Brand\"])\n",
        "remen_df[\"Variety\"] = LabelEncoder().fit_transform(remen_df[\"Variety\"])\n",
        "remen_df[\"Style\"] = LabelEncoder().fit_transform(remen_df[\"Style\"].astype(str))\n",
        "remen_df[\"Country\"] = LabelEncoder().fit_transform(remen_df[\"Country\"])\n",
        "remen_df[\"Top Ten\"] = LabelEncoder().fit_transform(remen_df[\"Top Ten\"].astype(str))\n",
        "remen_df.head()"
      ],
      "execution_count": 13,
      "outputs": [
        {
          "output_type": "execute_result",
          "data": {
            "text/html": [
              "<div>\n",
              "<style scoped>\n",
              "    .dataframe tbody tr th:only-of-type {\n",
              "        vertical-align: middle;\n",
              "    }\n",
              "\n",
              "    .dataframe tbody tr th {\n",
              "        vertical-align: top;\n",
              "    }\n",
              "\n",
              "    .dataframe thead th {\n",
              "        text-align: right;\n",
              "    }\n",
              "</style>\n",
              "<table border=\"1\" class=\"dataframe\">\n",
              "  <thead>\n",
              "    <tr style=\"text-align: right;\">\n",
              "      <th></th>\n",
              "      <th>Review #</th>\n",
              "      <th>Brand</th>\n",
              "      <th>Variety</th>\n",
              "      <th>Style</th>\n",
              "      <th>Country</th>\n",
              "      <th>Stars</th>\n",
              "      <th>Top Ten</th>\n",
              "      <th>Stars_Ind</th>\n",
              "    </tr>\n",
              "  </thead>\n",
              "  <tbody>\n",
              "    <tr>\n",
              "      <th>0</th>\n",
              "      <td>2580</td>\n",
              "      <td>190</td>\n",
              "      <td>2189</td>\n",
              "      <td>4</td>\n",
              "      <td>18</td>\n",
              "      <td>3.75</td>\n",
              "      <td>32</td>\n",
              "      <td>1.0</td>\n",
              "    </tr>\n",
              "    <tr>\n",
              "      <th>1</th>\n",
              "      <td>2579</td>\n",
              "      <td>119</td>\n",
              "      <td>1443</td>\n",
              "      <td>5</td>\n",
              "      <td>32</td>\n",
              "      <td>1.00</td>\n",
              "      <td>32</td>\n",
              "      <td>0.0</td>\n",
              "    </tr>\n",
              "    <tr>\n",
              "      <th>2</th>\n",
              "      <td>2578</td>\n",
              "      <td>192</td>\n",
              "      <td>454</td>\n",
              "      <td>4</td>\n",
              "      <td>35</td>\n",
              "      <td>2.25</td>\n",
              "      <td>32</td>\n",
              "      <td>0.0</td>\n",
              "    </tr>\n",
              "    <tr>\n",
              "      <th>3</th>\n",
              "      <td>2577</td>\n",
              "      <td>336</td>\n",
              "      <td>709</td>\n",
              "      <td>5</td>\n",
              "      <td>32</td>\n",
              "      <td>2.75</td>\n",
              "      <td>32</td>\n",
              "      <td>0.0</td>\n",
              "    </tr>\n",
              "    <tr>\n",
              "      <th>4</th>\n",
              "      <td>2576</td>\n",
              "      <td>38</td>\n",
              "      <td>1954</td>\n",
              "      <td>5</td>\n",
              "      <td>16</td>\n",
              "      <td>3.75</td>\n",
              "      <td>32</td>\n",
              "      <td>1.0</td>\n",
              "    </tr>\n",
              "  </tbody>\n",
              "</table>\n",
              "</div>"
            ],
            "text/plain": [
              "  Review #  Brand  Variety  Style  Country  Stars  Top Ten  Stars_Ind\n",
              "0     2580    190     2189      4       18   3.75       32        1.0\n",
              "1     2579    119     1443      5       32   1.00       32        0.0\n",
              "2     2578    192      454      4       35   2.25       32        0.0\n",
              "3     2577    336      709      5       32   2.75       32        0.0\n",
              "4     2576     38     1954      5       16   3.75       32        1.0"
            ]
          },
          "metadata": {
            "tags": []
          },
          "execution_count": 13
        }
      ]
    },
    {
      "cell_type": "code",
      "metadata": {
        "id": "BTKmVYoz63Zu",
        "colab_type": "code",
        "colab": {
          "base_uri": "https://localhost:8080/",
          "height": 639
        },
        "outputId": "1f1b0b1f-c2a4-42cd-d1ba-e13538ebdb69"
      },
      "source": [
        "# 1) KNN handles binary variables, so, I first convert 'Stars' to a binary value by set value greater than 3 equal to 1, else to 0.\n",
        "# This 'Stars_Ind' become my target variable. Again, this is supervised learning for classification problem.\n",
        "# 2) No need to check correlation ahead or drop any variables since KNN is not linear model\n",
        "# 3) split dataset into training and testing with ratio of 70% to 30%.\n",
        "# 4) Fit the model with all variables in X, and select n to 5. If n is a small number, the model is less stable, but if n is a big number, it would be more errors.\n",
        "# so, I manually tune the model to pick 5 as the value for n. If you pick 4 or 6, the model accuracy would decline.\n",
        "# 5) After running the model, we get model accuracy equal to 72% on test dataset. This is a pretty good model. \n",
        "# However, there is concern on overfitting since the model as much better performance on the training dataset -- 81%.\n",
        "from sklearn.model_selection import train_test_split\n",
        "from sklearn.neighbors import KNeighborsClassifier\n",
        "remen_df.loc[remen_df['Stars']>3,'Stars_Ind']=1\n",
        "remen_df['Stars_Ind'].fillna(0,inplace=True)\n",
        "X=remen_df.drop(['Stars','Stars_Ind','Review #'], axis=1)\n",
        "y=remen_df['Stars_Ind']\n",
        "X_train, X_test, y_train, y_test = train_test_split(X, y, random_state=1859, test_size=0.3)\n",
        "knn = KNeighborsClassifier(n_neighbors=5)\n",
        "knn.fit(X_train, y_train)\n",
        "y_pred = knn.predict(X_test)\n",
        "print(\"Test set predictions:\\n\", y_pred)\n",
        "print(\"Training set score: {:.2f}\".format(knn.score(X_train, y_train)))\n",
        "print(\"Test set score: {:.2f}\".format(knn.score(X_test, y_test)))"
      ],
      "execution_count": 18,
      "outputs": [
        {
          "output_type": "stream",
          "text": [
            "Test set predictions:\n",
            " [0. 1. 1. 1. 1. 1. 1. 1. 1. 1. 0. 1. 1. 1. 1. 1. 1. 1. 1. 1. 1. 1. 1. 1.\n",
            " 1. 1. 1. 1. 1. 1. 1. 1. 1. 1. 1. 1. 1. 1. 1. 1. 1. 1. 1. 1. 1. 1. 1. 1.\n",
            " 1. 1. 1. 1. 1. 1. 1. 0. 1. 0. 0. 1. 1. 1. 1. 1. 0. 1. 1. 1. 0. 0. 1. 1.\n",
            " 1. 1. 1. 0. 1. 1. 1. 1. 1. 1. 1. 1. 1. 1. 1. 1. 1. 1. 1. 1. 1. 1. 1. 1.\n",
            " 1. 1. 1. 1. 1. 1. 1. 0. 1. 1. 1. 1. 1. 1. 1. 1. 1. 1. 1. 1. 1. 0. 1. 1.\n",
            " 1. 1. 1. 1. 0. 1. 1. 1. 1. 1. 1. 1. 1. 1. 1. 1. 1. 1. 1. 1. 0. 1. 1. 1.\n",
            " 1. 0. 1. 1. 1. 1. 1. 1. 0. 1. 1. 1. 1. 1. 1. 1. 0. 0. 1. 0. 0. 1. 1. 1.\n",
            " 1. 1. 1. 1. 1. 0. 1. 1. 0. 1. 1. 1. 1. 1. 1. 1. 1. 1. 1. 1. 1. 1. 1. 1.\n",
            " 1. 1. 1. 1. 1. 1. 1. 1. 1. 1. 0. 1. 1. 1. 1. 1. 1. 1. 1. 1. 1. 1. 1. 1.\n",
            " 0. 1. 1. 1. 1. 1. 1. 1. 1. 1. 1. 1. 1. 1. 1. 1. 1. 1. 1. 1. 1. 0. 1. 1.\n",
            " 1. 1. 0. 1. 1. 1. 1. 1. 1. 0. 1. 1. 1. 1. 1. 1. 1. 1. 1. 1. 1. 1. 0. 1.\n",
            " 1. 1. 1. 1. 1. 1. 1. 1. 1. 1. 1. 1. 0. 1. 0. 1. 1. 1. 0. 1. 1. 1. 1. 1.\n",
            " 1. 1. 1. 1. 1. 1. 1. 1. 1. 1. 1. 1. 1. 1. 1. 1. 1. 1. 1. 1. 1. 1. 1. 1.\n",
            " 1. 0. 1. 1. 1. 1. 1. 1. 1. 1. 1. 1. 1. 1. 1. 1. 1. 1. 1. 1. 1. 1. 1. 1.\n",
            " 1. 1. 1. 1. 1. 1. 0. 0. 1. 1. 1. 1. 1. 1. 1. 1. 1. 1. 1. 1. 0. 1. 1. 1.\n",
            " 1. 1. 1. 1. 1. 1. 1. 0. 1. 1. 1. 1. 1. 1. 0. 1. 1. 1. 1. 1. 1. 1. 1. 1.\n",
            " 0. 0. 1. 1. 1. 1. 1. 1. 1. 1. 1. 1. 1. 1. 1. 1. 1. 1. 1. 1. 1. 1. 1. 1.\n",
            " 0. 1. 1. 1. 1. 1. 1. 1. 1. 1. 1. 1. 1. 0. 1. 1. 1. 1. 0. 1. 0. 1. 1. 1.\n",
            " 1. 1. 1. 0. 1. 1. 1. 0. 1. 1. 1. 0. 1. 1. 1. 1. 1. 1. 1. 1. 1. 1. 1. 1.\n",
            " 1. 1. 1. 1. 1. 1. 1. 1. 1. 1. 1. 1. 1. 1. 1. 0. 0. 1. 1. 1. 0. 1. 1. 1.\n",
            " 0. 1. 1. 1. 1. 1. 1. 1. 1. 1. 1. 1. 1. 1. 1. 1. 1. 1. 1. 1. 0. 1. 0. 1.\n",
            " 1. 1. 1. 1. 1. 1. 1. 1. 1. 1. 1. 1. 1. 1. 0. 1. 1. 1. 1. 1. 1. 1. 0. 1.\n",
            " 1. 1. 1. 0. 0. 1. 1. 1. 1. 0. 1. 1. 1. 1. 1. 1. 1. 1. 1. 1. 1. 0. 1. 1.\n",
            " 1. 1. 1. 1. 1. 1. 1. 1. 0. 1. 0. 1. 1. 0. 1. 1. 0. 1. 1. 1. 1. 1. 1. 0.\n",
            " 1. 1. 0. 1. 1. 1. 1. 1. 1. 1. 1. 1. 1. 1. 1. 0. 1. 1. 1. 1. 1. 1. 1. 1.\n",
            " 1. 1. 0. 1. 1. 0. 0. 1. 1. 0. 1. 1. 1. 1. 1. 1. 1. 1. 1. 1. 1. 1. 1. 1.\n",
            " 1. 1. 0. 1. 1. 1. 1. 1. 1. 1. 1. 1. 1. 1. 1. 1. 1. 1. 1. 1. 1. 1. 1. 1.\n",
            " 1. 1. 0. 1. 0. 1. 1. 1. 1. 1. 1. 0. 1. 1. 1. 1. 1. 1. 0. 0. 1. 1. 1. 1.\n",
            " 1. 1. 1. 1. 1. 0. 0. 1. 1. 1. 1. 1. 0. 1. 1. 1. 1. 0. 1. 1. 1. 0. 1. 0.\n",
            " 1. 1. 1. 1. 1. 1. 0. 1. 1. 1. 1. 1. 1. 1. 1. 1. 1. 1. 1. 1. 0. 0. 1. 1.\n",
            " 1. 1. 1. 1. 1. 1. 1. 1. 1. 1. 0. 1. 1. 1. 1. 1. 1. 1. 1. 1. 1. 1. 1. 1.\n",
            " 1. 0. 1. 1. 1. 0. 1. 1. 1. 1. 1. 1. 1. 1. 1. 1. 1. 0. 1. 1. 1. 1. 1. 1.\n",
            " 1. 1. 1. 1. 1. 1.]\n",
            "Training set score: 0.81\n",
            "Test set score: 0.72\n"
          ],
          "name": "stdout"
        }
      ]
    },
    {
      "cell_type": "markdown",
      "metadata": {
        "id": "RfIAggh0H8kb",
        "colab_type": "text"
      },
      "source": [
        "### <font color = 'orange'>Model #2: Run my team dataset with Naive Bayes and optimize the configuration for model comparisons  </font>\n",
        "\n"
      ]
    },
    {
      "cell_type": "code",
      "metadata": {
        "id": "Z8xrRl9zlSE0",
        "colab_type": "code",
        "colab": {
          "base_uri": "https://localhost:8080/",
          "height": 639
        },
        "outputId": "cfb7a533-7d95-43eb-91f2-8125bc1784eb"
      },
      "source": [
        "# 1) Naive Bayes handles binary and categorical dependent variable well if predictors are independent\n",
        "# 2) Again, we set 'Stars_Ind' as a binary target variable, and split data with hold-out methold with 70% to 30%\n",
        "# 3) There are 3 types of naive bayes models --  Binomial, multimial and Guassian, and we use them based on the following rules,\n",
        "# In the case of predictors are categorical variables, such as counts or labels, a multinomial distribution can be used. \n",
        "# If the variables are binary, such as yes/no or true/false, a binomial distribution can be used. \n",
        "# If a variable is numerical, such as a measurement, often a Gaussian distribution is used. \n",
        "# 4) I choose to use Gaussian distribution since the predictors are numerical.\n",
        "# 5) After running the model, we get model accuracy equal to 74% on test dataset (we are predicting yes or no, we switch the label of target variable by (1-0.24))\n",
        "# Moreover, the performance on the training dataset is 76%. This indicates it is a very stable model.\n",
        "from sklearn.model_selection import train_test_split\n",
        "from sklearn.naive_bayes import GaussianNB\n",
        "remen_df.loc[remen_df['Stars']>3,'Stars_Ind']=1\n",
        "remen_df['Stars_Ind'].fillna(0,inplace=True)\n",
        "X=remen_df.drop(['Stars','Stars_Ind','Review #'], axis=1)\n",
        "y=remen_df['Stars_Ind']\n",
        "X_train, X_test, y_train, y_test = train_test_split(X, y, random_state=1859, test_size=0.3)\n",
        "GNB = GaussianNB()\n",
        "GNB.fit(X_train,y_train)\n",
        "y_pred = GNB.predict(X_test)\n",
        "print(\"Test set predictions:\\n\", y_pred)\n",
        "print(\"Training set score: {:.2f}\".format(1-GNB.score(X_train, y_train)))\n",
        "print(\"Test set score: {:.2f}\".format(1-GNB.score(X_test, y_test)))"
      ],
      "execution_count": 21,
      "outputs": [
        {
          "output_type": "stream",
          "text": [
            "Test set predictions:\n",
            " [0. 0. 0. 0. 0. 0. 0. 0. 0. 0. 0. 0. 0. 0. 0. 0. 0. 0. 0. 0. 0. 0. 0. 0.\n",
            " 0. 0. 0. 0. 0. 0. 0. 0. 0. 0. 0. 0. 0. 0. 0. 0. 0. 0. 0. 0. 0. 0. 0. 0.\n",
            " 0. 0. 0. 0. 0. 0. 0. 0. 0. 0. 0. 0. 0. 0. 0. 0. 0. 0. 0. 0. 0. 0. 0. 0.\n",
            " 0. 0. 0. 0. 0. 0. 0. 0. 0. 0. 0. 0. 0. 0. 0. 0. 0. 0. 0. 0. 1. 0. 0. 0.\n",
            " 0. 0. 0. 0. 0. 0. 0. 0. 0. 0. 0. 0. 0. 0. 0. 0. 0. 0. 0. 0. 0. 0. 0. 0.\n",
            " 0. 0. 0. 0. 0. 0. 0. 0. 0. 0. 0. 0. 0. 0. 0. 0. 0. 0. 0. 0. 0. 0. 0. 0.\n",
            " 0. 0. 0. 0. 0. 0. 0. 0. 0. 1. 0. 0. 0. 0. 0. 0. 0. 0. 0. 0. 0. 0. 0. 0.\n",
            " 0. 0. 0. 0. 0. 0. 0. 0. 0. 1. 0. 0. 0. 0. 0. 0. 0. 0. 0. 0. 0. 0. 0. 0.\n",
            " 0. 0. 0. 0. 0. 0. 0. 0. 0. 0. 0. 0. 0. 0. 0. 0. 0. 0. 0. 0. 0. 0. 0. 0.\n",
            " 0. 0. 0. 0. 0. 0. 0. 0. 0. 0. 0. 0. 0. 0. 0. 0. 0. 0. 0. 0. 0. 0. 0. 0.\n",
            " 0. 0. 0. 0. 0. 0. 0. 1. 0. 0. 0. 0. 0. 0. 0. 0. 0. 0. 0. 1. 0. 0. 0. 0.\n",
            " 0. 0. 0. 0. 0. 0. 0. 0. 0. 0. 0. 0. 0. 0. 0. 0. 0. 0. 0. 0. 0. 0. 0. 0.\n",
            " 0. 0. 0. 0. 0. 0. 0. 0. 0. 0. 0. 0. 0. 0. 0. 0. 0. 0. 0. 0. 0. 0. 0. 0.\n",
            " 0. 0. 0. 1. 0. 0. 0. 0. 0. 0. 0. 0. 0. 0. 0. 0. 0. 0. 0. 0. 0. 0. 0. 0.\n",
            " 0. 0. 0. 0. 0. 0. 0. 0. 0. 0. 0. 0. 0. 0. 0. 0. 0. 0. 0. 0. 0. 0. 0. 0.\n",
            " 0. 0. 0. 0. 0. 0. 0. 0. 0. 1. 0. 0. 0. 0. 0. 0. 0. 0. 0. 0. 0. 0. 0. 0.\n",
            " 0. 0. 0. 0. 0. 0. 0. 0. 0. 0. 0. 0. 0. 0. 0. 0. 0. 0. 0. 0. 0. 0. 0. 0.\n",
            " 0. 0. 0. 0. 0. 0. 0. 0. 0. 0. 0. 0. 0. 0. 0. 0. 0. 0. 0. 0. 0. 0. 0. 0.\n",
            " 0. 0. 0. 0. 0. 0. 0. 0. 0. 0. 0. 0. 0. 0. 0. 0. 0. 0. 0. 0. 0. 0. 0. 0.\n",
            " 0. 0. 0. 0. 0. 0. 0. 0. 0. 0. 0. 0. 0. 0. 0. 0. 0. 0. 0. 1. 0. 0. 0. 0.\n",
            " 0. 0. 0. 0. 0. 0. 0. 0. 0. 0. 0. 0. 0. 0. 0. 0. 0. 0. 0. 0. 0. 0. 0. 0.\n",
            " 0. 0. 0. 0. 0. 0. 0. 0. 0. 0. 0. 0. 0. 0. 0. 0. 0. 0. 0. 0. 0. 0. 0. 0.\n",
            " 0. 0. 0. 0. 0. 0. 0. 0. 0. 0. 0. 0. 0. 0. 0. 0. 0. 0. 0. 0. 0. 0. 0. 1.\n",
            " 0. 0. 0. 0. 0. 0. 0. 0. 0. 0. 0. 0. 1. 0. 0. 0. 0. 0. 0. 0. 0. 0. 0. 0.\n",
            " 0. 0. 0. 0. 0. 0. 0. 0. 0. 0. 0. 0. 0. 0. 0. 0. 0. 0. 1. 0. 0. 0. 0. 0.\n",
            " 0. 0. 0. 0. 0. 0. 0. 0. 0. 0. 0. 0. 0. 0. 0. 0. 0. 0. 0. 1. 0. 0. 0. 0.\n",
            " 0. 1. 0. 0. 0. 0. 0. 0. 0. 0. 0. 0. 0. 0. 0. 0. 0. 0. 0. 0. 0. 0. 0. 0.\n",
            " 0. 0. 0. 0. 0. 0. 0. 0. 0. 0. 0. 0. 0. 0. 0. 0. 0. 0. 0. 0. 0. 0. 1. 0.\n",
            " 0. 0. 0. 0. 0. 0. 0. 0. 1. 0. 0. 0. 0. 0. 0. 0. 0. 0. 0. 0. 0. 0. 0. 0.\n",
            " 0. 0. 0. 0. 0. 0. 0. 0. 0. 0. 0. 0. 0. 0. 0. 0. 0. 0. 0. 0. 0. 0. 0. 0.\n",
            " 0. 0. 0. 0. 0. 0. 0. 0. 0. 0. 0. 0. 0. 0. 0. 0. 0. 0. 0. 0. 0. 0. 0. 0.\n",
            " 0. 0. 0. 0. 0. 0. 0. 0. 0. 0. 0. 0. 0. 0. 0. 0. 0. 0. 0. 0. 0. 0. 0. 0.\n",
            " 0. 0. 0. 0. 0. 0.]\n",
            "Training set score: 0.76\n",
            "Test set score: 0.74\n"
          ],
          "name": "stdout"
        }
      ]
    },
    {
      "cell_type": "markdown",
      "metadata": {
        "colab_type": "text",
        "id": "XJZ7lMQpxRfq"
      },
      "source": [
        "### <font color = 'orange'>model #3: Run my team dataset with logistic regression, and optimize the configuration for model comparisons. This was done from the previous lab.</font>"
      ]
    },
    {
      "cell_type": "code",
      "metadata": {
        "id": "UwLrValhVtRQ",
        "colab_type": "code",
        "colab": {
          "base_uri": "https://localhost:8080/",
          "height": 165
        },
        "outputId": "8c79c8bc-ba98-48e8-95a9-617ff0edbf6e"
      },
      "source": [
        "# double confirm there is no multicollinearity issue with correlation matrix\n",
        "remen_df.corr().style.background_gradient(cmap='cool')"
      ],
      "execution_count": null,
      "outputs": [
        {
          "output_type": "execute_result",
          "data": {
            "text/html": [
              "<style  type=\"text/css\" >\n",
              "    #T_1420e81c_b1dd_11ea_944d_0242ac1c0002row0_col0 {\n",
              "            background-color:  #ff00ff;\n",
              "            color:  #f1f1f1;\n",
              "        }    #T_1420e81c_b1dd_11ea_944d_0242ac1c0002row0_col1 {\n",
              "            background-color:  #00ffff;\n",
              "            color:  #000000;\n",
              "        }    #T_1420e81c_b1dd_11ea_944d_0242ac1c0002row0_col2 {\n",
              "            background-color:  #05faff;\n",
              "            color:  #000000;\n",
              "        }    #T_1420e81c_b1dd_11ea_944d_0242ac1c0002row0_col3 {\n",
              "            background-color:  #3ec1ff;\n",
              "            color:  #000000;\n",
              "        }    #T_1420e81c_b1dd_11ea_944d_0242ac1c0002row0_col4 {\n",
              "            background-color:  #1ce3ff;\n",
              "            color:  #000000;\n",
              "        }    #T_1420e81c_b1dd_11ea_944d_0242ac1c0002row0_col5 {\n",
              "            background-color:  #21deff;\n",
              "            color:  #000000;\n",
              "        }    #T_1420e81c_b1dd_11ea_944d_0242ac1c0002row1_col0 {\n",
              "            background-color:  #00ffff;\n",
              "            color:  #000000;\n",
              "        }    #T_1420e81c_b1dd_11ea_944d_0242ac1c0002row1_col1 {\n",
              "            background-color:  #ff00ff;\n",
              "            color:  #f1f1f1;\n",
              "        }    #T_1420e81c_b1dd_11ea_944d_0242ac1c0002row1_col2 {\n",
              "            background-color:  #09f6ff;\n",
              "            color:  #000000;\n",
              "        }    #T_1420e81c_b1dd_11ea_944d_0242ac1c0002row1_col3 {\n",
              "            background-color:  #11eeff;\n",
              "            color:  #000000;\n",
              "        }    #T_1420e81c_b1dd_11ea_944d_0242ac1c0002row1_col4 {\n",
              "            background-color:  #1be4ff;\n",
              "            color:  #000000;\n",
              "        }    #T_1420e81c_b1dd_11ea_944d_0242ac1c0002row1_col5 {\n",
              "            background-color:  #19e6ff;\n",
              "            color:  #000000;\n",
              "        }    #T_1420e81c_b1dd_11ea_944d_0242ac1c0002row2_col0 {\n",
              "            background-color:  #00ffff;\n",
              "            color:  #000000;\n",
              "        }    #T_1420e81c_b1dd_11ea_944d_0242ac1c0002row2_col1 {\n",
              "            background-color:  #04fbff;\n",
              "            color:  #000000;\n",
              "        }    #T_1420e81c_b1dd_11ea_944d_0242ac1c0002row2_col2 {\n",
              "            background-color:  #ff00ff;\n",
              "            color:  #f1f1f1;\n",
              "        }    #T_1420e81c_b1dd_11ea_944d_0242ac1c0002row2_col3 {\n",
              "            background-color:  #0ff0ff;\n",
              "            color:  #000000;\n",
              "        }    #T_1420e81c_b1dd_11ea_944d_0242ac1c0002row2_col4 {\n",
              "            background-color:  #1de2ff;\n",
              "            color:  #000000;\n",
              "        }    #T_1420e81c_b1dd_11ea_944d_0242ac1c0002row2_col5 {\n",
              "            background-color:  #10efff;\n",
              "            color:  #000000;\n",
              "        }    #T_1420e81c_b1dd_11ea_944d_0242ac1c0002row3_col0 {\n",
              "            background-color:  #3cc3ff;\n",
              "            color:  #000000;\n",
              "        }    #T_1420e81c_b1dd_11ea_944d_0242ac1c0002row3_col1 {\n",
              "            background-color:  #0df2ff;\n",
              "            color:  #000000;\n",
              "        }    #T_1420e81c_b1dd_11ea_944d_0242ac1c0002row3_col2 {\n",
              "            background-color:  #10efff;\n",
              "            color:  #000000;\n",
              "        }    #T_1420e81c_b1dd_11ea_944d_0242ac1c0002row3_col3 {\n",
              "            background-color:  #ff00ff;\n",
              "            color:  #f1f1f1;\n",
              "        }    #T_1420e81c_b1dd_11ea_944d_0242ac1c0002row3_col4 {\n",
              "            background-color:  #11eeff;\n",
              "            color:  #000000;\n",
              "        }    #T_1420e81c_b1dd_11ea_944d_0242ac1c0002row3_col5 {\n",
              "            background-color:  #1ee1ff;\n",
              "            color:  #000000;\n",
              "        }    #T_1420e81c_b1dd_11ea_944d_0242ac1c0002row4_col0 {\n",
              "            background-color:  #07f8ff;\n",
              "            color:  #000000;\n",
              "        }    #T_1420e81c_b1dd_11ea_944d_0242ac1c0002row4_col1 {\n",
              "            background-color:  #07f8ff;\n",
              "            color:  #000000;\n",
              "        }    #T_1420e81c_b1dd_11ea_944d_0242ac1c0002row4_col2 {\n",
              "            background-color:  #0df2ff;\n",
              "            color:  #000000;\n",
              "        }    #T_1420e81c_b1dd_11ea_944d_0242ac1c0002row4_col3 {\n",
              "            background-color:  #00ffff;\n",
              "            color:  #000000;\n",
              "        }    #T_1420e81c_b1dd_11ea_944d_0242ac1c0002row4_col4 {\n",
              "            background-color:  #ff00ff;\n",
              "            color:  #f1f1f1;\n",
              "        }    #T_1420e81c_b1dd_11ea_944d_0242ac1c0002row4_col5 {\n",
              "            background-color:  #00ffff;\n",
              "            color:  #000000;\n",
              "        }    #T_1420e81c_b1dd_11ea_944d_0242ac1c0002row5_col0 {\n",
              "            background-color:  #0cf3ff;\n",
              "            color:  #000000;\n",
              "        }    #T_1420e81c_b1dd_11ea_944d_0242ac1c0002row5_col1 {\n",
              "            background-color:  #04fbff;\n",
              "            color:  #000000;\n",
              "        }    #T_1420e81c_b1dd_11ea_944d_0242ac1c0002row5_col2 {\n",
              "            background-color:  #00ffff;\n",
              "            color:  #000000;\n",
              "        }    #T_1420e81c_b1dd_11ea_944d_0242ac1c0002row5_col3 {\n",
              "            background-color:  #0ef1ff;\n",
              "            color:  #000000;\n",
              "        }    #T_1420e81c_b1dd_11ea_944d_0242ac1c0002row5_col4 {\n",
              "            background-color:  #00ffff;\n",
              "            color:  #000000;\n",
              "        }    #T_1420e81c_b1dd_11ea_944d_0242ac1c0002row5_col5 {\n",
              "            background-color:  #ff00ff;\n",
              "            color:  #f1f1f1;\n",
              "        }</style><table id=\"T_1420e81c_b1dd_11ea_944d_0242ac1c0002\" ><thead>    <tr>        <th class=\"blank level0\" ></th>        <th class=\"col_heading level0 col0\" >Brand</th>        <th class=\"col_heading level0 col1\" >Variety</th>        <th class=\"col_heading level0 col2\" >Style</th>        <th class=\"col_heading level0 col3\" >Country</th>        <th class=\"col_heading level0 col4\" >Stars</th>        <th class=\"col_heading level0 col5\" >Top Ten</th>    </tr></thead><tbody>\n",
              "                <tr>\n",
              "                        <th id=\"T_1420e81c_b1dd_11ea_944d_0242ac1c0002level0_row0\" class=\"row_heading level0 row0\" >Brand</th>\n",
              "                        <td id=\"T_1420e81c_b1dd_11ea_944d_0242ac1c0002row0_col0\" class=\"data row0 col0\" >1.000000</td>\n",
              "                        <td id=\"T_1420e81c_b1dd_11ea_944d_0242ac1c0002row0_col1\" class=\"data row0 col1\" >-0.032517</td>\n",
              "                        <td id=\"T_1420e81c_b1dd_11ea_944d_0242ac1c0002row0_col2\" class=\"data row0 col2\" >-0.033310</td>\n",
              "                        <td id=\"T_1420e81c_b1dd_11ea_944d_0242ac1c0002row0_col3\" class=\"data row0 col3\" >0.208934</td>\n",
              "                        <td id=\"T_1420e81c_b1dd_11ea_944d_0242ac1c0002row0_col4\" class=\"data row0 col4\" >-0.002231</td>\n",
              "                        <td id=\"T_1420e81c_b1dd_11ea_944d_0242ac1c0002row0_col5\" class=\"data row0 col5\" >0.018992</td>\n",
              "            </tr>\n",
              "            <tr>\n",
              "                        <th id=\"T_1420e81c_b1dd_11ea_944d_0242ac1c0002level0_row1\" class=\"row_heading level0 row1\" >Variety</th>\n",
              "                        <td id=\"T_1420e81c_b1dd_11ea_944d_0242ac1c0002row1_col0\" class=\"data row1 col0\" >-0.032517</td>\n",
              "                        <td id=\"T_1420e81c_b1dd_11ea_944d_0242ac1c0002row1_col1\" class=\"data row1 col1\" >1.000000</td>\n",
              "                        <td id=\"T_1420e81c_b1dd_11ea_944d_0242ac1c0002row1_col2\" class=\"data row1 col2\" >-0.014336</td>\n",
              "                        <td id=\"T_1420e81c_b1dd_11ea_944d_0242ac1c0002row1_col3\" class=\"data row1 col3\" >0.022645</td>\n",
              "                        <td id=\"T_1420e81c_b1dd_11ea_944d_0242ac1c0002row1_col4\" class=\"data row1 col4\" >-0.003585</td>\n",
              "                        <td id=\"T_1420e81c_b1dd_11ea_944d_0242ac1c0002row1_col5\" class=\"data row1 col5\" >-0.015678</td>\n",
              "            </tr>\n",
              "            <tr>\n",
              "                        <th id=\"T_1420e81c_b1dd_11ea_944d_0242ac1c0002level0_row2\" class=\"row_heading level0 row2\" >Style</th>\n",
              "                        <td id=\"T_1420e81c_b1dd_11ea_944d_0242ac1c0002row2_col0\" class=\"data row2 col0\" >-0.033310</td>\n",
              "                        <td id=\"T_1420e81c_b1dd_11ea_944d_0242ac1c0002row2_col1\" class=\"data row2 col1\" >-0.014336</td>\n",
              "                        <td id=\"T_1420e81c_b1dd_11ea_944d_0242ac1c0002row2_col2\" class=\"data row2 col2\" >1.000000</td>\n",
              "                        <td id=\"T_1420e81c_b1dd_11ea_944d_0242ac1c0002row2_col3\" class=\"data row2 col3\" >0.013687</td>\n",
              "                        <td id=\"T_1420e81c_b1dd_11ea_944d_0242ac1c0002row2_col4\" class=\"data row2 col4\" >0.002111</td>\n",
              "                        <td id=\"T_1420e81c_b1dd_11ea_944d_0242ac1c0002row2_col5\" class=\"data row2 col5\" >-0.053918</td>\n",
              "            </tr>\n",
              "            <tr>\n",
              "                        <th id=\"T_1420e81c_b1dd_11ea_944d_0242ac1c0002level0_row3\" class=\"row_heading level0 row3\" >Country</th>\n",
              "                        <td id=\"T_1420e81c_b1dd_11ea_944d_0242ac1c0002row3_col0\" class=\"data row3 col0\" >0.208934</td>\n",
              "                        <td id=\"T_1420e81c_b1dd_11ea_944d_0242ac1c0002row3_col1\" class=\"data row3 col1\" >0.022645</td>\n",
              "                        <td id=\"T_1420e81c_b1dd_11ea_944d_0242ac1c0002row3_col2\" class=\"data row3 col2\" >0.013687</td>\n",
              "                        <td id=\"T_1420e81c_b1dd_11ea_944d_0242ac1c0002row3_col3\" class=\"data row3 col3\" >1.000000</td>\n",
              "                        <td id=\"T_1420e81c_b1dd_11ea_944d_0242ac1c0002row3_col4\" class=\"data row3 col4\" >-0.048844</td>\n",
              "                        <td id=\"T_1420e81c_b1dd_11ea_944d_0242ac1c0002row3_col5\" class=\"data row3 col5\" >0.009168</td>\n",
              "            </tr>\n",
              "            <tr>\n",
              "                        <th id=\"T_1420e81c_b1dd_11ea_944d_0242ac1c0002level0_row4\" class=\"row_heading level0 row4\" >Stars</th>\n",
              "                        <td id=\"T_1420e81c_b1dd_11ea_944d_0242ac1c0002row4_col0\" class=\"data row4 col0\" >-0.002231</td>\n",
              "                        <td id=\"T_1420e81c_b1dd_11ea_944d_0242ac1c0002row4_col1\" class=\"data row4 col1\" >-0.003585</td>\n",
              "                        <td id=\"T_1420e81c_b1dd_11ea_944d_0242ac1c0002row4_col2\" class=\"data row4 col2\" >0.002111</td>\n",
              "                        <td id=\"T_1420e81c_b1dd_11ea_944d_0242ac1c0002row4_col3\" class=\"data row4 col3\" >-0.048844</td>\n",
              "                        <td id=\"T_1420e81c_b1dd_11ea_944d_0242ac1c0002row4_col4\" class=\"data row4 col4\" >1.000000</td>\n",
              "                        <td id=\"T_1420e81c_b1dd_11ea_944d_0242ac1c0002row4_col5\" class=\"data row4 col5\" >-0.126490</td>\n",
              "            </tr>\n",
              "            <tr>\n",
              "                        <th id=\"T_1420e81c_b1dd_11ea_944d_0242ac1c0002level0_row5\" class=\"row_heading level0 row5\" >Top Ten</th>\n",
              "                        <td id=\"T_1420e81c_b1dd_11ea_944d_0242ac1c0002row5_col0\" class=\"data row5 col0\" >0.018992</td>\n",
              "                        <td id=\"T_1420e81c_b1dd_11ea_944d_0242ac1c0002row5_col1\" class=\"data row5 col1\" >-0.015678</td>\n",
              "                        <td id=\"T_1420e81c_b1dd_11ea_944d_0242ac1c0002row5_col2\" class=\"data row5 col2\" >-0.053918</td>\n",
              "                        <td id=\"T_1420e81c_b1dd_11ea_944d_0242ac1c0002row5_col3\" class=\"data row5 col3\" >0.009168</td>\n",
              "                        <td id=\"T_1420e81c_b1dd_11ea_944d_0242ac1c0002row5_col4\" class=\"data row5 col4\" >-0.126490</td>\n",
              "                        <td id=\"T_1420e81c_b1dd_11ea_944d_0242ac1c0002row5_col5\" class=\"data row5 col5\" >1.000000</td>\n",
              "            </tr>\n",
              "    </tbody></table>"
            ],
            "text/plain": [
              "<pandas.io.formats.style.Styler at 0x7f6b5fa8f710>"
            ]
          },
          "metadata": {
            "tags": []
          },
          "execution_count": 8
        }
      ]
    },
    {
      "cell_type": "code",
      "metadata": {
        "id": "z60ZPI9nxRFT",
        "colab_type": "code",
        "colab": {
          "base_uri": "https://localhost:8080/",
          "height": 104
        },
        "outputId": "57473069-3df6-4530-baba-85fb5a67dd47"
      },
      "source": [
        "# After running the model, we get model accuracy equal to 76% on test dataset \n",
        "# Moreover, the performance on the training dataset is 77%. This indicates it is a very stable model.\n",
        "from sklearn.linear_model import LogisticRegression\n",
        "from sklearn.model_selection import train_test_split\n",
        "remen_df.loc[remen_df['Stars']>3,'Stars_Ind']=1\n",
        "remen_df['Stars_Ind'].fillna(0,inplace=True)\n",
        "X=remen_df.drop(['Stars','Stars_Ind','Review #'], axis=1)\n",
        "y=remen_df['Stars_Ind']\n",
        "X_train, X_test, y_train, y_test = train_test_split(X, y, random_state=1859, test_size=0.3)\n",
        "logit_model = LogisticRegression(max_iter=1000).fit(X_train,y_train)\n",
        "print(\"linear_model.coef_:\", logit_model.coef_)\n",
        "print(\"linear_modelintercept_:\", logit_model.intercept_)\n",
        "print(\"Model accuracy on the training dataset is : {:.2f}\".format(logit_model.score(X_train,y_train)))\n",
        "print(\"Model accuracy on the testing dataset is : {:.2f}\".format(logit_model.score(X_test, y_test)))"
      ],
      "execution_count": 23,
      "outputs": [
        {
          "output_type": "stream",
          "text": [
            "linear_model.coef_: [[ 2.81676957e-04 -8.13488059e-05  5.35822108e-03 -2.62471998e-03\n",
            "   4.14590770e-02]]\n",
            "linear_modelintercept_: [0.00158299]\n",
            "Model accuracy on the training dataset is : 0.77\n",
            "Model accuracy on the testing dataset is : 0.76\n"
          ],
          "name": "stdout"
        }
      ]
    },
    {
      "cell_type": "markdown",
      "metadata": {
        "id": "0ebbk8IXFpbS",
        "colab_type": "text"
      },
      "source": [
        "**Note: Please check the attached Word Document for the answers for this week's lab assignment questions. Thanks**"
      ]
    },
    {
      "cell_type": "markdown",
      "metadata": {
        "id": "rL4-iAvkiWpN",
        "colab_type": "text"
      },
      "source": [
        "### <font color = 'orange'>------------------------------------------------------------------------END--------------------------------------------------------------------------------- </font>"
      ]
    }
  ]
}